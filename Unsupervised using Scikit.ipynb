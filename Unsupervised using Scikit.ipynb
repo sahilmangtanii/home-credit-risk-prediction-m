{
 "cells": [
  {
   "cell_type": "markdown",
   "metadata": {},
   "source": [
    "# Unsupervised Learning Technique (Anomaly detection)"
   ]
  },
  {
   "cell_type": "markdown",
   "metadata": {},
   "source": [
    "This notebook show how Unsupervised Machine Learning techniques can be used to predict the Loan defaulters\n",
    "\n",
    "Algorithms used:<br>\n",
    "Isolation Forest<br>\n",
    "Local Outlier Factor<br>\n",
    "Principal Component Analysis (PCA)<br>\n",
    "Kernel Principal Component Analysis (Kernel PCA)"
   ]
  },
  {
   "cell_type": "markdown",
   "metadata": {
    "_uuid": "013aadf35263381f72adc6ac9453a6ddab95b14e",
    "id": "FkmsKFLPV8V4"
   },
   "source": [
    "### Load the data"
   ]
  },
  {
   "cell_type": "code",
   "execution_count": 1,
   "metadata": {
    "_uuid": "778d7eb0679cac970a01cbaa64033c78d20d19cc",
    "executionInfo": {
     "elapsed": 3147,
     "status": "ok",
     "timestamp": 1602584047583,
     "user": {
      "displayName": "KEERTHIVASINI R 1928036",
      "photoUrl": "https://lh3.googleusercontent.com/a-/AOh14GjE-mLKrJl0IuVyXmWK6gul8q-AjohuZGI_E5Ur=s64",
      "userId": "17476792325048702527"
     },
     "user_tz": -330
    },
    "id": "ctqL8DkjV8V8"
   },
   "outputs": [],
   "source": [
    "import pandas as pd \n",
    "import numpy as np\n",
    "import matplotlib\n",
    "import matplotlib.pyplot as plt\n",
    "import seaborn as sns\n",
    "%matplotlib inline \n",
    "\n",
    "import sys\n",
    "import warnings\n",
    "warnings.filterwarnings(\"ignore\")\n",
    "\n",
    "# to visualise al the columns in the dataframe\n",
    "pd.pandas.set_option('display.max_columns', None)"
   ]
  },
  {
   "cell_type": "code",
   "execution_count": 2,
   "metadata": {},
   "outputs": [],
   "source": [
    "application_train = pd.read_csv('cleandata.csv')"
   ]
  },
  {
   "cell_type": "markdown",
   "metadata": {
    "id": "475dHARvV8cf"
   },
   "source": [
    "## Modeling"
   ]
  },
  {
   "cell_type": "markdown",
   "metadata": {
    "id": "FOc82gymGXOE"
   },
   "source": [
    "### Partitioning"
   ]
  },
  {
   "cell_type": "code",
   "execution_count": 3,
   "metadata": {
    "colab": {
     "base_uri": "https://localhost:8080/",
     "height": 87
    },
    "executionInfo": {
     "elapsed": 134286,
     "status": "ok",
     "timestamp": 1602584179912,
     "user": {
      "displayName": "KEERTHIVASINI R 1928036",
      "photoUrl": "https://lh3.googleusercontent.com/a-/AOh14GjE-mLKrJl0IuVyXmWK6gul8q-AjohuZGI_E5Ur=s64",
      "userId": "17476792325048702527"
     },
     "user_tz": -330
    },
    "id": "k-0NefryV8cg",
    "outputId": "4ea7c045-429c-4040-c956-b72eef31294e"
   },
   "outputs": [
    {
     "name": "stdout",
     "output_type": "stream",
     "text": [
      "outlier_fraction for the whole dataset:\n",
      "0.08781828601345662\n",
      "Fraud Cases : 24825\n",
      "Valid Cases : 282686\n"
     ]
    }
   ],
   "source": [
    "#Determine the number of fraud and valid transactions in the dataset\n",
    "\n",
    "Fraud = application_train[application_train['TARGET']==1]\n",
    "\n",
    "Valid = application_train[application_train['TARGET']==0]\n",
    "\n",
    "outlier_fraction = len(Fraud)/float(len(Valid))\n",
    "\n",
    "print('outlier_fraction for the whole dataset:')\n",
    "print(outlier_fraction)\n",
    "\n",
    "print(\"Fraud Cases : {}\".format(len(Fraud)))\n",
    "\n",
    "print(\"Valid Cases : {}\".format(len(Valid)))"
   ]
  },
  {
   "cell_type": "code",
   "execution_count": 4,
   "metadata": {
    "colab": {
     "base_uri": "https://localhost:8080/",
     "height": 52
    },
    "executionInfo": {
     "elapsed": 134803,
     "status": "ok",
     "timestamp": 1602584180485,
     "user": {
      "displayName": "KEERTHIVASINI R 1928036",
      "photoUrl": "https://lh3.googleusercontent.com/a-/AOh14GjE-mLKrJl0IuVyXmWK6gul8q-AjohuZGI_E5Ur=s64",
      "userId": "17476792325048702527"
     },
     "user_tz": -330
    },
    "id": "CHStSM9tV8ci",
    "outputId": "f577384a-9631-48d3-acf7-ca33a8d065f7"
   },
   "outputs": [
    {
     "name": "stdout",
     "output_type": "stream",
     "text": [
      "(246008, 210) (246008,)\n",
      "(61503, 210) (61503,)\n"
     ]
    }
   ],
   "source": [
    "from sklearn.model_selection import train_test_split\n",
    "\n",
    "#Create independent and Dependent Features\n",
    "columns = application_train.columns.tolist()\n",
    "# Filter the columns to remove data we do not want \n",
    "columns = [c for c in columns if c not in [\"TARGET\"]]\n",
    "# Store the variable we are predicting \n",
    "target = \"TARGET\"\n",
    "# Define a random state \n",
    "state = np.random.RandomState(42)\n",
    "X = application_train[columns]\n",
    "y = application_train[target]\n",
    "X_train, X_test, y_train, y_test = train_test_split(X, y, test_size=0.2)\n",
    "print(X_train.shape, y_train.shape)\n",
    "print(X_test.shape, y_test.shape)"
   ]
  },
  {
   "cell_type": "markdown",
   "metadata": {
    "id": "AVdWjUQX4Tnq"
   },
   "source": [
    "### More Feature Selection"
   ]
  },
  {
   "cell_type": "code",
   "execution_count": 5,
   "metadata": {
    "executionInfo": {
     "elapsed": 134752,
     "status": "ok",
     "timestamp": 1602584180487,
     "user": {
      "displayName": "KEERTHIVASINI R 1928036",
      "photoUrl": "https://lh3.googleusercontent.com/a-/AOh14GjE-mLKrJl0IuVyXmWK6gul8q-AjohuZGI_E5Ur=s64",
      "userId": "17476792325048702527"
     },
     "user_tz": -330
    },
    "id": "vJI33XMn4ajM"
   },
   "outputs": [],
   "source": [
    "from sklearn.ensemble import RandomForestClassifier\n",
    "from sklearn.feature_selection import SelectFromModel"
   ]
  },
  {
   "cell_type": "code",
   "execution_count": 6,
   "metadata": {
    "colab": {
     "base_uri": "https://localhost:8080/",
     "height": 316
    },
    "executionInfo": {
     "elapsed": 266763,
     "status": "ok",
     "timestamp": 1602584312518,
     "user": {
      "displayName": "KEERTHIVASINI R 1928036",
      "photoUrl": "https://lh3.googleusercontent.com/a-/AOh14GjE-mLKrJl0IuVyXmWK6gul8q-AjohuZGI_E5Ur=s64",
      "userId": "17476792325048702527"
     },
     "user_tz": -330
    },
    "id": "zmEFeqeg45pC",
    "outputId": "413ded2b-fd4e-4f17-a388-249361a8f70d"
   },
   "outputs": [
    {
     "data": {
      "text/plain": [
       "SelectFromModel(estimator=RandomForestClassifier(random_state=RandomState(MT19937) at 0x1D4148DDD08))"
      ]
     },
     "execution_count": 6,
     "metadata": {},
     "output_type": "execute_result"
    }
   ],
   "source": [
    "sel = SelectFromModel(RandomForestClassifier(n_estimators = 100, random_state=state))\n",
    "sel.fit(X_train, y_train)"
   ]
  },
  {
   "cell_type": "code",
   "execution_count": 7,
   "metadata": {
    "colab": {
     "base_uri": "https://localhost:8080/",
     "height": 439
    },
    "executionInfo": {
     "elapsed": 266752,
     "status": "ok",
     "timestamp": 1602584312519,
     "user": {
      "displayName": "KEERTHIVASINI R 1928036",
      "photoUrl": "https://lh3.googleusercontent.com/a-/AOh14GjE-mLKrJl0IuVyXmWK6gul8q-AjohuZGI_E5Ur=s64",
      "userId": "17476792325048702527"
     },
     "user_tz": -330
    },
    "id": "AHUzK0YK4-nz",
    "outputId": "2fe795cb-0139-43cc-a816-07cf0221219b"
   },
   "outputs": [
    {
     "data": {
      "text/plain": [
       "array([False, False,  True,  True,  True,  True,  True,  True,  True,\n",
       "        True,  True,  True,  True, False, False, False, False,  True,\n",
       "        True, False, False, False, False, False,  True,  True,  True,\n",
       "        True,  True,  True,  True,  True, False,  True,  True,  True,\n",
       "        True,  True,  True, False,  True,  True, False,  True,  True,\n",
       "        True, False,  True, False, False, False, False, False, False,\n",
       "       False, False, False, False, False, False, False, False, False,\n",
       "       False, False, False, False, False, False, False, False,  True,\n",
       "        True,  True, False, False, False, False, False, False, False,\n",
       "       False, False, False, False, False, False, False, False, False,\n",
       "       False, False, False, False, False, False, False, False,  True,\n",
       "       False, False, False, False, False, False, False, False, False,\n",
       "       False, False, False, False, False, False, False, False, False,\n",
       "        True, False, False, False, False, False, False, False, False,\n",
       "       False, False, False, False, False, False, False, False, False,\n",
       "       False, False, False, False, False, False, False, False, False,\n",
       "       False, False, False, False, False, False, False, False, False,\n",
       "       False, False, False, False, False, False, False, False, False,\n",
       "       False, False, False, False, False, False, False, False, False,\n",
       "       False, False, False, False, False, False, False, False, False,\n",
       "       False, False, False, False, False, False, False, False, False,\n",
       "       False, False, False, False, False, False, False, False, False,\n",
       "       False, False, False, False, False, False, False, False,  True,\n",
       "        True,  True,  True])"
      ]
     },
     "execution_count": 7,
     "metadata": {},
     "output_type": "execute_result"
    }
   ],
   "source": [
    "sel.get_support()"
   ]
  },
  {
   "cell_type": "code",
   "execution_count": 8,
   "metadata": {
    "colab": {
     "base_uri": "https://localhost:8080/",
     "height": 34
    },
    "executionInfo": {
     "elapsed": 266741,
     "status": "ok",
     "timestamp": 1602584312520,
     "user": {
      "displayName": "KEERTHIVASINI R 1928036",
      "photoUrl": "https://lh3.googleusercontent.com/a-/AOh14GjE-mLKrJl0IuVyXmWK6gul8q-AjohuZGI_E5Ur=s64",
      "userId": "17476792325048702527"
     },
     "user_tz": -330
    },
    "id": "j9SLwQ8c5AaZ",
    "outputId": "34976b2e-328e-411c-847a-08b647fa60e0"
   },
   "outputs": [
    {
     "data": {
      "text/plain": [
       "42"
      ]
     },
     "execution_count": 8,
     "metadata": {},
     "output_type": "execute_result"
    }
   ],
   "source": [
    "selected_feat= X_train.columns[(sel.get_support())].tolist()\n",
    "len(selected_feat)"
   ]
  },
  {
   "cell_type": "code",
   "execution_count": 9,
   "metadata": {
    "colab": {
     "base_uri": "https://localhost:8080/",
     "height": 54
    },
    "executionInfo": {
     "elapsed": 266716,
     "status": "ok",
     "timestamp": 1602584312521,
     "user": {
      "displayName": "KEERTHIVASINI R 1928036",
      "photoUrl": "https://lh3.googleusercontent.com/a-/AOh14GjE-mLKrJl0IuVyXmWK6gul8q-AjohuZGI_E5Ur=s64",
      "userId": "17476792325048702527"
     },
     "user_tz": -330
    },
    "id": "z9tukYgm5Ch2",
    "outputId": "e47d0fd1-2bcc-48de-83cc-4bb0f7bf71d1"
   },
   "outputs": [
    {
     "name": "stdout",
     "output_type": "stream",
     "text": [
      "['FLAG_OWN_REALTY', 'CNT_CHILDREN', 'AMT_INCOME_TOTAL', 'AMT_CREDIT', 'AMT_ANNUITY', 'AMT_GOODS_PRICE', 'DAYS_BIRTH', 'DAYS_EMPLOYED', 'DAYS_REGISTRATION', 'DAYS_ID_PUBLISH', 'OWN_CAR_AGE', 'CNT_FAM_MEMBERS', 'REGION_RATING_CLIENT', 'EXT_SOURCE_1', 'EXT_SOURCE_2', 'EXT_SOURCE_3', 'APARTMENTS_AVG', 'BASEMENTAREA_AVG', 'YEARS_BEGINEXPLUATATION_AVG', 'YEARS_BUILD_AVG', 'COMMONAREA_AVG', 'ENTRANCES_AVG', 'FLOORSMAX_AVG', 'FLOORSMIN_AVG', 'LANDAREA_AVG', 'LIVINGAPARTMENTS_AVG', 'LIVINGAREA_AVG', 'NONLIVINGAREA_AVG', 'TOTALAREA_MODE', 'OBS_30_CNT_SOCIAL_CIRCLE', 'DEF_30_CNT_SOCIAL_CIRCLE', 'OBS_60_CNT_SOCIAL_CIRCLE', 'DAYS_LAST_PHONE_CHANGE', 'AMT_REQ_CREDIT_BUREAU_MON', 'AMT_REQ_CREDIT_BUREAU_QRT', 'AMT_REQ_CREDIT_BUREAU_YEAR', 'NAME_FAMILY_STATUS_Married', 'OCCUPATION_TYPE_Laborers', 'CREDIT_INCOME_PERCENT', 'ANNUITY_INCOME_PERCENT', 'CREDIT_TERM', 'DAYS_EMPLOYED_PERCENT']\n"
     ]
    }
   ],
   "source": [
    "print(selected_feat)"
   ]
  },
  {
   "cell_type": "code",
   "execution_count": 10,
   "metadata": {
    "executionInfo": {
     "elapsed": 266701,
     "status": "ok",
     "timestamp": 1602584312521,
     "user": {
      "displayName": "KEERTHIVASINI R 1928036",
      "photoUrl": "https://lh3.googleusercontent.com/a-/AOh14GjE-mLKrJl0IuVyXmWK6gul8q-AjohuZGI_E5Ur=s64",
      "userId": "17476792325048702527"
     },
     "user_tz": -330
    },
    "id": "6y2s0zxcmNVW"
   },
   "outputs": [],
   "source": [
    "app_X_train = X_train.copy() #Taking a copy before dropping \n",
    "app_X_test = X_test.copy()"
   ]
  },
  {
   "cell_type": "code",
   "execution_count": 11,
   "metadata": {
    "executionInfo": {
     "elapsed": 266693,
     "status": "ok",
     "timestamp": 1602584312522,
     "user": {
      "displayName": "KEERTHIVASINI R 1928036",
      "photoUrl": "https://lh3.googleusercontent.com/a-/AOh14GjE-mLKrJl0IuVyXmWK6gul8q-AjohuZGI_E5Ur=s64",
      "userId": "17476792325048702527"
     },
     "user_tz": -330
    },
    "id": "XRO64vlLmWx2"
   },
   "outputs": [],
   "source": [
    "X_train = X_train[selected_feat]\n",
    "X_test = X_test[selected_feat]"
   ]
  },
  {
   "cell_type": "code",
   "execution_count": 12,
   "metadata": {
    "colab": {
     "base_uri": "https://localhost:8080/",
     "height": 34
    },
    "executionInfo": {
     "elapsed": 266680,
     "status": "ok",
     "timestamp": 1602584312522,
     "user": {
      "displayName": "KEERTHIVASINI R 1928036",
      "photoUrl": "https://lh3.googleusercontent.com/a-/AOh14GjE-mLKrJl0IuVyXmWK6gul8q-AjohuZGI_E5Ur=s64",
      "userId": "17476792325048702527"
     },
     "user_tz": -330
    },
    "id": "c6Bo85pgnTDG",
    "outputId": "4c971513-eb33-458c-dde2-0fb46648fb95"
   },
   "outputs": [
    {
     "name": "stdout",
     "output_type": "stream",
     "text": [
      "(246008, 42) (61503, 42)\n"
     ]
    }
   ],
   "source": [
    "print (X_train.shape, X_test.shape)"
   ]
  },
  {
   "cell_type": "markdown",
   "metadata": {
    "id": "Nx4p9AR8lVdW"
   },
   "source": [
    "------------------------------"
   ]
  },
  {
   "cell_type": "code",
   "execution_count": 13,
   "metadata": {},
   "outputs": [],
   "source": [
    "from sklearn.metrics import classification_report,accuracy_score, f1_score, roc_auc_score\n",
    "from sklearn.metrics import confusion_matrix\n",
    "\n",
    "from sklearn.ensemble import IsolationForest\n",
    "from sklearn.neighbors import LocalOutlierFactor\n",
    "from sklearn.svm import OneClassSVM"
   ]
  },
  {
   "cell_type": "markdown",
   "metadata": {
    "id": "BGroFZYrao0R"
   },
   "source": [
    "### Isolation Forest"
   ]
  },
  {
   "cell_type": "code",
   "execution_count": 14,
   "metadata": {
    "executionInfo": {
     "elapsed": 266669,
     "status": "ok",
     "timestamp": 1602584312524,
     "user": {
      "displayName": "KEERTHIVASINI R 1928036",
      "photoUrl": "https://lh3.googleusercontent.com/a-/AOh14GjE-mLKrJl0IuVyXmWK6gul8q-AjohuZGI_E5Ur=s64",
      "userId": "17476792325048702527"
     },
     "user_tz": -330
    },
    "id": "auxAZ-_eatEw"
   },
   "outputs": [],
   "source": [
    "clf = IsolationForest(n_estimators= 120, max_samples=len(X_train), contamination=outlier_fraction, random_state=state, verbose=0)"
   ]
  },
  {
   "cell_type": "code",
   "execution_count": 15,
   "metadata": {
    "colab": {
     "base_uri": "https://localhost:8080/",
     "height": 105
    },
    "executionInfo": {
     "elapsed": 304595,
     "status": "ok",
     "timestamp": 1602584350461,
     "user": {
      "displayName": "KEERTHIVASINI R 1928036",
      "photoUrl": "https://lh3.googleusercontent.com/a-/AOh14GjE-mLKrJl0IuVyXmWK6gul8q-AjohuZGI_E5Ur=s64",
      "userId": "17476792325048702527"
     },
     "user_tz": -330
    },
    "id": "DAgrD5D0avT7",
    "outputId": "bec1c9da-ca87-4fa7-b3ac-8357705bfe5b"
   },
   "outputs": [
    {
     "data": {
      "text/plain": [
       "IsolationForest(contamination=0.08781828601345662, max_samples=246008,\n",
       "                n_estimators=120,\n",
       "                random_state=RandomState(MT19937) at 0x1D4148DDD08)"
      ]
     },
     "execution_count": 15,
     "metadata": {},
     "output_type": "execute_result"
    }
   ],
   "source": [
    "clf.fit(X_train,y_train)"
   ]
  },
  {
   "cell_type": "code",
   "execution_count": 16,
   "metadata": {
    "colab": {
     "base_uri": "https://localhost:8080/",
     "height": 517
    },
    "executionInfo": {
     "elapsed": 310814,
     "status": "ok",
     "timestamp": 1602584356697,
     "user": {
      "displayName": "KEERTHIVASINI R 1928036",
      "photoUrl": "https://lh3.googleusercontent.com/a-/AOh14GjE-mLKrJl0IuVyXmWK6gul8q-AjohuZGI_E5Ur=s64",
      "userId": "17476792325048702527"
     },
     "user_tz": -330
    },
    "id": "Nc-Oz6hnaxQd",
    "outputId": "90264e15-ba90-45bf-cc27-46ce2afa015b"
   },
   "outputs": [
    {
     "data": {
      "text/plain": [
       "Text(0.5, 1.0, 'Histogram of Avg Anomaly Scores: Lower => More Anomalous')"
      ]
     },
     "execution_count": 16,
     "metadata": {},
     "output_type": "execute_result"
    },
    {
     "data": {
      "image/png": "[encoded data removed]",
      "text/plain": [
       "<Figure size 864x576 with 1 Axes>"
      ]
     },
     "metadata": {
      "needs_background": "light"
     },
     "output_type": "display_data"
    }
   ],
   "source": [
    "if_scores = clf.decision_function(X_test)\n",
    "plt.figure(figsize=(12,8))\n",
    "\n",
    "plt.hist(if_scores)\n",
    "plt.title('Histogram of Avg Anomaly Scores: Lower => More Anomalous')"
   ]
  },
  {
   "cell_type": "code",
   "execution_count": 17,
   "metadata": {
    "executionInfo": {
     "elapsed": 316589,
     "status": "ok",
     "timestamp": 1602584362489,
     "user": {
      "displayName": "KEERTHIVASINI R 1928036",
      "photoUrl": "https://lh3.googleusercontent.com/a-/AOh14GjE-mLKrJl0IuVyXmWK6gul8q-AjohuZGI_E5Ur=s64",
      "userId": "17476792325048702527"
     },
     "user_tz": -330
    },
    "id": "AbNmsptPazID"
   },
   "outputs": [],
   "source": [
    "y_pred = clf.predict(X_test)"
   ]
  },
  {
   "cell_type": "code",
   "execution_count": 18,
   "metadata": {
    "executionInfo": {
     "elapsed": 316579,
     "status": "ok",
     "timestamp": 1602584362490,
     "user": {
      "displayName": "KEERTHIVASINI R 1928036",
      "photoUrl": "https://lh3.googleusercontent.com/a-/AOh14GjE-mLKrJl0IuVyXmWK6gul8q-AjohuZGI_E5Ur=s64",
      "userId": "17476792325048702527"
     },
     "user_tz": -330
    },
    "id": "xVLaljDZa1CV"
   },
   "outputs": [],
   "source": [
    "#Reshape the prediction values to 0 for Valid transactions , 1 for Fraud transactions\n",
    "y_pred[y_pred == 1] = 0\n",
    "y_pred[y_pred == -1] = 1\n",
    "n_errors = (y_pred != y_test).sum()"
   ]
  },
  {
   "cell_type": "code",
   "execution_count": 19,
   "metadata": {
    "colab": {
     "base_uri": "https://localhost:8080/",
     "height": 316
    },
    "executionInfo": {
     "elapsed": 316912,
     "status": "ok",
     "timestamp": 1602584362835,
     "user": {
      "displayName": "KEERTHIVASINI R 1928036",
      "photoUrl": "https://lh3.googleusercontent.com/a-/AOh14GjE-mLKrJl0IuVyXmWK6gul8q-AjohuZGI_E5Ur=s64",
      "userId": "17476792325048702527"
     },
     "user_tz": -330
    },
    "id": "oyV6k5oJa35_",
    "outputId": "a1c7e864-53f6-4ad9-d352-9271772b1d80"
   },
   "outputs": [
    {
     "name": "stdout",
     "output_type": "stream",
     "text": [
      "Isolation Forest errors: 9782\n",
      "Accuracy Score :\n",
      "0.8409508479261174\n",
      "Confusion matrix :\n",
      "[[51388  5070]\n",
      " [ 4712   333]]\n",
      "Classification Report :\n",
      "              precision    recall  f1-score   support\n",
      "\n",
      "           0       0.92      0.91      0.91     56458\n",
      "           1       0.06      0.07      0.06      5045\n",
      "\n",
      "    accuracy                           0.84     61503\n",
      "   macro avg       0.49      0.49      0.49     61503\n",
      "weighted avg       0.85      0.84      0.84     61503\n",
      "\n",
      "ROC AUC score is:  0.48810233914114776\n"
     ]
    }
   ],
   "source": [
    "\n",
    "# Run Classification Metrics\n",
    "print(\"{}: {}\".format(\"Isolation Forest errors\",n_errors))\n",
    "print(\"Accuracy Score :\")\n",
    "print(accuracy_score(y_test,y_pred))\n",
    "print(\"Confusion matrix :\")\n",
    "print(confusion_matrix(y_test, y_pred))\n",
    "print(\"Classification Report :\")\n",
    "print(classification_report(y_test,y_pred))\n",
    "print(\"ROC AUC score is: \",roc_auc_score(y_test,y_pred))"
   ]
  },
  {
   "cell_type": "markdown",
   "metadata": {
    "id": "Wj2MQrmLa49F"
   },
   "source": [
    "### Local Outlier Factor"
   ]
  },
  {
   "cell_type": "code",
   "execution_count": 20,
   "metadata": {
    "executionInfo": {
     "elapsed": 316898,
     "status": "ok",
     "timestamp": 1602584362838,
     "user": {
      "displayName": "KEERTHIVASINI R 1928036",
      "photoUrl": "https://lh3.googleusercontent.com/a-/AOh14GjE-mLKrJl0IuVyXmWK6gul8q-AjohuZGI_E5Ur=s64",
      "userId": "17476792325048702527"
     },
     "user_tz": -330
    },
    "id": "kEW_MtNHa9eb"
   },
   "outputs": [],
   "source": [
    "lof = LocalOutlierFactor(n_neighbors=20, algorithm='auto', \n",
    "                                              leaf_size=30, metric='minkowski',\n",
    "                                              p=2, metric_params=None, contamination = outlier_fraction, novelty=True) #novelty = True to test on unseen data"
   ]
  },
  {
   "cell_type": "code",
   "execution_count": 21,
   "metadata": {
    "colab": {
     "base_uri": "https://localhost:8080/",
     "height": 70
    },
    "executionInfo": {
     "elapsed": 359087,
     "status": "ok",
     "timestamp": 1602584405049,
     "user": {
      "displayName": "KEERTHIVASINI R 1928036",
      "photoUrl": "https://lh3.googleusercontent.com/a-/AOh14GjE-mLKrJl0IuVyXmWK6gul8q-AjohuZGI_E5Ur=s64",
      "userId": "17476792325048702527"
     },
     "user_tz": -330
    },
    "id": "JzkHJlQYa_J6",
    "outputId": "8f77d9c0-bca3-4b67-91ec-f34b2b34535d"
   },
   "outputs": [
    {
     "data": {
      "text/plain": [
       "LocalOutlierFactor(contamination=0.08781828601345662, novelty=True)"
      ]
     },
     "execution_count": 21,
     "metadata": {},
     "output_type": "execute_result"
    }
   ],
   "source": [
    "lof.fit(X_train,y_train)"
   ]
  },
  {
   "cell_type": "code",
   "execution_count": 22,
   "metadata": {
    "executionInfo": {
     "elapsed": 368312,
     "status": "ok",
     "timestamp": 1602584414296,
     "user": {
      "displayName": "KEERTHIVASINI R 1928036",
      "photoUrl": "https://lh3.googleusercontent.com/a-/AOh14GjE-mLKrJl0IuVyXmWK6gul8q-AjohuZGI_E5Ur=s64",
      "userId": "17476792325048702527"
     },
     "user_tz": -330
    },
    "id": "uOkQLl0ibBFV"
   },
   "outputs": [],
   "source": [
    "y_pred = lof.predict(X_test)"
   ]
  },
  {
   "cell_type": "code",
   "execution_count": 23,
   "metadata": {
    "colab": {
     "base_uri": "https://localhost:8080/",
     "height": 517
    },
    "executionInfo": {
     "elapsed": 369501,
     "status": "ok",
     "timestamp": 1602584415508,
     "user": {
      "displayName": "KEERTHIVASINI R 1928036",
      "photoUrl": "https://lh3.googleusercontent.com/a-/AOh14GjE-mLKrJl0IuVyXmWK6gul8q-AjohuZGI_E5Ur=s64",
      "userId": "17476792325048702527"
     },
     "user_tz": -330
    },
    "id": "aanasmUSbDZa",
    "outputId": "ae21bcd6-67d9-48fd-e931-dfb6354235c4"
   },
   "outputs": [
    {
     "data": {
      "text/plain": [
       "Text(0.5, 1.0, 'Histogram of Avg Anomaly Scores: Higher => More Anomalous')"
      ]
     },
     "execution_count": 23,
     "metadata": {},
     "output_type": "execute_result"
    },
    {
     "data": {
      "image/png": "[encoded data removed]",
      "text/plain": [
       "<Figure size 864x576 with 1 Axes>"
      ]
     },
     "metadata": {
      "needs_background": "light"
     },
     "output_type": "display_data"
    }
   ],
   "source": [
    "LOF_Scores = lof.negative_outlier_factor_\n",
    "plt.figure(figsize=(12,8))\n",
    "\n",
    "bins = np.linspace(0.5, 2.5)\n",
    "plt.hist(-LOF_Scores, bins)\n",
    "plt.title('Histogram of Avg Anomaly Scores: Higher => More Anomalous')\n"
   ]
  },
  {
   "cell_type": "code",
   "execution_count": 24,
   "metadata": {
    "colab": {
     "base_uri": "https://localhost:8080/",
     "height": 316
    },
    "executionInfo": {
     "elapsed": 369487,
     "status": "ok",
     "timestamp": 1602584415509,
     "user": {
      "displayName": "KEERTHIVASINI R 1928036",
      "photoUrl": "https://lh3.googleusercontent.com/a-/AOh14GjE-mLKrJl0IuVyXmWK6gul8q-AjohuZGI_E5Ur=s64",
      "userId": "17476792325048702527"
     },
     "user_tz": -330
    },
    "id": "QoTf0iqLbGih",
    "outputId": "28f0c1f9-551d-4a7f-8da6-aa6a9a10392e"
   },
   "outputs": [
    {
     "name": "stdout",
     "output_type": "stream",
     "text": [
      "Local Outlier Factor errors: 9756\n",
      "Accuracy Score :\n",
      "0.8413735915321204\n",
      "Confusion matrix :\n",
      "[[51302  5156]\n",
      " [ 4600   445]]\n",
      "Classification Report :\n",
      "              precision    recall  f1-score   support\n",
      "\n",
      "           0       0.92      0.91      0.91     56458\n",
      "           1       0.08      0.09      0.08      5045\n",
      "\n",
      "    accuracy                           0.84     61503\n",
      "   macro avg       0.50      0.50      0.50     61503\n",
      "weighted avg       0.85      0.84      0.85     61503\n",
      "\n",
      "ROC AUC score is:  0.49844081013624203\n"
     ]
    }
   ],
   "source": [
    "y_pred[y_pred == 1] = 0\n",
    "y_pred[y_pred == -1] = 1\n",
    "n_errors = (y_pred != y_test).sum()\n",
    "# Run Classification Metrics\n",
    "print(\"{}: {}\".format(\"Local Outlier Factor errors\",n_errors))\n",
    "print(\"Accuracy Score :\")\n",
    "print(accuracy_score(y_test,y_pred))\n",
    "print(\"Confusion matrix :\")\n",
    "print(confusion_matrix(y_test, y_pred))\n",
    "print(\"Classification Report :\")\n",
    "print(classification_report(y_test,y_pred))\n",
    "print(\"ROC AUC score is: \",roc_auc_score(y_test,y_pred))"
   ]
  },
  {
   "cell_type": "markdown",
   "metadata": {
    "id": "qZuQiJ4gDPlr"
   },
   "source": [
    "### PCA"
   ]
  },
  {
   "cell_type": "code",
   "execution_count": 25,
   "metadata": {
    "executionInfo": {
     "elapsed": 369476,
     "status": "ok",
     "timestamp": 1602584415510,
     "user": {
      "displayName": "KEERTHIVASINI R 1928036",
      "photoUrl": "https://lh3.googleusercontent.com/a-/AOh14GjE-mLKrJl0IuVyXmWK6gul8q-AjohuZGI_E5Ur=s64",
      "userId": "17476792325048702527"
     },
     "user_tz": -330
    },
    "id": "X7qbYyerGA-w"
   },
   "outputs": [],
   "source": [
    "from sklearn.metrics import precision_recall_curve\n",
    "from sklearn.metrics import average_precision_score\n",
    "\n",
    "from sklearn.metrics import roc_curve\n",
    "from sklearn.metrics import auc\n"
   ]
  },
  {
   "cell_type": "code",
   "execution_count": 26,
   "metadata": {
    "executionInfo": {
     "elapsed": 1018,
     "status": "ok",
     "timestamp": 1602585532622,
     "user": {
      "displayName": "KEERTHIVASINI R 1928036",
      "photoUrl": "https://lh3.googleusercontent.com/a-/AOh14GjE-mLKrJl0IuVyXmWK6gul8q-AjohuZGI_E5Ur=s64",
      "userId": "17476792325048702527"
     },
     "user_tz": -330
    },
    "id": "4zTqEH6eDxec"
   },
   "outputs": [],
   "source": [
    "def anomalyScores(originalDF, reducedDF):\n",
    "    loss = np.sum((np.array(originalDF)-np.array(reducedDF))**2, axis=1)\n",
    "    loss = pd.Series(data=loss,index=originalDF.index)\n",
    "    loss = (loss-np.min(loss))/(np.max(loss)-np.min(loss))\n",
    "    return loss"
   ]
  },
  {
   "cell_type": "code",
   "execution_count": 27,
   "metadata": {
    "executionInfo": {
     "elapsed": 369451,
     "status": "ok",
     "timestamp": 1602584415511,
     "user": {
      "displayName": "KEERTHIVASINI R 1928036",
      "photoUrl": "https://lh3.googleusercontent.com/a-/AOh14GjE-mLKrJl0IuVyXmWK6gul8q-AjohuZGI_E5Ur=s64",
      "userId": "17476792325048702527"
     },
     "user_tz": -330
    },
    "id": "GQaCIFHYD3YX"
   },
   "outputs": [],
   "source": [
    "def plotResults(trueLabels, anomalyScores, returnPreds = False):\n",
    "    preds = pd.concat([trueLabels, anomalyScores], axis=1)\n",
    "    preds.columns = ['trueLabel', 'anomalyScore']\n",
    "    precision, recall, thresholds = \\\n",
    "        precision_recall_curve(preds['trueLabel'],preds['anomalyScore'])\n",
    "    average_precision = \\\n",
    "        average_precision_score(preds['trueLabel'],preds['anomalyScore'])\n",
    "\n",
    "    plt.step(recall, precision, color='k', alpha=0.7, where='post')\n",
    "    plt.fill_between(recall, precision, step='post', alpha=0.3, color='k')\n",
    "\n",
    "    plt.xlabel('Recall')\n",
    "    plt.ylabel('Precision')\n",
    "    plt.ylim([0.0, 1.05])\n",
    "    plt.xlim([0.0, 1.0])\n",
    "\n",
    "    plt.title('Precision-Recall curve: Average Precision = \\\n",
    "    {0:0.2f}'.format(average_precision))\n",
    "\n",
    "    fpr, tpr, thresholds = roc_curve(preds['trueLabel'], \\\n",
    "                                     preds['anomalyScore'])\n",
    "    areaUnderROC = auc(fpr, tpr)\n",
    "\n",
    "    plt.figure()\n",
    "    plt.plot(fpr, tpr, color='r', lw=2, label='ROC curve')\n",
    "    plt.plot([0, 1], [0, 1], color='k', lw=2, linestyle='--')\n",
    "    plt.xlim([0.0, 1.0])\n",
    "    plt.ylim([0.0, 1.05])\n",
    "    plt.xlabel('False Positive Rate')\n",
    "    plt.ylabel('True Positive Rate')\n",
    "    plt.title('Receiver operating characteristic: \\\n",
    "    Area under the curve = {0:0.2f}'.format(areaUnderROC))\n",
    "    plt.legend(loc=\"lower right\")\n",
    "    plt.show()\n",
    "\n",
    "    if returnPreds==True:\n",
    "        return preds"
   ]
  },
  {
   "cell_type": "code",
   "execution_count": 28,
   "metadata": {
    "executionInfo": {
     "elapsed": 369433,
     "status": "ok",
     "timestamp": 1602584415511,
     "user": {
      "displayName": "KEERTHIVASINI R 1928036",
      "photoUrl": "https://lh3.googleusercontent.com/a-/AOh14GjE-mLKrJl0IuVyXmWK6gul8q-AjohuZGI_E5Ur=s64",
      "userId": "17476792325048702527"
     },
     "user_tz": -330
    },
    "id": "tzp92uSlD6_g"
   },
   "outputs": [],
   "source": [
    "def scatterPlot(xDF, yDF, algoName):\n",
    "    tempDF = pd.DataFrame(data=xDF.loc[:,0:1], index=xDF.index)\n",
    "    tempDF = pd.concat((tempDF,yDF), axis=1, join=\"inner\")\n",
    "    tempDF.columns = [\"First Vector\", \"Second Vector\", \"Label\"]\n",
    "    sns.lmplot(x=\"First Vector\", y=\"Second Vector\", hue=\"Label\", \\\n",
    "               data=tempDF, fit_reg=False)\n",
    "    ax = plt.gca()\n",
    "    ax.set_title(\"Separation of Observations using \"+algoName)"
   ]
  },
  {
   "cell_type": "code",
   "execution_count": 29,
   "metadata": {
    "colab": {
     "base_uri": "https://localhost:8080/",
     "height": 375
    },
    "executionInfo": {
     "elapsed": 374310,
     "status": "ok",
     "timestamp": 1602584420412,
     "user": {
      "displayName": "KEERTHIVASINI R 1928036",
      "photoUrl": "https://lh3.googleusercontent.com/a-/AOh14GjE-mLKrJl0IuVyXmWK6gul8q-AjohuZGI_E5Ur=s64",
      "userId": "17476792325048702527"
     },
     "user_tz": -330
    },
    "id": "AkMh3s5zDPTg",
    "outputId": "17129d51-d44a-4a44-e212-581283607f3a"
   },
   "outputs": [
    {
     "data": {
      "image/png": "[encoded data removed]",
      "text/plain": [
       "<Figure size 402.375x360 with 1 Axes>"
      ]
     },
     "metadata": {
      "needs_background": "light"
     },
     "output_type": "display_data"
    }
   ],
   "source": [
    "from sklearn.decomposition import PCA\n",
    "\n",
    "n_components = 22\n",
    "whiten = False\n",
    "random_state = state\n",
    "\n",
    "pca = PCA(n_components=n_components, whiten=whiten, \\\n",
    "          random_state=random_state)\n",
    "\n",
    "X_train_PCA = pca.fit_transform(X_train)\n",
    "X_train_PCA = pd.DataFrame(data=X_train_PCA, index=X_train.index)\n",
    "\n",
    "X_train_PCA_inverse = pca.inverse_transform(X_train_PCA)\n",
    "X_train_PCA_inverse = pd.DataFrame(data=X_train_PCA_inverse, \\\n",
    "                                   index=X_train.index)\n",
    "\n",
    "scatterPlot(X_train_PCA, y_train, \"PCA\")"
   ]
  },
  {
   "cell_type": "code",
   "execution_count": 30,
   "metadata": {
    "colab": {
     "base_uri": "https://localhost:8080/",
     "height": 375
    },
    "executionInfo": {
     "elapsed": 375643,
     "status": "ok",
     "timestamp": 1602584421767,
     "user": {
      "displayName": "KEERTHIVASINI R 1928036",
      "photoUrl": "https://lh3.googleusercontent.com/a-/AOh14GjE-mLKrJl0IuVyXmWK6gul8q-AjohuZGI_E5Ur=s64",
      "userId": "17476792325048702527"
     },
     "user_tz": -330
    },
    "id": "vCl_ycFiEgjy",
    "outputId": "611f114a-8e29-48e2-fe11-196925764bc2"
   },
   "outputs": [
    {
     "data": {
      "image/png": "[encoded data removed]",
      "text/plain": [
       "<Figure size 402.375x360 with 1 Axes>"
      ]
     },
     "metadata": {
      "needs_background": "light"
     },
     "output_type": "display_data"
    }
   ],
   "source": [
    "# PCA on Test Set\n",
    "X_test_PCA = pca.transform(X_test)\n",
    "X_test_PCA = pd.DataFrame(data=X_test_PCA, index=X_test.index)\n",
    "\n",
    "X_test_PCA_inverse = pca.inverse_transform(X_test_PCA)\n",
    "X_test_PCA_inverse = pd.DataFrame(data=X_test_PCA_inverse, \\\n",
    "                                  index=X_test.index)\n",
    "\n",
    "scatterPlot(X_test_PCA, y_test, \"PCA\")"
   ]
  },
  {
   "cell_type": "code",
   "execution_count": 31,
   "metadata": {
    "colab": {
     "base_uri": "https://localhost:8080/",
     "height": 573
    },
    "executionInfo": {
     "elapsed": 376119,
     "status": "ok",
     "timestamp": 1602584422253,
     "user": {
      "displayName": "KEERTHIVASINI R 1928036",
      "photoUrl": "https://lh3.googleusercontent.com/a-/AOh14GjE-mLKrJl0IuVyXmWK6gul8q-AjohuZGI_E5Ur=s64",
      "userId": "17476792325048702527"
     },
     "user_tz": -330
    },
    "id": "klp2KHbTHPWQ",
    "outputId": "30dfafc4-beef-444a-843d-d0f9bf49b852"
   },
   "outputs": [
    {
     "data": {
      "image/png": "[encoded data removed]",
      "text/plain": [
       "<Figure size 432x288 with 1 Axes>"
      ]
     },
     "metadata": {
      "needs_background": "light"
     },
     "output_type": "display_data"
    },
    {
     "data": {
      "image/png": "[encoded data removed]",
      "text/plain": [
       "<Figure size 432x288 with 1 Axes>"
      ]
     },
     "metadata": {
      "needs_background": "light"
     },
     "output_type": "display_data"
    }
   ],
   "source": [
    "anomalyScoresPCA = anomalyScores(X_test, X_test_PCA_inverse)\n",
    "preds = plotResults(y_test, anomalyScoresPCA, True)"
   ]
  },
  {
   "cell_type": "code",
   "execution_count": 32,
   "metadata": {},
   "outputs": [
    {
     "data": {
      "text/html": [
       "<div>\n",
       "<style scoped>\n",
       "    .dataframe tbody tr th:only-of-type {\n",
       "        vertical-align: middle;\n",
       "    }\n",
       "\n",
       "    .dataframe tbody tr th {\n",
       "        vertical-align: top;\n",
       "    }\n",
       "\n",
       "    .dataframe thead th {\n",
       "        text-align: right;\n",
       "    }\n",
       "</style>\n",
       "<table border=\"1\" class=\"dataframe\">\n",
       "  <thead>\n",
       "    <tr style=\"text-align: right;\">\n",
       "      <th></th>\n",
       "      <th>FLAG_OWN_REALTY</th>\n",
       "      <th>CNT_CHILDREN</th>\n",
       "      <th>AMT_INCOME_TOTAL</th>\n",
       "      <th>AMT_CREDIT</th>\n",
       "      <th>AMT_ANNUITY</th>\n",
       "      <th>AMT_GOODS_PRICE</th>\n",
       "      <th>DAYS_BIRTH</th>\n",
       "      <th>DAYS_EMPLOYED</th>\n",
       "      <th>DAYS_REGISTRATION</th>\n",
       "      <th>DAYS_ID_PUBLISH</th>\n",
       "      <th>OWN_CAR_AGE</th>\n",
       "      <th>CNT_FAM_MEMBERS</th>\n",
       "      <th>REGION_RATING_CLIENT</th>\n",
       "      <th>EXT_SOURCE_1</th>\n",
       "      <th>EXT_SOURCE_2</th>\n",
       "      <th>EXT_SOURCE_3</th>\n",
       "      <th>APARTMENTS_AVG</th>\n",
       "      <th>BASEMENTAREA_AVG</th>\n",
       "      <th>YEARS_BEGINEXPLUATATION_AVG</th>\n",
       "      <th>YEARS_BUILD_AVG</th>\n",
       "      <th>COMMONAREA_AVG</th>\n",
       "      <th>ENTRANCES_AVG</th>\n",
       "      <th>FLOORSMAX_AVG</th>\n",
       "      <th>FLOORSMIN_AVG</th>\n",
       "      <th>LANDAREA_AVG</th>\n",
       "      <th>LIVINGAPARTMENTS_AVG</th>\n",
       "      <th>LIVINGAREA_AVG</th>\n",
       "      <th>NONLIVINGAREA_AVG</th>\n",
       "      <th>TOTALAREA_MODE</th>\n",
       "      <th>OBS_30_CNT_SOCIAL_CIRCLE</th>\n",
       "      <th>DEF_30_CNT_SOCIAL_CIRCLE</th>\n",
       "      <th>OBS_60_CNT_SOCIAL_CIRCLE</th>\n",
       "      <th>DAYS_LAST_PHONE_CHANGE</th>\n",
       "      <th>AMT_REQ_CREDIT_BUREAU_MON</th>\n",
       "      <th>AMT_REQ_CREDIT_BUREAU_QRT</th>\n",
       "      <th>AMT_REQ_CREDIT_BUREAU_YEAR</th>\n",
       "      <th>NAME_FAMILY_STATUS_Married</th>\n",
       "      <th>OCCUPATION_TYPE_Laborers</th>\n",
       "      <th>CREDIT_INCOME_PERCENT</th>\n",
       "      <th>ANNUITY_INCOME_PERCENT</th>\n",
       "      <th>CREDIT_TERM</th>\n",
       "      <th>DAYS_EMPLOYED_PERCENT</th>\n",
       "    </tr>\n",
       "  </thead>\n",
       "  <tbody>\n",
       "    <tr>\n",
       "      <th>86288</th>\n",
       "      <td>1</td>\n",
       "      <td>0</td>\n",
       "      <td>112500.0</td>\n",
       "      <td>1585224.0</td>\n",
       "      <td>42637.5</td>\n",
       "      <td>1350000.0</td>\n",
       "      <td>20938</td>\n",
       "      <td>-1648.0</td>\n",
       "      <td>-7501.0</td>\n",
       "      <td>-4100</td>\n",
       "      <td>9.0</td>\n",
       "      <td>2.0</td>\n",
       "      <td>2</td>\n",
       "      <td>0.505998</td>\n",
       "      <td>0.663817</td>\n",
       "      <td>0.832785</td>\n",
       "      <td>0.0124</td>\n",
       "      <td>0.0763</td>\n",
       "      <td>0.9692</td>\n",
       "      <td>0.7552</td>\n",
       "      <td>0.0211</td>\n",
       "      <td>0.0690</td>\n",
       "      <td>0.0417</td>\n",
       "      <td>0.2083</td>\n",
       "      <td>0.0481</td>\n",
       "      <td>0.0756</td>\n",
       "      <td>0.0130</td>\n",
       "      <td>0.0000</td>\n",
       "      <td>0.0103</td>\n",
       "      <td>0.0</td>\n",
       "      <td>0.0</td>\n",
       "      <td>0.0</td>\n",
       "      <td>-221.0</td>\n",
       "      <td>0.0</td>\n",
       "      <td>0.0</td>\n",
       "      <td>3.0</td>\n",
       "      <td>1</td>\n",
       "      <td>1</td>\n",
       "      <td>14.090880</td>\n",
       "      <td>0.379000</td>\n",
       "      <td>0.026897</td>\n",
       "      <td>-0.078709</td>\n",
       "    </tr>\n",
       "    <tr>\n",
       "      <th>283264</th>\n",
       "      <td>0</td>\n",
       "      <td>0</td>\n",
       "      <td>360000.0</td>\n",
       "      <td>1724688.0</td>\n",
       "      <td>54283.5</td>\n",
       "      <td>1575000.0</td>\n",
       "      <td>13812</td>\n",
       "      <td>-282.0</td>\n",
       "      <td>-549.0</td>\n",
       "      <td>-5478</td>\n",
       "      <td>18.0</td>\n",
       "      <td>2.0</td>\n",
       "      <td>2</td>\n",
       "      <td>0.796995</td>\n",
       "      <td>0.574332</td>\n",
       "      <td>0.746300</td>\n",
       "      <td>0.0464</td>\n",
       "      <td>0.0763</td>\n",
       "      <td>0.9851</td>\n",
       "      <td>0.7552</td>\n",
       "      <td>0.0211</td>\n",
       "      <td>0.1379</td>\n",
       "      <td>0.1667</td>\n",
       "      <td>0.2083</td>\n",
       "      <td>0.0481</td>\n",
       "      <td>0.0756</td>\n",
       "      <td>0.0440</td>\n",
       "      <td>0.0036</td>\n",
       "      <td>0.0346</td>\n",
       "      <td>0.0</td>\n",
       "      <td>0.0</td>\n",
       "      <td>0.0</td>\n",
       "      <td>-1295.0</td>\n",
       "      <td>0.0</td>\n",
       "      <td>0.0</td>\n",
       "      <td>1.0</td>\n",
       "      <td>1</td>\n",
       "      <td>0</td>\n",
       "      <td>4.790800</td>\n",
       "      <td>0.150787</td>\n",
       "      <td>0.031474</td>\n",
       "      <td>-0.020417</td>\n",
       "    </tr>\n",
       "    <tr>\n",
       "      <th>52711</th>\n",
       "      <td>1</td>\n",
       "      <td>1</td>\n",
       "      <td>135000.0</td>\n",
       "      <td>270000.0</td>\n",
       "      <td>13500.0</td>\n",
       "      <td>450000.0</td>\n",
       "      <td>13482</td>\n",
       "      <td>-2405.0</td>\n",
       "      <td>-3893.0</td>\n",
       "      <td>-3559</td>\n",
       "      <td>9.0</td>\n",
       "      <td>3.0</td>\n",
       "      <td>1</td>\n",
       "      <td>0.505998</td>\n",
       "      <td>0.703034</td>\n",
       "      <td>0.729567</td>\n",
       "      <td>0.0742</td>\n",
       "      <td>0.0763</td>\n",
       "      <td>0.9866</td>\n",
       "      <td>0.7552</td>\n",
       "      <td>0.0211</td>\n",
       "      <td>0.0690</td>\n",
       "      <td>0.3333</td>\n",
       "      <td>0.2083</td>\n",
       "      <td>0.0481</td>\n",
       "      <td>0.0756</td>\n",
       "      <td>0.0773</td>\n",
       "      <td>0.0000</td>\n",
       "      <td>0.0608</td>\n",
       "      <td>1.0</td>\n",
       "      <td>0.0</td>\n",
       "      <td>0.0</td>\n",
       "      <td>-898.0</td>\n",
       "      <td>0.0</td>\n",
       "      <td>0.0</td>\n",
       "      <td>2.0</td>\n",
       "      <td>1</td>\n",
       "      <td>1</td>\n",
       "      <td>2.000000</td>\n",
       "      <td>0.100000</td>\n",
       "      <td>0.050000</td>\n",
       "      <td>-0.178386</td>\n",
       "    </tr>\n",
       "    <tr>\n",
       "      <th>153779</th>\n",
       "      <td>1</td>\n",
       "      <td>0</td>\n",
       "      <td>76500.0</td>\n",
       "      <td>728460.0</td>\n",
       "      <td>38808.0</td>\n",
       "      <td>675000.0</td>\n",
       "      <td>21096</td>\n",
       "      <td>-9022.0</td>\n",
       "      <td>-4658.0</td>\n",
       "      <td>-3340</td>\n",
       "      <td>9.0</td>\n",
       "      <td>2.0</td>\n",
       "      <td>3</td>\n",
       "      <td>0.695161</td>\n",
       "      <td>0.418987</td>\n",
       "      <td>0.540654</td>\n",
       "      <td>0.0876</td>\n",
       "      <td>0.0763</td>\n",
       "      <td>0.9816</td>\n",
       "      <td>0.7552</td>\n",
       "      <td>0.0211</td>\n",
       "      <td>0.1379</td>\n",
       "      <td>0.1667</td>\n",
       "      <td>0.2083</td>\n",
       "      <td>0.0481</td>\n",
       "      <td>0.0756</td>\n",
       "      <td>0.0745</td>\n",
       "      <td>0.0036</td>\n",
       "      <td>0.0688</td>\n",
       "      <td>0.0</td>\n",
       "      <td>0.0</td>\n",
       "      <td>0.0</td>\n",
       "      <td>-1038.0</td>\n",
       "      <td>0.0</td>\n",
       "      <td>1.0</td>\n",
       "      <td>1.0</td>\n",
       "      <td>1</td>\n",
       "      <td>0</td>\n",
       "      <td>9.522353</td>\n",
       "      <td>0.507294</td>\n",
       "      <td>0.053274</td>\n",
       "      <td>-0.427664</td>\n",
       "    </tr>\n",
       "    <tr>\n",
       "      <th>269045</th>\n",
       "      <td>1</td>\n",
       "      <td>0</td>\n",
       "      <td>360000.0</td>\n",
       "      <td>1475154.0</td>\n",
       "      <td>54796.5</td>\n",
       "      <td>1377000.0</td>\n",
       "      <td>17550</td>\n",
       "      <td>-2877.0</td>\n",
       "      <td>-1240.0</td>\n",
       "      <td>-1058</td>\n",
       "      <td>9.0</td>\n",
       "      <td>1.0</td>\n",
       "      <td>2</td>\n",
       "      <td>0.385116</td>\n",
       "      <td>0.687929</td>\n",
       "      <td>0.739412</td>\n",
       "      <td>0.0861</td>\n",
       "      <td>0.0490</td>\n",
       "      <td>0.9762</td>\n",
       "      <td>0.6736</td>\n",
       "      <td>0.0241</td>\n",
       "      <td>0.0862</td>\n",
       "      <td>0.1875</td>\n",
       "      <td>0.2292</td>\n",
       "      <td>0.1188</td>\n",
       "      <td>0.0698</td>\n",
       "      <td>0.0584</td>\n",
       "      <td>0.0011</td>\n",
       "      <td>0.0195</td>\n",
       "      <td>2.0</td>\n",
       "      <td>0.0</td>\n",
       "      <td>2.0</td>\n",
       "      <td>-573.0</td>\n",
       "      <td>12.0</td>\n",
       "      <td>0.0</td>\n",
       "      <td>1.0</td>\n",
       "      <td>0</td>\n",
       "      <td>1</td>\n",
       "      <td>4.097650</td>\n",
       "      <td>0.152213</td>\n",
       "      <td>0.037146</td>\n",
       "      <td>-0.163932</td>\n",
       "    </tr>\n",
       "    <tr>\n",
       "      <th>...</th>\n",
       "      <td>...</td>\n",
       "      <td>...</td>\n",
       "      <td>...</td>\n",
       "      <td>...</td>\n",
       "      <td>...</td>\n",
       "      <td>...</td>\n",
       "      <td>...</td>\n",
       "      <td>...</td>\n",
       "      <td>...</td>\n",
       "      <td>...</td>\n",
       "      <td>...</td>\n",
       "      <td>...</td>\n",
       "      <td>...</td>\n",
       "      <td>...</td>\n",
       "      <td>...</td>\n",
       "      <td>...</td>\n",
       "      <td>...</td>\n",
       "      <td>...</td>\n",
       "      <td>...</td>\n",
       "      <td>...</td>\n",
       "      <td>...</td>\n",
       "      <td>...</td>\n",
       "      <td>...</td>\n",
       "      <td>...</td>\n",
       "      <td>...</td>\n",
       "      <td>...</td>\n",
       "      <td>...</td>\n",
       "      <td>...</td>\n",
       "      <td>...</td>\n",
       "      <td>...</td>\n",
       "      <td>...</td>\n",
       "      <td>...</td>\n",
       "      <td>...</td>\n",
       "      <td>...</td>\n",
       "      <td>...</td>\n",
       "      <td>...</td>\n",
       "      <td>...</td>\n",
       "      <td>...</td>\n",
       "      <td>...</td>\n",
       "      <td>...</td>\n",
       "      <td>...</td>\n",
       "      <td>...</td>\n",
       "    </tr>\n",
       "    <tr>\n",
       "      <th>146224</th>\n",
       "      <td>1</td>\n",
       "      <td>1</td>\n",
       "      <td>225000.0</td>\n",
       "      <td>1561500.0</td>\n",
       "      <td>45787.5</td>\n",
       "      <td>1561500.0</td>\n",
       "      <td>16937</td>\n",
       "      <td>-1090.0</td>\n",
       "      <td>-7189.0</td>\n",
       "      <td>-470</td>\n",
       "      <td>14.0</td>\n",
       "      <td>3.0</td>\n",
       "      <td>1</td>\n",
       "      <td>0.505998</td>\n",
       "      <td>0.812593</td>\n",
       "      <td>0.822499</td>\n",
       "      <td>0.0165</td>\n",
       "      <td>0.0000</td>\n",
       "      <td>0.9662</td>\n",
       "      <td>0.5376</td>\n",
       "      <td>0.0273</td>\n",
       "      <td>0.1379</td>\n",
       "      <td>0.0417</td>\n",
       "      <td>0.0417</td>\n",
       "      <td>0.0521</td>\n",
       "      <td>0.0134</td>\n",
       "      <td>0.0227</td>\n",
       "      <td>0.0000</td>\n",
       "      <td>0.0328</td>\n",
       "      <td>0.0</td>\n",
       "      <td>0.0</td>\n",
       "      <td>0.0</td>\n",
       "      <td>-399.0</td>\n",
       "      <td>0.0</td>\n",
       "      <td>0.0</td>\n",
       "      <td>3.0</td>\n",
       "      <td>1</td>\n",
       "      <td>1</td>\n",
       "      <td>6.940000</td>\n",
       "      <td>0.203500</td>\n",
       "      <td>0.029323</td>\n",
       "      <td>-0.064356</td>\n",
       "    </tr>\n",
       "    <tr>\n",
       "      <th>75232</th>\n",
       "      <td>0</td>\n",
       "      <td>0</td>\n",
       "      <td>270000.0</td>\n",
       "      <td>1006920.0</td>\n",
       "      <td>39933.0</td>\n",
       "      <td>900000.0</td>\n",
       "      <td>20857</td>\n",
       "      <td>-1971.0</td>\n",
       "      <td>-5366.0</td>\n",
       "      <td>-3857</td>\n",
       "      <td>9.0</td>\n",
       "      <td>2.0</td>\n",
       "      <td>2</td>\n",
       "      <td>0.505998</td>\n",
       "      <td>0.747020</td>\n",
       "      <td>0.716570</td>\n",
       "      <td>0.0619</td>\n",
       "      <td>0.0629</td>\n",
       "      <td>0.9806</td>\n",
       "      <td>0.7348</td>\n",
       "      <td>0.0224</td>\n",
       "      <td>0.1379</td>\n",
       "      <td>0.1667</td>\n",
       "      <td>0.0000</td>\n",
       "      <td>0.0000</td>\n",
       "      <td>0.0496</td>\n",
       "      <td>0.0365</td>\n",
       "      <td>0.0562</td>\n",
       "      <td>0.0409</td>\n",
       "      <td>1.0</td>\n",
       "      <td>0.0</td>\n",
       "      <td>1.0</td>\n",
       "      <td>-470.0</td>\n",
       "      <td>0.0</td>\n",
       "      <td>0.0</td>\n",
       "      <td>1.0</td>\n",
       "      <td>1</td>\n",
       "      <td>0</td>\n",
       "      <td>3.729333</td>\n",
       "      <td>0.147900</td>\n",
       "      <td>0.039659</td>\n",
       "      <td>-0.094501</td>\n",
       "    </tr>\n",
       "    <tr>\n",
       "      <th>224453</th>\n",
       "      <td>0</td>\n",
       "      <td>0</td>\n",
       "      <td>247500.0</td>\n",
       "      <td>521280.0</td>\n",
       "      <td>23089.5</td>\n",
       "      <td>450000.0</td>\n",
       "      <td>13940</td>\n",
       "      <td>-834.0</td>\n",
       "      <td>-7915.0</td>\n",
       "      <td>-4755</td>\n",
       "      <td>9.0</td>\n",
       "      <td>2.0</td>\n",
       "      <td>2</td>\n",
       "      <td>0.455670</td>\n",
       "      <td>0.593435</td>\n",
       "      <td>0.590233</td>\n",
       "      <td>0.0722</td>\n",
       "      <td>0.0634</td>\n",
       "      <td>0.9796</td>\n",
       "      <td>0.7212</td>\n",
       "      <td>0.0267</td>\n",
       "      <td>0.1379</td>\n",
       "      <td>0.1667</td>\n",
       "      <td>0.0417</td>\n",
       "      <td>0.0175</td>\n",
       "      <td>0.0756</td>\n",
       "      <td>0.0695</td>\n",
       "      <td>0.0000</td>\n",
       "      <td>0.0693</td>\n",
       "      <td>0.0</td>\n",
       "      <td>0.0</td>\n",
       "      <td>0.0</td>\n",
       "      <td>-1311.0</td>\n",
       "      <td>0.0</td>\n",
       "      <td>0.0</td>\n",
       "      <td>2.0</td>\n",
       "      <td>1</td>\n",
       "      <td>0</td>\n",
       "      <td>2.106182</td>\n",
       "      <td>0.093291</td>\n",
       "      <td>0.044294</td>\n",
       "      <td>-0.059828</td>\n",
       "    </tr>\n",
       "    <tr>\n",
       "      <th>240027</th>\n",
       "      <td>1</td>\n",
       "      <td>0</td>\n",
       "      <td>270000.0</td>\n",
       "      <td>966555.0</td>\n",
       "      <td>51628.5</td>\n",
       "      <td>913500.0</td>\n",
       "      <td>20082</td>\n",
       "      <td>-2722.0</td>\n",
       "      <td>-2985.0</td>\n",
       "      <td>-3628</td>\n",
       "      <td>9.0</td>\n",
       "      <td>2.0</td>\n",
       "      <td>2</td>\n",
       "      <td>0.505998</td>\n",
       "      <td>0.702833</td>\n",
       "      <td>0.586740</td>\n",
       "      <td>0.0876</td>\n",
       "      <td>0.0763</td>\n",
       "      <td>0.9816</td>\n",
       "      <td>0.7552</td>\n",
       "      <td>0.0211</td>\n",
       "      <td>0.1379</td>\n",
       "      <td>0.1667</td>\n",
       "      <td>0.2083</td>\n",
       "      <td>0.0481</td>\n",
       "      <td>0.0756</td>\n",
       "      <td>0.0745</td>\n",
       "      <td>0.0036</td>\n",
       "      <td>0.0688</td>\n",
       "      <td>0.0</td>\n",
       "      <td>0.0</td>\n",
       "      <td>0.0</td>\n",
       "      <td>0.0</td>\n",
       "      <td>1.0</td>\n",
       "      <td>0.0</td>\n",
       "      <td>3.0</td>\n",
       "      <td>1</td>\n",
       "      <td>0</td>\n",
       "      <td>3.579833</td>\n",
       "      <td>0.191217</td>\n",
       "      <td>0.053415</td>\n",
       "      <td>-0.135544</td>\n",
       "    </tr>\n",
       "    <tr>\n",
       "      <th>117453</th>\n",
       "      <td>1</td>\n",
       "      <td>0</td>\n",
       "      <td>157500.0</td>\n",
       "      <td>441481.5</td>\n",
       "      <td>22986.0</td>\n",
       "      <td>364500.0</td>\n",
       "      <td>18697</td>\n",
       "      <td>-375.0</td>\n",
       "      <td>-8770.0</td>\n",
       "      <td>-2114</td>\n",
       "      <td>9.0</td>\n",
       "      <td>2.0</td>\n",
       "      <td>1</td>\n",
       "      <td>0.505998</td>\n",
       "      <td>0.569594</td>\n",
       "      <td>0.626304</td>\n",
       "      <td>0.2381</td>\n",
       "      <td>0.1161</td>\n",
       "      <td>0.9786</td>\n",
       "      <td>0.7076</td>\n",
       "      <td>0.0383</td>\n",
       "      <td>0.1379</td>\n",
       "      <td>0.3333</td>\n",
       "      <td>0.3750</td>\n",
       "      <td>0.0285</td>\n",
       "      <td>0.1942</td>\n",
       "      <td>0.2231</td>\n",
       "      <td>0.0000</td>\n",
       "      <td>0.1965</td>\n",
       "      <td>0.0</td>\n",
       "      <td>0.0</td>\n",
       "      <td>0.0</td>\n",
       "      <td>0.0</td>\n",
       "      <td>1.0</td>\n",
       "      <td>0.0</td>\n",
       "      <td>0.0</td>\n",
       "      <td>0</td>\n",
       "      <td>0</td>\n",
       "      <td>2.803057</td>\n",
       "      <td>0.145943</td>\n",
       "      <td>0.052066</td>\n",
       "      <td>-0.020057</td>\n",
       "    </tr>\n",
       "  </tbody>\n",
       "</table>\n",
       "<p>61503 rows × 42 columns</p>\n",
       "</div>"
      ],
      "text/plain": [
       "        FLAG_OWN_REALTY  CNT_CHILDREN  AMT_INCOME_TOTAL  AMT_CREDIT  \\\n",
       "86288                 1             0          112500.0   1585224.0   \n",
       "283264                0             0          360000.0   1724688.0   \n",
       "52711                 1             1          135000.0    270000.0   \n",
       "153779                1             0           76500.0    728460.0   \n",
       "269045                1             0          360000.0   1475154.0   \n",
       "...                 ...           ...               ...         ...   \n",
       "146224                1             1          225000.0   1561500.0   \n",
       "75232                 0             0          270000.0   1006920.0   \n",
       "224453                0             0          247500.0    521280.0   \n",
       "240027                1             0          270000.0    966555.0   \n",
       "117453                1             0          157500.0    441481.5   \n",
       "\n",
       "        AMT_ANNUITY  AMT_GOODS_PRICE  DAYS_BIRTH  DAYS_EMPLOYED  \\\n",
       "86288       42637.5        1350000.0       20938        -1648.0   \n",
       "283264      54283.5        1575000.0       13812         -282.0   \n",
       "52711       13500.0         450000.0       13482        -2405.0   \n",
       "153779      38808.0         675000.0       21096        -9022.0   \n",
       "269045      54796.5        1377000.0       17550        -2877.0   \n",
       "...             ...              ...         ...            ...   \n",
       "146224      45787.5        1561500.0       16937        -1090.0   \n",
       "75232       39933.0         900000.0       20857        -1971.0   \n",
       "224453      23089.5         450000.0       13940         -834.0   \n",
       "240027      51628.5         913500.0       20082        -2722.0   \n",
       "117453      22986.0         364500.0       18697         -375.0   \n",
       "\n",
       "        DAYS_REGISTRATION  DAYS_ID_PUBLISH  OWN_CAR_AGE  CNT_FAM_MEMBERS  \\\n",
       "86288             -7501.0            -4100          9.0              2.0   \n",
       "283264             -549.0            -5478         18.0              2.0   \n",
       "52711             -3893.0            -3559          9.0              3.0   \n",
       "153779            -4658.0            -3340          9.0              2.0   \n",
       "269045            -1240.0            -1058          9.0              1.0   \n",
       "...                   ...              ...          ...              ...   \n",
       "146224            -7189.0             -470         14.0              3.0   \n",
       "75232             -5366.0            -3857          9.0              2.0   \n",
       "224453            -7915.0            -4755          9.0              2.0   \n",
       "240027            -2985.0            -3628          9.0              2.0   \n",
       "117453            -8770.0            -2114          9.0              2.0   \n",
       "\n",
       "        REGION_RATING_CLIENT  EXT_SOURCE_1  EXT_SOURCE_2  EXT_SOURCE_3  \\\n",
       "86288                      2      0.505998      0.663817      0.832785   \n",
       "283264                     2      0.796995      0.574332      0.746300   \n",
       "52711                      1      0.505998      0.703034      0.729567   \n",
       "153779                     3      0.695161      0.418987      0.540654   \n",
       "269045                     2      0.385116      0.687929      0.739412   \n",
       "...                      ...           ...           ...           ...   \n",
       "146224                     1      0.505998      0.812593      0.822499   \n",
       "75232                      2      0.505998      0.747020      0.716570   \n",
       "224453                     2      0.455670      0.593435      0.590233   \n",
       "240027                     2      0.505998      0.702833      0.586740   \n",
       "117453                     1      0.505998      0.569594      0.626304   \n",
       "\n",
       "        APARTMENTS_AVG  BASEMENTAREA_AVG  YEARS_BEGINEXPLUATATION_AVG  \\\n",
       "86288           0.0124            0.0763                       0.9692   \n",
       "283264          0.0464            0.0763                       0.9851   \n",
       "52711           0.0742            0.0763                       0.9866   \n",
       "153779          0.0876            0.0763                       0.9816   \n",
       "269045          0.0861            0.0490                       0.9762   \n",
       "...                ...               ...                          ...   \n",
       "146224          0.0165            0.0000                       0.9662   \n",
       "75232           0.0619            0.0629                       0.9806   \n",
       "224453          0.0722            0.0634                       0.9796   \n",
       "240027          0.0876            0.0763                       0.9816   \n",
       "117453          0.2381            0.1161                       0.9786   \n",
       "\n",
       "        YEARS_BUILD_AVG  COMMONAREA_AVG  ENTRANCES_AVG  FLOORSMAX_AVG  \\\n",
       "86288            0.7552          0.0211         0.0690         0.0417   \n",
       "283264           0.7552          0.0211         0.1379         0.1667   \n",
       "52711            0.7552          0.0211         0.0690         0.3333   \n",
       "153779           0.7552          0.0211         0.1379         0.1667   \n",
       "269045           0.6736          0.0241         0.0862         0.1875   \n",
       "...                 ...             ...            ...            ...   \n",
       "146224           0.5376          0.0273         0.1379         0.0417   \n",
       "75232            0.7348          0.0224         0.1379         0.1667   \n",
       "224453           0.7212          0.0267         0.1379         0.1667   \n",
       "240027           0.7552          0.0211         0.1379         0.1667   \n",
       "117453           0.7076          0.0383         0.1379         0.3333   \n",
       "\n",
       "        FLOORSMIN_AVG  LANDAREA_AVG  LIVINGAPARTMENTS_AVG  LIVINGAREA_AVG  \\\n",
       "86288          0.2083        0.0481                0.0756          0.0130   \n",
       "283264         0.2083        0.0481                0.0756          0.0440   \n",
       "52711          0.2083        0.0481                0.0756          0.0773   \n",
       "153779         0.2083        0.0481                0.0756          0.0745   \n",
       "269045         0.2292        0.1188                0.0698          0.0584   \n",
       "...               ...           ...                   ...             ...   \n",
       "146224         0.0417        0.0521                0.0134          0.0227   \n",
       "75232          0.0000        0.0000                0.0496          0.0365   \n",
       "224453         0.0417        0.0175                0.0756          0.0695   \n",
       "240027         0.2083        0.0481                0.0756          0.0745   \n",
       "117453         0.3750        0.0285                0.1942          0.2231   \n",
       "\n",
       "        NONLIVINGAREA_AVG  TOTALAREA_MODE  OBS_30_CNT_SOCIAL_CIRCLE  \\\n",
       "86288              0.0000          0.0103                       0.0   \n",
       "283264             0.0036          0.0346                       0.0   \n",
       "52711              0.0000          0.0608                       1.0   \n",
       "153779             0.0036          0.0688                       0.0   \n",
       "269045             0.0011          0.0195                       2.0   \n",
       "...                   ...             ...                       ...   \n",
       "146224             0.0000          0.0328                       0.0   \n",
       "75232              0.0562          0.0409                       1.0   \n",
       "224453             0.0000          0.0693                       0.0   \n",
       "240027             0.0036          0.0688                       0.0   \n",
       "117453             0.0000          0.1965                       0.0   \n",
       "\n",
       "        DEF_30_CNT_SOCIAL_CIRCLE  OBS_60_CNT_SOCIAL_CIRCLE  \\\n",
       "86288                        0.0                       0.0   \n",
       "283264                       0.0                       0.0   \n",
       "52711                        0.0                       0.0   \n",
       "153779                       0.0                       0.0   \n",
       "269045                       0.0                       2.0   \n",
       "...                          ...                       ...   \n",
       "146224                       0.0                       0.0   \n",
       "75232                        0.0                       1.0   \n",
       "224453                       0.0                       0.0   \n",
       "240027                       0.0                       0.0   \n",
       "117453                       0.0                       0.0   \n",
       "\n",
       "        DAYS_LAST_PHONE_CHANGE  AMT_REQ_CREDIT_BUREAU_MON  \\\n",
       "86288                   -221.0                        0.0   \n",
       "283264                 -1295.0                        0.0   \n",
       "52711                   -898.0                        0.0   \n",
       "153779                 -1038.0                        0.0   \n",
       "269045                  -573.0                       12.0   \n",
       "...                        ...                        ...   \n",
       "146224                  -399.0                        0.0   \n",
       "75232                   -470.0                        0.0   \n",
       "224453                 -1311.0                        0.0   \n",
       "240027                     0.0                        1.0   \n",
       "117453                     0.0                        1.0   \n",
       "\n",
       "        AMT_REQ_CREDIT_BUREAU_QRT  AMT_REQ_CREDIT_BUREAU_YEAR  \\\n",
       "86288                         0.0                         3.0   \n",
       "283264                        0.0                         1.0   \n",
       "52711                         0.0                         2.0   \n",
       "153779                        1.0                         1.0   \n",
       "269045                        0.0                         1.0   \n",
       "...                           ...                         ...   \n",
       "146224                        0.0                         3.0   \n",
       "75232                         0.0                         1.0   \n",
       "224453                        0.0                         2.0   \n",
       "240027                        0.0                         3.0   \n",
       "117453                        0.0                         0.0   \n",
       "\n",
       "        NAME_FAMILY_STATUS_Married  OCCUPATION_TYPE_Laborers  \\\n",
       "86288                            1                         1   \n",
       "283264                           1                         0   \n",
       "52711                            1                         1   \n",
       "153779                           1                         0   \n",
       "269045                           0                         1   \n",
       "...                            ...                       ...   \n",
       "146224                           1                         1   \n",
       "75232                            1                         0   \n",
       "224453                           1                         0   \n",
       "240027                           1                         0   \n",
       "117453                           0                         0   \n",
       "\n",
       "        CREDIT_INCOME_PERCENT  ANNUITY_INCOME_PERCENT  CREDIT_TERM  \\\n",
       "86288               14.090880                0.379000     0.026897   \n",
       "283264               4.790800                0.150787     0.031474   \n",
       "52711                2.000000                0.100000     0.050000   \n",
       "153779               9.522353                0.507294     0.053274   \n",
       "269045               4.097650                0.152213     0.037146   \n",
       "...                       ...                     ...          ...   \n",
       "146224               6.940000                0.203500     0.029323   \n",
       "75232                3.729333                0.147900     0.039659   \n",
       "224453               2.106182                0.093291     0.044294   \n",
       "240027               3.579833                0.191217     0.053415   \n",
       "117453               2.803057                0.145943     0.052066   \n",
       "\n",
       "        DAYS_EMPLOYED_PERCENT  \n",
       "86288               -0.078709  \n",
       "283264              -0.020417  \n",
       "52711               -0.178386  \n",
       "153779              -0.427664  \n",
       "269045              -0.163932  \n",
       "...                       ...  \n",
       "146224              -0.064356  \n",
       "75232               -0.094501  \n",
       "224453              -0.059828  \n",
       "240027              -0.135544  \n",
       "117453              -0.020057  \n",
       "\n",
       "[61503 rows x 42 columns]"
      ]
     },
     "execution_count": 32,
     "metadata": {},
     "output_type": "execute_result"
    }
   ],
   "source": [
    "X_test"
   ]
  },
  {
   "cell_type": "code",
   "execution_count": 33,
   "metadata": {
    "executionInfo": {
     "elapsed": 376085,
     "status": "ok",
     "timestamp": 1602584422255,
     "user": {
      "displayName": "KEERTHIVASINI R 1928036",
      "photoUrl": "https://lh3.googleusercontent.com/a-/AOh14GjE-mLKrJl0IuVyXmWK6gul8q-AjohuZGI_E5Ur=s64",
      "userId": "17476792325048702527"
     },
     "user_tz": -330
    },
    "id": "4DMcRWS92ww0"
   },
   "outputs": [],
   "source": [
    "anomalyScore=pd.DataFrame(anomalyScoresPCA, columns=['y_scores']) "
   ]
  },
  {
   "cell_type": "code",
   "execution_count": 34,
   "metadata": {
    "executionInfo": {
     "elapsed": 376050,
     "status": "ok",
     "timestamp": 1602584422257,
     "user": {
      "displayName": "KEERTHIVASINI R 1928036",
      "photoUrl": "https://lh3.googleusercontent.com/a-/AOh14GjE-mLKrJl0IuVyXmWK6gul8q-AjohuZGI_E5Ur=s64",
      "userId": "17476792325048702527"
     },
     "user_tz": -330
    },
    "id": "1epIcaDW3SmN"
   },
   "outputs": [],
   "source": [
    "anomalyScore.loc[anomalyScore['y_scores'] <= 0.06, 'y_pred'] = 0\n",
    "anomalyScore.loc[anomalyScore['y_scores'] > 0.06, 'y_pred'] =  1\n"
   ]
  },
  {
   "cell_type": "code",
   "execution_count": 35,
   "metadata": {
    "executionInfo": {
     "elapsed": 376032,
     "status": "ok",
     "timestamp": 1602584422258,
     "user": {
      "displayName": "KEERTHIVASINI R 1928036",
      "photoUrl": "https://lh3.googleusercontent.com/a-/AOh14GjE-mLKrJl0IuVyXmWK6gul8q-AjohuZGI_E5Ur=s64",
      "userId": "17476792325048702527"
     },
     "user_tz": -330
    },
    "id": "VEjeJH6Q4FQn"
   },
   "outputs": [],
   "source": [
    "y_pred = anomalyScore['y_pred']"
   ]
  },
  {
   "cell_type": "code",
   "execution_count": 36,
   "metadata": {
    "colab": {
     "base_uri": "https://localhost:8080/",
     "height": 316
    },
    "executionInfo": {
     "elapsed": 376615,
     "status": "ok",
     "timestamp": 1602584422902,
     "user": {
      "displayName": "KEERTHIVASINI R 1928036",
      "photoUrl": "https://lh3.googleusercontent.com/a-/AOh14GjE-mLKrJl0IuVyXmWK6gul8q-AjohuZGI_E5Ur=s64",
      "userId": "17476792325048702527"
     },
     "user_tz": -330
    },
    "id": "E4qajoVLv9i9",
    "outputId": "73b8df8e-b9b9-4cf9-964f-009f3d0c90eb"
   },
   "outputs": [
    {
     "name": "stdout",
     "output_type": "stream",
     "text": [
      "PCA  errors: 5044\n",
      "Accuracy Score :\n",
      "0.917987740435426\n",
      "Confusion matrix :\n",
      "[[56458     0]\n",
      " [ 5044     1]]\n",
      "Classification Report :\n",
      "              precision    recall  f1-score   support\n",
      "\n",
      "           0       0.92      1.00      0.96     56458\n",
      "           1       1.00      0.00      0.00      5045\n",
      "\n",
      "    accuracy                           0.92     61503\n",
      "   macro avg       0.96      0.50      0.48     61503\n",
      "weighted avg       0.92      0.92      0.88     61503\n",
      "\n",
      "ROC AUC score is:  0.5000991080277503\n"
     ]
    }
   ],
   "source": [
    "n_errors = (y_pred != y_test).sum()\n",
    "# Run Classification Metrics\n",
    "print(\"{}: {}\".format(\"PCA  errors\",n_errors))\n",
    "print(\"Accuracy Score :\")\n",
    "print(accuracy_score(y_test,y_pred))\n",
    "print(\"Confusion matrix :\")\n",
    "print(confusion_matrix(y_test, y_pred))\n",
    "print(\"Classification Report :\")\n",
    "print(classification_report(y_test,y_pred))\n",
    "print(\"ROC AUC score is: \",roc_auc_score(y_test,y_pred))"
   ]
  },
  {
   "cell_type": "markdown",
   "metadata": {
    "id": "B8IbyWPsaovr"
   },
   "source": [
    "## KERNEL PCA"
   ]
  },
  {
   "cell_type": "code",
   "execution_count": 37,
   "metadata": {
    "executionInfo": {
     "elapsed": 376599,
     "status": "ok",
     "timestamp": 1602584422903,
     "user": {
      "displayName": "KEERTHIVASINI R 1928036",
      "photoUrl": "https://lh3.googleusercontent.com/a-/AOh14GjE-mLKrJl0IuVyXmWK6gul8q-AjohuZGI_E5Ur=s64",
      "userId": "17476792325048702527"
     },
     "user_tz": -330
    },
    "id": "HJPbMw5maq67"
   },
   "outputs": [],
   "source": [
    "# Kernel PCA\n",
    "from sklearn.decomposition import KernelPCA\n",
    "\n",
    "n_components = 22\n",
    "kernel = 'rbf'\n",
    "gamma = None\n",
    "fit_inverse_transform = True\n",
    "random_state = state\n",
    "n_jobs = 1\n",
    "\n",
    "kernelPCA = KernelPCA(n_components=n_components, kernel=kernel, \\\n",
    "                gamma=gamma, fit_inverse_transform= \\\n",
    "                fit_inverse_transform, n_jobs=n_jobs, \\\n",
    "                random_state=random_state)\n"
   ]
  },
  {
   "cell_type": "code",
   "execution_count": 38,
   "metadata": {
    "colab": {
     "base_uri": "https://localhost:8080/",
     "height": 399
    },
    "executionInfo": {
     "elapsed": 35360,
     "status": "ok",
     "timestamp": 1602584513658,
     "user": {
      "displayName": "KEERTHIVASINI R 1928036",
      "photoUrl": "https://lh3.googleusercontent.com/a-/AOh14GjE-mLKrJl0IuVyXmWK6gul8q-AjohuZGI_E5Ur=s64",
      "userId": "17476792325048702527"
     },
     "user_tz": -330
    },
    "id": "VSmcge35cO4E",
    "outputId": "b8dac8e0-107a-4d98-b3f0-43f8fcd85e89"
   },
   "outputs": [
    {
     "data": {
      "image/png": "[encoded data removed]",
      "text/plain": [
       "<Figure size 402.375x360 with 1 Axes>"
      ]
     },
     "metadata": {
      "needs_background": "light"
     },
     "output_type": "display_data"
    }
   ],
   "source": [
    "kernelPCA.fit(X_train.iloc[:400])\n",
    "X_train_kernelPCA = kernelPCA.transform(X_train)\n",
    "X_train_kernelPCA = pd.DataFrame(data=X_train_kernelPCA, \\\n",
    "                                 index=X_train.index)\n",
    "\n",
    "X_train_kernelPCA_inverse = kernelPCA.inverse_transform(X_train_kernelPCA)\n",
    "X_train_kernelPCA_inverse = pd.DataFrame(data=X_train_kernelPCA_inverse, \\\n",
    "                                         index=X_train.index)\n",
    "\n",
    "scatterPlot(X_train_kernelPCA, y_train, \"Kernel PCA\")"
   ]
  },
  {
   "cell_type": "code",
   "execution_count": 39,
   "metadata": {
    "colab": {
     "base_uri": "https://localhost:8080/",
     "height": 399
    },
    "executionInfo": {
     "elapsed": 9558,
     "status": "ok",
     "timestamp": 1602584557308,
     "user": {
      "displayName": "KEERTHIVASINI R 1928036",
      "photoUrl": "https://lh3.googleusercontent.com/a-/AOh14GjE-mLKrJl0IuVyXmWK6gul8q-AjohuZGI_E5Ur=s64",
      "userId": "17476792325048702527"
     },
     "user_tz": -330
    },
    "id": "0Ex2LItMbTwU",
    "outputId": "5b54c872-1d9c-4f95-f854-c418a1368b6c"
   },
   "outputs": [
    {
     "data": {
      "image/png": "[encoded data removed]",
      "text/plain": [
       "<Figure size 402.375x360 with 1 Axes>"
      ]
     },
     "metadata": {
      "needs_background": "light"
     },
     "output_type": "display_data"
    }
   ],
   "source": [
    "# PCA on Test Set\n",
    "X_test_kernelPCA = kernelPCA.transform(X_test)\n",
    "X_test_kernelPCA = pd.DataFrame(data=X_test_kernelPCA, index=X_test.index)\n",
    "\n",
    "X_test_kernelPCA_inverse = kernelPCA.inverse_transform(X_test_kernelPCA)\n",
    "X_test_kernelPCA_inverse = pd.DataFrame(data=X_test_kernelPCA_inverse, \\\n",
    "                                  index=X_test.index)\n",
    "\n",
    "scatterPlot(X_test_kernelPCA, y_test, \"Kernel PCA\")"
   ]
  },
  {
   "cell_type": "code",
   "execution_count": 40,
   "metadata": {
    "executionInfo": {
     "elapsed": 1143,
     "status": "ok",
     "timestamp": 1602585544594,
     "user": {
      "displayName": "KEERTHIVASINI R 1928036",
      "photoUrl": "https://lh3.googleusercontent.com/a-/AOh14GjE-mLKrJl0IuVyXmWK6gul8q-AjohuZGI_E5Ur=s64",
      "userId": "17476792325048702527"
     },
     "user_tz": -330
    },
    "id": "9oFYvAJtdI3c"
   },
   "outputs": [],
   "source": [
    "anomalyScoreskernelPCA = anomalyScores(X_test,X_test_kernelPCA_inverse)"
   ]
  },
  {
   "cell_type": "code",
   "execution_count": 41,
   "metadata": {
    "colab": {
     "base_uri": "https://localhost:8080/",
     "height": 573
    },
    "executionInfo": {
     "elapsed": 1885,
     "status": "ok",
     "timestamp": 1602585548877,
     "user": {
      "displayName": "KEERTHIVASINI R 1928036",
      "photoUrl": "https://lh3.googleusercontent.com/a-/AOh14GjE-mLKrJl0IuVyXmWK6gul8q-AjohuZGI_E5Ur=s64",
      "userId": "17476792325048702527"
     },
     "user_tz": -330
    },
    "id": "MhMnfhJ8fWBt",
    "outputId": "c9b09e3d-bc96-438a-e012-d84fab56ff21"
   },
   "outputs": [
    {
     "data": {
      "image/png": "[encoded data removed]",
      "text/plain": [
       "<Figure size 432x288 with 1 Axes>"
      ]
     },
     "metadata": {
      "needs_background": "light"
     },
     "output_type": "display_data"
    },
    {
     "data": {
      "image/png": "[encoded data removed]",
      "text/plain": [
       "<Figure size 432x288 with 1 Axes>"
      ]
     },
     "metadata": {
      "needs_background": "light"
     },
     "output_type": "display_data"
    }
   ],
   "source": [
    "preds = plotResults(y_test, anomalyScoreskernelPCA, True)\n",
    "anomalyScore=pd.DataFrame(anomalyScoreskernelPCA, columns=['y_scores']) "
   ]
  },
  {
   "cell_type": "code",
   "execution_count": 42,
   "metadata": {
    "executionInfo": {
     "elapsed": 1271,
     "status": "ok",
     "timestamp": 1602585549481,
     "user": {
      "displayName": "KEERTHIVASINI R 1928036",
      "photoUrl": "https://lh3.googleusercontent.com/a-/AOh14GjE-mLKrJl0IuVyXmWK6gul8q-AjohuZGI_E5Ur=s64",
      "userId": "17476792325048702527"
     },
     "user_tz": -330
    },
    "id": "5l4RFfxZdmSd"
   },
   "outputs": [],
   "source": [
    "anomalyScore.loc[anomalyScore['y_scores'] <= 0.06, 'y_pred'] = 0\n",
    "anomalyScore.loc[anomalyScore['y_scores'] > 0.06, 'y_pred'] =  1\n",
    "y_pred = anomalyScore['y_pred']"
   ]
  },
  {
   "cell_type": "code",
   "execution_count": 43,
   "metadata": {
    "colab": {
     "base_uri": "https://localhost:8080/",
     "height": 316
    },
    "executionInfo": {
     "elapsed": 1160,
     "status": "ok",
     "timestamp": 1602585552454,
     "user": {
      "displayName": "KEERTHIVASINI R 1928036",
      "photoUrl": "https://lh3.googleusercontent.com/a-/AOh14GjE-mLKrJl0IuVyXmWK6gul8q-AjohuZGI_E5Ur=s64",
      "userId": "17476792325048702527"
     },
     "user_tz": -330
    },
    "id": "ZAOFyeFFdult",
    "outputId": "75777bd7-3024-4ef1-e467-8a156606886e"
   },
   "outputs": [
    {
     "name": "stdout",
     "output_type": "stream",
     "text": [
      "Kernel PCA  errors: 5044\n",
      "Accuracy Score :\n",
      "0.917987740435426\n",
      "Confusion matrix :\n",
      "[[56458     0]\n",
      " [ 5044     1]]\n",
      "Classification Report :\n",
      "              precision    recall  f1-score   support\n",
      "\n",
      "           0       0.92      1.00      0.96     56458\n",
      "           1       1.00      0.00      0.00      5045\n",
      "\n",
      "    accuracy                           0.92     61503\n",
      "   macro avg       0.96      0.50      0.48     61503\n",
      "weighted avg       0.92      0.92      0.88     61503\n",
      "\n",
      "ROC AUC score is:  0.5000991080277503\n"
     ]
    }
   ],
   "source": [
    "n_errors = (y_pred != y_test).sum()\n",
    "# Run Classification Metrics\n",
    "print(\"{}: {}\".format(\"Kernel PCA  errors\",n_errors))\n",
    "print(\"Accuracy Score :\")\n",
    "print(accuracy_score(y_test,y_pred))\n",
    "print(\"Confusion matrix :\")\n",
    "print(confusion_matrix(y_test, y_pred))\n",
    "print(\"Classification Report :\")\n",
    "print(classification_report(y_test,y_pred))\n",
    "print(\"ROC AUC score is: \",roc_auc_score(y_test,y_pred))"
   ]
  }
 ],
 "metadata": {
  "colab": {
   "collapsed_sections": [
    "2Or-6Pc1V8YZ",
    "kEX78jgsV8Ya",
    "f0grrOTyV8Yn",
    "DJN5pseXV8Yw",
    "2P6IbUlKV8Y1",
    "xuNb-q3JV8Y6",
    "dhoEwJXKV8Y-",
    "HAm57N3gV8ZC",
    "WwTwHdUFV8ZG",
    "xR6VXwaEV8ZK",
    "IEh75SD_V8ZN",
    "u1Z_kP9NV8ZQ",
    "QqQWAjnVV8ZU",
    "4QQ104eSV8Za",
    "yvhmm7AAV8Zp",
    "m_O9d2EfV8Zs",
    "dALem1rWV8Zw",
    "DZRhaa99V8Z0",
    "smrF9a8RV8aL",
    "sZy2pt4ZV8aP",
    "poF3guaaV8aU",
    "SIupz7FjV8aY",
    "bj6PimmXV8ab",
    "51w4zQoOV8ag",
    "Shac1JYdV8ap",
    "wbzCQKvOV8a9",
    "l7fXmho-V8bC",
    "EIUOQbUfV8bV",
    "sbylW44lV8cX",
    "cGeupWBGV8ce"
   ],
   "name": "Capstone using Scikit.ipynb",
   "provenance": []
  },
  "kernelspec": {
   "display_name": "Python 3",
   "language": "python",
   "name": "python3"
  },
  "language_info": {
   "codemirror_mode": {
    "name": "ipython",
    "version": 3
   },
   "file_extension": ".py",
   "mimetype": "text/x-python",
   "name": "python",
   "nbconvert_exporter": "python",
   "pygments_lexer": "ipython3",
   "version": "3.7.6"
  }
 },
 "nbformat": 4,
 "nbformat_minor": 1
}
