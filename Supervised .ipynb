{
 "cells": [
  {
   "cell_type": "markdown",
   "metadata": {},
   "source": [
    "# Supervised Learning Technique "
   ]
  },
  {
   "cell_type": "markdown",
   "metadata": {},
   "source": [
    "This notebook show how Supervised Machine Learning techniques can be used to predict the Loan defaulters\n",
    "\n",
    "Algorithms used:<br>\n",
    "Logistic regression <br>\n",
    "Random Forest <br>\n",
    "Extreme Gradient Boost <br>\n",
    "\n",
    "Also I have used SMOTE and Random OverSampler to balance the class."
   ]
  },
  {
   "cell_type": "markdown",
   "metadata": {
    "_uuid": "013aadf35263381f72adc6ac9453a6ddab95b14e",
    "id": "FkmsKFLPV8V4"
   },
   "source": [
    "### Load the data"
   ]
  },
  {
   "cell_type": "code",
   "execution_count": 1,
   "metadata": {
    "_uuid": "778d7eb0679cac970a01cbaa64033c78d20d19cc",
    "executionInfo": {
     "elapsed": 3177,
     "status": "ok",
     "timestamp": 1606906495052,
     "user": {
      "displayName": "KEERTHIVASINI R 1928036",
      "photoUrl": "https://lh3.googleusercontent.com/a-/AOh14GjE-mLKrJl0IuVyXmWK6gul8q-AjohuZGI_E5Ur=s64",
      "userId": "17476792325048702527"
     },
     "user_tz": -330
    },
    "id": "ctqL8DkjV8V8"
   },
   "outputs": [],
   "source": [
    "import pandas as pd \n",
    "import numpy as np\n",
    "import matplotlib\n",
    "import matplotlib.pyplot as plt\n",
    "import seaborn as sns\n",
    "%matplotlib inline \n",
    "\n",
    "import sys\n",
    "import warnings\n",
    "warnings.filterwarnings(\"ignore\")\n",
    "\n",
    "# to visualise al the columns in the dataframe\n",
    "pd.pandas.set_option('display.max_columns', None)"
   ]
  },
  {
   "cell_type": "code",
   "execution_count": 2,
   "metadata": {
    "_uuid": "48399e01e3d0bc79a6286c395a5bf5365eaa4d2e",
    "executionInfo": {
     "elapsed": 10154,
     "status": "ok",
     "timestamp": 1606906502083,
     "user": {
      "displayName": "KEERTHIVASINI R 1928036",
      "photoUrl": "https://lh3.googleusercontent.com/a-/AOh14GjE-mLKrJl0IuVyXmWK6gul8q-AjohuZGI_E5Ur=s64",
      "userId": "17476792325048702527"
     },
     "user_tz": -330
    },
    "id": "WH1oN-wVV8WV"
   },
   "outputs": [],
   "source": [
    "application_train = pd.read_csv('cleandata.csv')"
   ]
  },
  {
   "cell_type": "markdown",
   "metadata": {
    "id": "475dHARvV8cf"
   },
   "source": [
    "## Modeling"
   ]
  },
  {
   "cell_type": "markdown",
   "metadata": {
    "id": "FOc82gymGXOE"
   },
   "source": [
    "### Partitioning"
   ]
  },
  {
   "cell_type": "code",
   "execution_count": 3,
   "metadata": {
    "colab": {
     "base_uri": "https://localhost:8080/"
    },
    "executionInfo": {
     "elapsed": 138274,
     "status": "ok",
     "timestamp": 1606906631875,
     "user": {
      "displayName": "KEERTHIVASINI R 1928036",
      "photoUrl": "https://lh3.googleusercontent.com/a-/AOh14GjE-mLKrJl0IuVyXmWK6gul8q-AjohuZGI_E5Ur=s64",
      "userId": "17476792325048702527"
     },
     "user_tz": -330
    },
    "id": "k-0NefryV8cg",
    "outputId": "1a7b2d20-f23d-4b13-ab8d-6c09b4088c1c"
   },
   "outputs": [
    {
     "name": "stdout",
     "output_type": "stream",
     "text": [
      "outlier_fraction for the whole dataset:\n",
      "0.08781828601345662\n",
      "Fraud Cases : 24825\n",
      "Valid Cases : 282686\n"
     ]
    }
   ],
   "source": [
    "#Determine the number of fraud and valid transactions in the dataset\n",
    "\n",
    "Fraud = application_train[application_train['TARGET']==1]\n",
    "\n",
    "Valid = application_train[application_train['TARGET']==0]\n",
    "\n",
    "outlier_fraction = len(Fraud)/float(len(Valid))\n",
    "\n",
    "print('outlier_fraction for the whole dataset:')\n",
    "print(outlier_fraction)\n",
    "\n",
    "print(\"Fraud Cases : {}\".format(len(Fraud)))\n",
    "\n",
    "print(\"Valid Cases : {}\".format(len(Valid)))"
   ]
  },
  {
   "cell_type": "code",
   "execution_count": 4,
   "metadata": {
    "colab": {
     "base_uri": "https://localhost:8080/"
    },
    "executionInfo": {
     "elapsed": 138264,
     "status": "ok",
     "timestamp": 1606906631877,
     "user": {
      "displayName": "KEERTHIVASINI R 1928036",
      "photoUrl": "https://lh3.googleusercontent.com/a-/AOh14GjE-mLKrJl0IuVyXmWK6gul8q-AjohuZGI_E5Ur=s64",
      "userId": "17476792325048702527"
     },
     "user_tz": -330
    },
    "id": "CHStSM9tV8ci",
    "outputId": "15591ae7-d3f6-494a-9978-90c6c4842663"
   },
   "outputs": [
    {
     "name": "stdout",
     "output_type": "stream",
     "text": [
      "(246008, 210) (246008,)\n",
      "(61503, 210) (61503,)\n"
     ]
    }
   ],
   "source": [
    "from sklearn.model_selection import train_test_split\n",
    "\n",
    "#Create independent and Dependent Features\n",
    "columns = application_train.columns.tolist()\n",
    "# Filter the columns to remove data we do not want \n",
    "columns = [c for c in columns if c not in [\"TARGET\"]]\n",
    "# Store the variable we are predicting \n",
    "target = \"TARGET\"\n",
    "# Define a random state \n",
    "state = np.random.RandomState(42)\n",
    "X = application_train[columns]\n",
    "y = application_train[target]\n",
    "X_train, X_test, y_train, y_test = train_test_split(X, y, test_size=0.2)\n",
    "print(X_train.shape, y_train.shape)\n",
    "print(X_test.shape, y_test.shape)"
   ]
  },
  {
   "cell_type": "markdown",
   "metadata": {
    "id": "AVdWjUQX4Tnq"
   },
   "source": [
    "### More Feature Selection\n",
    "\n",
    "using RandomForestClassifier"
   ]
  },
  {
   "cell_type": "code",
   "execution_count": 6,
   "metadata": {
    "executionInfo": {
     "elapsed": 138236,
     "status": "ok",
     "timestamp": 1606906631883,
     "user": {
      "displayName": "KEERTHIVASINI R 1928036",
      "photoUrl": "https://lh3.googleusercontent.com/a-/AOh14GjE-mLKrJl0IuVyXmWK6gul8q-AjohuZGI_E5Ur=s64",
      "userId": "17476792325048702527"
     },
     "user_tz": -330
    },
    "id": "vJI33XMn4ajM"
   },
   "outputs": [],
   "source": [
    "from sklearn.ensemble import RandomForestClassifier\n",
    "from sklearn.feature_selection import SelectFromModel"
   ]
  },
  {
   "cell_type": "code",
   "execution_count": 7,
   "metadata": {
    "colab": {
     "base_uri": "https://localhost:8080/"
    },
    "executionInfo": {
     "elapsed": 273525,
     "status": "ok",
     "timestamp": 1606906767183,
     "user": {
      "displayName": "KEERTHIVASINI R 1928036",
      "photoUrl": "https://lh3.googleusercontent.com/a-/AOh14GjE-mLKrJl0IuVyXmWK6gul8q-AjohuZGI_E5Ur=s64",
      "userId": "17476792325048702527"
     },
     "user_tz": -330
    },
    "id": "zmEFeqeg45pC",
    "outputId": "38b0bdd3-2404-4790-949e-f54b965f51ed"
   },
   "outputs": [
    {
     "data": {
      "text/plain": [
       "SelectFromModel(estimator=RandomForestClassifier(random_state=RandomState(MT19937) at 0x2211291CD08))"
      ]
     },
     "execution_count": 7,
     "metadata": {},
     "output_type": "execute_result"
    }
   ],
   "source": [
    "sel = SelectFromModel(RandomForestClassifier(n_estimators = 100, random_state=state))\n",
    "sel.fit(X_train, y_train)"
   ]
  },
  {
   "cell_type": "code",
   "execution_count": 8,
   "metadata": {
    "colab": {
     "base_uri": "https://localhost:8080/"
    },
    "executionInfo": {
     "elapsed": 273516,
     "status": "ok",
     "timestamp": 1606906767185,
     "user": {
      "displayName": "KEERTHIVASINI R 1928036",
      "photoUrl": "https://lh3.googleusercontent.com/a-/AOh14GjE-mLKrJl0IuVyXmWK6gul8q-AjohuZGI_E5Ur=s64",
      "userId": "17476792325048702527"
     },
     "user_tz": -330
    },
    "id": "AHUzK0YK4-nz",
    "outputId": "df5d0681-792b-4f3b-c499-8dad29e6e27a"
   },
   "outputs": [
    {
     "data": {
      "text/plain": [
       "array([False, False,  True,  True,  True,  True,  True,  True,  True,\n",
       "        True,  True,  True,  True, False, False, False, False,  True,\n",
       "        True, False, False, False, False, False,  True,  True,  True,\n",
       "        True,  True,  True,  True,  True, False,  True,  True,  True,\n",
       "        True,  True,  True, False,  True,  True, False,  True,  True,\n",
       "        True, False,  True, False, False, False, False, False, False,\n",
       "       False, False, False, False, False, False, False, False, False,\n",
       "       False, False, False, False, False, False, False, False,  True,\n",
       "        True,  True, False, False, False, False, False, False, False,\n",
       "       False, False, False, False, False, False, False, False, False,\n",
       "       False, False, False, False, False, False, False, False,  True,\n",
       "       False, False, False, False, False, False, False, False, False,\n",
       "       False, False, False, False, False, False, False, False, False,\n",
       "        True, False, False, False, False, False, False, False, False,\n",
       "       False, False, False, False, False, False, False, False, False,\n",
       "       False, False, False, False, False, False, False, False, False,\n",
       "       False, False, False, False, False, False, False, False, False,\n",
       "       False, False, False, False, False, False, False, False, False,\n",
       "       False, False, False, False, False, False, False, False, False,\n",
       "       False, False, False, False, False, False, False, False, False,\n",
       "       False, False, False, False, False, False, False, False, False,\n",
       "       False, False, False, False, False, False, False, False, False,\n",
       "       False, False, False, False, False, False, False, False,  True,\n",
       "        True,  True,  True])"
      ]
     },
     "execution_count": 8,
     "metadata": {},
     "output_type": "execute_result"
    }
   ],
   "source": [
    "sel.get_support()"
   ]
  },
  {
   "cell_type": "code",
   "execution_count": 9,
   "metadata": {
    "colab": {
     "base_uri": "https://localhost:8080/"
    },
    "executionInfo": {
     "elapsed": 273506,
     "status": "ok",
     "timestamp": 1606906767187,
     "user": {
      "displayName": "KEERTHIVASINI R 1928036",
      "photoUrl": "https://lh3.googleusercontent.com/a-/AOh14GjE-mLKrJl0IuVyXmWK6gul8q-AjohuZGI_E5Ur=s64",
      "userId": "17476792325048702527"
     },
     "user_tz": -330
    },
    "id": "j9SLwQ8c5AaZ",
    "outputId": "9310d961-babf-4e0f-8bd2-5dc622828554"
   },
   "outputs": [
    {
     "data": {
      "text/plain": [
       "42"
      ]
     },
     "execution_count": 9,
     "metadata": {},
     "output_type": "execute_result"
    }
   ],
   "source": [
    "selected_feat= X_train.columns[(sel.get_support())].tolist()\n",
    "len(selected_feat)"
   ]
  },
  {
   "cell_type": "code",
   "execution_count": 10,
   "metadata": {
    "colab": {
     "base_uri": "https://localhost:8080/"
    },
    "executionInfo": {
     "elapsed": 273497,
     "status": "ok",
     "timestamp": 1606906767189,
     "user": {
      "displayName": "KEERTHIVASINI R 1928036",
      "photoUrl": "https://lh3.googleusercontent.com/a-/AOh14GjE-mLKrJl0IuVyXmWK6gul8q-AjohuZGI_E5Ur=s64",
      "userId": "17476792325048702527"
     },
     "user_tz": -330
    },
    "id": "z9tukYgm5Ch2",
    "outputId": "afe24a90-7b54-4afc-946b-33bb985044db"
   },
   "outputs": [
    {
     "name": "stdout",
     "output_type": "stream",
     "text": [
      "['FLAG_OWN_REALTY', 'CNT_CHILDREN', 'AMT_INCOME_TOTAL', 'AMT_CREDIT', 'AMT_ANNUITY', 'AMT_GOODS_PRICE', 'DAYS_BIRTH', 'DAYS_EMPLOYED', 'DAYS_REGISTRATION', 'DAYS_ID_PUBLISH', 'OWN_CAR_AGE', 'CNT_FAM_MEMBERS', 'REGION_RATING_CLIENT', 'EXT_SOURCE_1', 'EXT_SOURCE_2', 'EXT_SOURCE_3', 'APARTMENTS_AVG', 'BASEMENTAREA_AVG', 'YEARS_BEGINEXPLUATATION_AVG', 'YEARS_BUILD_AVG', 'COMMONAREA_AVG', 'ENTRANCES_AVG', 'FLOORSMAX_AVG', 'FLOORSMIN_AVG', 'LANDAREA_AVG', 'LIVINGAPARTMENTS_AVG', 'LIVINGAREA_AVG', 'NONLIVINGAREA_AVG', 'TOTALAREA_MODE', 'OBS_30_CNT_SOCIAL_CIRCLE', 'DEF_30_CNT_SOCIAL_CIRCLE', 'OBS_60_CNT_SOCIAL_CIRCLE', 'DAYS_LAST_PHONE_CHANGE', 'AMT_REQ_CREDIT_BUREAU_MON', 'AMT_REQ_CREDIT_BUREAU_QRT', 'AMT_REQ_CREDIT_BUREAU_YEAR', 'NAME_FAMILY_STATUS_Married', 'OCCUPATION_TYPE_Laborers', 'CREDIT_INCOME_PERCENT', 'ANNUITY_INCOME_PERCENT', 'CREDIT_TERM', 'DAYS_EMPLOYED_PERCENT']\n"
     ]
    }
   ],
   "source": [
    "print(selected_feat)"
   ]
  },
  {
   "cell_type": "code",
   "execution_count": 11,
   "metadata": {
    "executionInfo": {
     "elapsed": 273487,
     "status": "ok",
     "timestamp": 1606906767191,
     "user": {
      "displayName": "KEERTHIVASINI R 1928036",
      "photoUrl": "https://lh3.googleusercontent.com/a-/AOh14GjE-mLKrJl0IuVyXmWK6gul8q-AjohuZGI_E5Ur=s64",
      "userId": "17476792325048702527"
     },
     "user_tz": -330
    },
    "id": "6y2s0zxcmNVW"
   },
   "outputs": [],
   "source": [
    "app_X_train = X_train.copy() #Taking a copy before dropping \n",
    "app_X_test = X_test.copy()"
   ]
  },
  {
   "cell_type": "code",
   "execution_count": 12,
   "metadata": {
    "executionInfo": {
     "elapsed": 273475,
     "status": "ok",
     "timestamp": 1606906767193,
     "user": {
      "displayName": "KEERTHIVASINI R 1928036",
      "photoUrl": "https://lh3.googleusercontent.com/a-/AOh14GjE-mLKrJl0IuVyXmWK6gul8q-AjohuZGI_E5Ur=s64",
      "userId": "17476792325048702527"
     },
     "user_tz": -330
    },
    "id": "XRO64vlLmWx2"
   },
   "outputs": [],
   "source": [
    "X_train = X_train[selected_feat]\n",
    "X_test = X_test[selected_feat]"
   ]
  },
  {
   "cell_type": "code",
   "execution_count": 13,
   "metadata": {
    "colab": {
     "base_uri": "https://localhost:8080/"
    },
    "executionInfo": {
     "elapsed": 273465,
     "status": "ok",
     "timestamp": 1606906767194,
     "user": {
      "displayName": "KEERTHIVASINI R 1928036",
      "photoUrl": "https://lh3.googleusercontent.com/a-/AOh14GjE-mLKrJl0IuVyXmWK6gul8q-AjohuZGI_E5Ur=s64",
      "userId": "17476792325048702527"
     },
     "user_tz": -330
    },
    "id": "c6Bo85pgnTDG",
    "outputId": "d5ecb250-fe7c-462c-9faf-20c8d66dcac6"
   },
   "outputs": [
    {
     "name": "stdout",
     "output_type": "stream",
     "text": [
      "(246008, 42) (61503, 42)\n"
     ]
    }
   ],
   "source": [
    "print (X_train.shape, X_test.shape)"
   ]
  },
  {
   "cell_type": "markdown",
   "metadata": {
    "id": "Nx4p9AR8lVdW"
   },
   "source": [
    "------------------------------"
   ]
  },
  {
   "cell_type": "markdown",
   "metadata": {
    "id": "jozAagpFpwSg"
   },
   "source": [
    "## Logistic Regression"
   ]
  },
  {
   "cell_type": "code",
   "execution_count": 15,
   "metadata": {
    "executionInfo": {
     "elapsed": 274471,
     "status": "ok",
     "timestamp": 1606906768258,
     "user": {
      "displayName": "KEERTHIVASINI R 1928036",
      "photoUrl": "https://lh3.googleusercontent.com/a-/AOh14GjE-mLKrJl0IuVyXmWK6gul8q-AjohuZGI_E5Ur=s64",
      "userId": "17476792325048702527"
     },
     "user_tz": -330
    },
    "id": "8DUGfcmwnw0k"
   },
   "outputs": [],
   "source": [
    "\n",
    "from sklearn.linear_model import LogisticRegression\n",
    "\n",
    "logistic_regressor = LogisticRegression(C = 2)"
   ]
  },
  {
   "cell_type": "code",
   "execution_count": 16,
   "metadata": {
    "colab": {
     "base_uri": "https://localhost:8080/"
    },
    "executionInfo": {
     "elapsed": 281577,
     "status": "ok",
     "timestamp": 1606906775374,
     "user": {
      "displayName": "KEERTHIVASINI R 1928036",
      "photoUrl": "https://lh3.googleusercontent.com/a-/AOh14GjE-mLKrJl0IuVyXmWK6gul8q-AjohuZGI_E5Ur=s64",
      "userId": "17476792325048702527"
     },
     "user_tz": -330
    },
    "id": "8bPF_U_wnywA",
    "outputId": "e70edaef-08aa-4514-9a8f-f259f4a84f84"
   },
   "outputs": [
    {
     "data": {
      "text/plain": [
       "LogisticRegression(C=2)"
      ]
     },
     "execution_count": 16,
     "metadata": {},
     "output_type": "execute_result"
    }
   ],
   "source": [
    "logistic_regressor.fit(X_train,y_train)\n"
   ]
  },
  {
   "cell_type": "code",
   "execution_count": 17,
   "metadata": {
    "executionInfo": {
     "elapsed": 281563,
     "status": "ok",
     "timestamp": 1606906775376,
     "user": {
      "displayName": "KEERTHIVASINI R 1928036",
      "photoUrl": "https://lh3.googleusercontent.com/a-/AOh14GjE-mLKrJl0IuVyXmWK6gul8q-AjohuZGI_E5Ur=s64",
      "userId": "17476792325048702527"
     },
     "user_tz": -330
    },
    "id": "7aw89xeQn936"
   },
   "outputs": [],
   "source": [
    "y_pred = logistic_regressor.predict(X_test)"
   ]
  },
  {
   "cell_type": "code",
   "execution_count": 18,
   "metadata": {
    "colab": {
     "base_uri": "https://localhost:8080/"
    },
    "executionInfo": {
     "elapsed": 281556,
     "status": "ok",
     "timestamp": 1606906775379,
     "user": {
      "displayName": "KEERTHIVASINI R 1928036",
      "photoUrl": "https://lh3.googleusercontent.com/a-/AOh14GjE-mLKrJl0IuVyXmWK6gul8q-AjohuZGI_E5Ur=s64",
      "userId": "17476792325048702527"
     },
     "user_tz": -330
    },
    "id": "umTLK0bgowfl",
    "outputId": "e0ccd1d6-902e-4c45-8afe-2685cecc2eb5"
   },
   "outputs": [
    {
     "name": "stdout",
     "output_type": "stream",
     "text": [
      "Logistic Regression errors: 4946\n",
      "Accuracy Score :\n",
      "0.9195811586426679\n",
      "Confusion matrix :\n",
      "[[56557     3]\n",
      " [ 4943     0]]\n",
      "Classification Report :\n",
      "              precision    recall  f1-score   support\n",
      "\n",
      "           0       0.92      1.00      0.96     56560\n",
      "           1       0.00      0.00      0.00      4943\n",
      "\n",
      "    accuracy                           0.92     61503\n",
      "   macro avg       0.46      0.50      0.48     61503\n",
      "weighted avg       0.85      0.92      0.88     61503\n",
      "\n",
      "ROC AUC score is:  0.4999734794908062\n"
     ]
    }
   ],
   "source": [
    "from sklearn.metrics import classification_report,accuracy_score, f1_score, roc_auc_score\n",
    "from sklearn.metrics import confusion_matrix\n",
    "\n",
    "n_errors = (y_pred != y_test).sum()\n",
    "# Run Classification Metrics\n",
    "print(\"{}: {}\".format(\"Logistic Regression errors\",n_errors))\n",
    "print(\"Accuracy Score :\")\n",
    "print(accuracy_score(y_test,y_pred))\n",
    "print(\"Confusion matrix :\")\n",
    "print(confusion_matrix(y_test, y_pred))\n",
    "print(\"Classification Report :\")\n",
    "print(classification_report(y_test,y_pred))\n",
    "print(\"ROC AUC score is: \",roc_auc_score(y_test,y_pred))"
   ]
  },
  {
   "cell_type": "markdown",
   "metadata": {
    "id": "c62hk2Tnpj9M"
   },
   "source": [
    "## Random Forest - Bagging ensemble of Decision trees"
   ]
  },
  {
   "cell_type": "code",
   "execution_count": 19,
   "metadata": {
    "executionInfo": {
     "elapsed": 281540,
     "status": "ok",
     "timestamp": 1606906775380,
     "user": {
      "displayName": "KEERTHIVASINI R 1928036",
      "photoUrl": "https://lh3.googleusercontent.com/a-/AOh14GjE-mLKrJl0IuVyXmWK6gul8q-AjohuZGI_E5Ur=s64",
      "userId": "17476792325048702527"
     },
     "user_tz": -330
    },
    "id": "D8Fnukf9plLM"
   },
   "outputs": [],
   "source": [
    "from sklearn.ensemble import RandomForestClassifier\n",
    "\n",
    "random_forest = RandomForestClassifier(n_estimators = 100, random_state = state, verbose = 1, n_jobs = -1)"
   ]
  },
  {
   "cell_type": "code",
   "execution_count": 20,
   "metadata": {
    "colab": {
     "base_uri": "https://localhost:8080/"
    },
    "executionInfo": {
     "elapsed": 392504,
     "status": "ok",
     "timestamp": 1606906886354,
     "user": {
      "displayName": "KEERTHIVASINI R 1928036",
      "photoUrl": "https://lh3.googleusercontent.com/a-/AOh14GjE-mLKrJl0IuVyXmWK6gul8q-AjohuZGI_E5Ur=s64",
      "userId": "17476792325048702527"
     },
     "user_tz": -330
    },
    "id": "Y2NdE3vDplOL",
    "outputId": "6c6c1501-9369-411e-c686-88c4ab7c95fd"
   },
   "outputs": [
    {
     "name": "stderr",
     "output_type": "stream",
     "text": [
      "[Parallel(n_jobs=-1)]: Using backend ThreadingBackend with 4 concurrent workers.\n",
      "[Parallel(n_jobs=-1)]: Done  42 tasks      | elapsed:   29.7s\n",
      "[Parallel(n_jobs=-1)]: Done 100 out of 100 | elapsed:  1.1min finished\n"
     ]
    },
    {
     "data": {
      "text/plain": [
       "RandomForestClassifier(n_jobs=-1,\n",
       "                       random_state=RandomState(MT19937) at 0x2211291CD08,\n",
       "                       verbose=1)"
      ]
     },
     "execution_count": 20,
     "metadata": {},
     "output_type": "execute_result"
    }
   ],
   "source": [
    "random_forest.fit(X_train,y_train)"
   ]
  },
  {
   "cell_type": "code",
   "execution_count": 21,
   "metadata": {
    "colab": {
     "base_uri": "https://localhost:8080/"
    },
    "executionInfo": {
     "elapsed": 394105,
     "status": "ok",
     "timestamp": 1606906887972,
     "user": {
      "displayName": "KEERTHIVASINI R 1928036",
      "photoUrl": "https://lh3.googleusercontent.com/a-/AOh14GjE-mLKrJl0IuVyXmWK6gul8q-AjohuZGI_E5Ur=s64",
      "userId": "17476792325048702527"
     },
     "user_tz": -330
    },
    "id": "YAQIbJnGrNUG",
    "outputId": "3a135eda-e9e6-4a5f-bf27-a72cc0dba754"
   },
   "outputs": [
    {
     "name": "stderr",
     "output_type": "stream",
     "text": [
      "[Parallel(n_jobs=4)]: Using backend ThreadingBackend with 4 concurrent workers.\n",
      "[Parallel(n_jobs=4)]: Done  42 tasks      | elapsed:    0.4s\n",
      "[Parallel(n_jobs=4)]: Done 100 out of 100 | elapsed:    1.0s finished\n"
     ]
    }
   ],
   "source": [
    "y_pred = random_forest.predict(X_test) "
   ]
  },
  {
   "cell_type": "code",
   "execution_count": 22,
   "metadata": {
    "colab": {
     "base_uri": "https://localhost:8080/"
    },
    "executionInfo": {
     "elapsed": 394090,
     "status": "ok",
     "timestamp": 1606906887974,
     "user": {
      "displayName": "KEERTHIVASINI R 1928036",
      "photoUrl": "https://lh3.googleusercontent.com/a-/AOh14GjE-mLKrJl0IuVyXmWK6gul8q-AjohuZGI_E5Ur=s64",
      "userId": "17476792325048702527"
     },
     "user_tz": -330
    },
    "id": "TK-X3PGVrfBJ",
    "outputId": "e733f5a3-26f7-454b-e71d-9100c374b2c4"
   },
   "outputs": [
    {
     "name": "stdout",
     "output_type": "stream",
     "text": [
      "Random Forest errors: 4937\n",
      "Accuracy Score :\n",
      "0.9197274929678227\n",
      "Confusion matrix :\n",
      "[[56543    17]\n",
      " [ 4920    23]]\n",
      "Classification Report :\n",
      "              precision    recall  f1-score   support\n",
      "\n",
      "           0       0.92      1.00      0.96     56560\n",
      "           1       0.57      0.00      0.01      4943\n",
      "\n",
      "    accuracy                           0.92     61503\n",
      "   macro avg       0.75      0.50      0.48     61503\n",
      "weighted avg       0.89      0.92      0.88     61503\n",
      "\n",
      "ROC AUC score is:  0.5021762394694138\n"
     ]
    }
   ],
   "source": [
    "n_errors = (y_pred != y_test).sum()\n",
    "# Run Classification Metrics\n",
    "print(\"{}: {}\".format(\"Random Forest errors\",n_errors))\n",
    "print(\"Accuracy Score :\")\n",
    "print(accuracy_score(y_test,y_pred))\n",
    "print(\"Confusion matrix :\")\n",
    "print(confusion_matrix(y_test, y_pred))\n",
    "print(\"Classification Report :\")\n",
    "print(classification_report(y_test,y_pred))\n",
    "print(\"ROC AUC score is: \",roc_auc_score(y_test,y_pred))"
   ]
  },
  {
   "cell_type": "markdown",
   "metadata": {
    "id": "9Ax1eagipjuQ"
   },
   "source": [
    "## Extreme Gradient Boost Model"
   ]
  },
  {
   "cell_type": "code",
   "execution_count": 23,
   "metadata": {
    "executionInfo": {
     "elapsed": 394072,
     "status": "ok",
     "timestamp": 1606906887976,
     "user": {
      "displayName": "KEERTHIVASINI R 1928036",
      "photoUrl": "https://lh3.googleusercontent.com/a-/AOh14GjE-mLKrJl0IuVyXmWK6gul8q-AjohuZGI_E5Ur=s64",
      "userId": "17476792325048702527"
     },
     "user_tz": -330
    },
    "id": "BIU9LxK-rxXW"
   },
   "outputs": [],
   "source": [
    "from xgboost import XGBClassifier"
   ]
  },
  {
   "cell_type": "code",
   "execution_count": 24,
   "metadata": {
    "executionInfo": {
     "elapsed": 394062,
     "status": "ok",
     "timestamp": 1606906887977,
     "user": {
      "displayName": "KEERTHIVASINI R 1928036",
      "photoUrl": "https://lh3.googleusercontent.com/a-/AOh14GjE-mLKrJl0IuVyXmWK6gul8q-AjohuZGI_E5Ur=s64",
      "userId": "17476792325048702527"
     },
     "user_tz": -330
    },
    "id": "OsQY4m_3r8g5"
   },
   "outputs": [],
   "source": [
    "xgb_classifier = XGBClassifier(n_estimators=100,max_depth=5)"
   ]
  },
  {
   "cell_type": "code",
   "execution_count": 25,
   "metadata": {
    "colab": {
     "base_uri": "https://localhost:8080/"
    },
    "executionInfo": {
     "elapsed": 467523,
     "status": "ok",
     "timestamp": 1606906961449,
     "user": {
      "displayName": "KEERTHIVASINI R 1928036",
      "photoUrl": "https://lh3.googleusercontent.com/a-/AOh14GjE-mLKrJl0IuVyXmWK6gul8q-AjohuZGI_E5Ur=s64",
      "userId": "17476792325048702527"
     },
     "user_tz": -330
    },
    "id": "KuJ-OMsTsHhE",
    "outputId": "9b54621e-1e19-4b44-f2a1-5b9fa4558354"
   },
   "outputs": [
    {
     "data": {
      "text/plain": [
       "XGBClassifier(max_depth=5)"
      ]
     },
     "execution_count": 25,
     "metadata": {},
     "output_type": "execute_result"
    }
   ],
   "source": [
    "xgb_classifier.fit(X_train,y_train)"
   ]
  },
  {
   "cell_type": "code",
   "execution_count": 26,
   "metadata": {
    "executionInfo": {
     "elapsed": 471283,
     "status": "ok",
     "timestamp": 1606906965219,
     "user": {
      "displayName": "KEERTHIVASINI R 1928036",
      "photoUrl": "https://lh3.googleusercontent.com/a-/AOh14GjE-mLKrJl0IuVyXmWK6gul8q-AjohuZGI_E5Ur=s64",
      "userId": "17476792325048702527"
     },
     "user_tz": -330
    },
    "id": "x-CANuQysOWC"
   },
   "outputs": [],
   "source": [
    "y_pred = xgb_classifier.predict(X_test)"
   ]
  },
  {
   "cell_type": "code",
   "execution_count": 27,
   "metadata": {
    "colab": {
     "base_uri": "https://localhost:8080/"
    },
    "executionInfo": {
     "elapsed": 471274,
     "status": "ok",
     "timestamp": 1606906965221,
     "user": {
      "displayName": "KEERTHIVASINI R 1928036",
      "photoUrl": "https://lh3.googleusercontent.com/a-/AOh14GjE-mLKrJl0IuVyXmWK6gul8q-AjohuZGI_E5Ur=s64",
      "userId": "17476792325048702527"
     },
     "user_tz": -330
    },
    "id": "jXRsRZ4BsZbf",
    "outputId": "4e1afe61-e3da-4cd5-a6d2-5b9bc6751b57"
   },
   "outputs": [
    {
     "name": "stdout",
     "output_type": "stream",
     "text": [
      "Extreme Gradient Boost errors: 4927\n",
      "Accuracy Score :\n",
      "0.9198900866624392\n",
      "Confusion matrix :\n",
      "[[56520    40]\n",
      " [ 4887    56]]\n",
      "Classification Report :\n",
      "              precision    recall  f1-score   support\n",
      "\n",
      "           0       0.92      1.00      0.96     56560\n",
      "           1       0.58      0.01      0.02      4943\n",
      "\n",
      "    accuracy                           0.92     61503\n",
      "   macro avg       0.75      0.51      0.49     61503\n",
      "weighted avg       0.89      0.92      0.88     61503\n",
      "\n",
      "ROC AUC score is:  0.5053109693790685\n"
     ]
    }
   ],
   "source": [
    "n_errors = (y_pred != y_test).sum()\n",
    "# Run Classification Metrics\n",
    "print(\"{}: {}\".format(\"Extreme Gradient Boost errors\",n_errors))\n",
    "print(\"Accuracy Score :\")\n",
    "print(accuracy_score(y_test,y_pred))\n",
    "print(\"Confusion matrix :\")\n",
    "print(confusion_matrix(y_test, y_pred))\n",
    "print(\"Classification Report :\")\n",
    "print(classification_report(y_test,y_pred))\n",
    "print(\"ROC AUC score is: \",roc_auc_score(y_test,y_pred))"
   ]
  },
  {
   "cell_type": "markdown",
   "metadata": {
    "id": "AjSb4zibuzBH"
   },
   "source": [
    "# Balancing class - using SMOTETomek\n",
    "\n",
    "I have used SMOTETomek which is a method of imblearn. SMOTETomek is a hybrid method which uses an under sampling method (Tomek) in with an over sampling method (SMOTE)."
   ]
  },
  {
   "cell_type": "code",
   "execution_count": 28,
   "metadata": {
    "executionInfo": {
     "elapsed": 471240,
     "status": "ok",
     "timestamp": 1606906965229,
     "user": {
      "displayName": "KEERTHIVASINI R 1928036",
      "photoUrl": "https://lh3.googleusercontent.com/a-/AOh14GjE-mLKrJl0IuVyXmWK6gul8q-AjohuZGI_E5Ur=s64",
      "userId": "17476792325048702527"
     },
     "user_tz": -330
    },
    "id": "vKX0_k2NvUnq"
   },
   "outputs": [],
   "source": [
    "from imblearn.combine import SMOTETomek\n",
    "from imblearn.under_sampling import NearMiss"
   ]
  },
  {
   "cell_type": "code",
   "execution_count": 29,
   "metadata": {
    "executionInfo": {
     "elapsed": 536502,
     "status": "ok",
     "timestamp": 1606907030501,
     "user": {
      "displayName": "KEERTHIVASINI R 1928036",
      "photoUrl": "https://lh3.googleusercontent.com/a-/AOh14GjE-mLKrJl0IuVyXmWK6gul8q-AjohuZGI_E5Ur=s64",
      "userId": "17476792325048702527"
     },
     "user_tz": -330
    },
    "id": "UArPeXKlvXHM"
   },
   "outputs": [],
   "source": [
    "# Implementing Oversampling for Handling Imbalanced \n",
    "smk = SMOTETomek(random_state=42)\n",
    "X_res,y_res=smk.fit_sample(X_train,y_train)"
   ]
  },
  {
   "cell_type": "code",
   "execution_count": 30,
   "metadata": {
    "colab": {
     "base_uri": "https://localhost:8080/"
    },
    "executionInfo": {
     "elapsed": 536495,
     "status": "ok",
     "timestamp": 1606907030504,
     "user": {
      "displayName": "KEERTHIVASINI R 1928036",
      "photoUrl": "https://lh3.googleusercontent.com/a-/AOh14GjE-mLKrJl0IuVyXmWK6gul8q-AjohuZGI_E5Ur=s64",
      "userId": "17476792325048702527"
     },
     "user_tz": -330
    },
    "id": "RE5EqC0yvZou",
    "outputId": "698d12c2-7598-4629-f11f-14c6255b3a84"
   },
   "outputs": [
    {
     "data": {
      "text/plain": [
       "((447264, 42), (447264,))"
      ]
     },
     "execution_count": 30,
     "metadata": {},
     "output_type": "execute_result"
    }
   ],
   "source": [
    "X_res.shape,y_res.shape"
   ]
  },
  {
   "cell_type": "code",
   "execution_count": 31,
   "metadata": {
    "colab": {
     "base_uri": "https://localhost:8080/"
    },
    "executionInfo": {
     "elapsed": 536489,
     "status": "ok",
     "timestamp": 1606907030509,
     "user": {
      "displayName": "KEERTHIVASINI R 1928036",
      "photoUrl": "https://lh3.googleusercontent.com/a-/AOh14GjE-mLKrJl0IuVyXmWK6gul8q-AjohuZGI_E5Ur=s64",
      "userId": "17476792325048702527"
     },
     "user_tz": -330
    },
    "id": "mMAeLX23x3cS",
    "outputId": "4939c753-5d20-4c28-db01-55af1f8977d8"
   },
   "outputs": [
    {
     "name": "stdout",
     "output_type": "stream",
     "text": [
      "Original dataset shape Counter({0: 226126, 1: 19882})\n",
      "Resampled dataset shape Counter({0: 223632, 1: 223632})\n"
     ]
    }
   ],
   "source": [
    "from collections import Counter\n",
    "print('Original dataset shape {}'.format(Counter(y_train)))\n",
    "print('Resampled dataset shape {}'.format(Counter(y_res)))"
   ]
  },
  {
   "cell_type": "markdown",
   "metadata": {
    "id": "9iWcpc2s53Fu"
   },
   "source": [
    "## Logistic regression"
   ]
  },
  {
   "cell_type": "code",
   "execution_count": 32,
   "metadata": {
    "colab": {
     "base_uri": "https://localhost:8080/"
    },
    "executionInfo": {
     "elapsed": 548373,
     "status": "ok",
     "timestamp": 1606907042403,
     "user": {
      "displayName": "KEERTHIVASINI R 1928036",
      "photoUrl": "https://lh3.googleusercontent.com/a-/AOh14GjE-mLKrJl0IuVyXmWK6gul8q-AjohuZGI_E5Ur=s64",
      "userId": "17476792325048702527"
     },
     "user_tz": -330
    },
    "id": "-rD5RYtSyYWk",
    "outputId": "3b2bf358-6ec5-4e8f-9a5b-86dec346a437"
   },
   "outputs": [
    {
     "data": {
      "text/plain": [
       "LogisticRegression(C=2)"
      ]
     },
     "execution_count": 32,
     "metadata": {},
     "output_type": "execute_result"
    }
   ],
   "source": [
    "logistic_regressor.fit(X_res,y_res)"
   ]
  },
  {
   "cell_type": "code",
   "execution_count": 33,
   "metadata": {
    "executionInfo": {
     "elapsed": 548368,
     "status": "ok",
     "timestamp": 1606907042408,
     "user": {
      "displayName": "KEERTHIVASINI R 1928036",
      "photoUrl": "https://lh3.googleusercontent.com/a-/AOh14GjE-mLKrJl0IuVyXmWK6gul8q-AjohuZGI_E5Ur=s64",
      "userId": "17476792325048702527"
     },
     "user_tz": -330
    },
    "id": "RCmB4dmj0FbH"
   },
   "outputs": [],
   "source": [
    "y_pred = logistic_regressor.predict(X_test)"
   ]
  },
  {
   "cell_type": "code",
   "execution_count": 34,
   "metadata": {
    "colab": {
     "base_uri": "https://localhost:8080/"
    },
    "executionInfo": {
     "elapsed": 548358,
     "status": "ok",
     "timestamp": 1606907042409,
     "user": {
      "displayName": "KEERTHIVASINI R 1928036",
      "photoUrl": "https://lh3.googleusercontent.com/a-/AOh14GjE-mLKrJl0IuVyXmWK6gul8q-AjohuZGI_E5Ur=s64",
      "userId": "17476792325048702527"
     },
     "user_tz": -330
    },
    "id": "oozSN-QV0LRk",
    "outputId": "5ae85429-e9e2-4ddf-ca68-e5ccac01812d"
   },
   "outputs": [
    {
     "name": "stdout",
     "output_type": "stream",
     "text": [
      "Logistic Regression errors: 23015\n",
      "Accuracy Score :\n",
      "0.6257906118400729\n",
      "Confusion matrix :\n",
      "[[35929 20631]\n",
      " [ 2384  2559]]\n",
      "Classification Report :\n",
      "              precision    recall  f1-score   support\n",
      "\n",
      "           0       0.94      0.64      0.76     56560\n",
      "           1       0.11      0.52      0.18      4943\n",
      "\n",
      "    accuracy                           0.63     61503\n",
      "   macro avg       0.52      0.58      0.47     61503\n",
      "weighted avg       0.87      0.63      0.71     61503\n",
      "\n",
      "ROC AUC score is:  0.576469358537397\n"
     ]
    }
   ],
   "source": [
    "n_errors = (y_pred != y_test).sum()\n",
    "# Run Classification Metrics\n",
    "print(\"{}: {}\".format(\"Logistic Regression errors\",n_errors))\n",
    "print(\"Accuracy Score :\")\n",
    "print(accuracy_score(y_test,y_pred))\n",
    "print(\"Confusion matrix :\")\n",
    "print(confusion_matrix(y_test, y_pred))\n",
    "print(\"Classification Report :\")\n",
    "print(classification_report(y_test,y_pred))\n",
    "print(\"ROC AUC score is: \",roc_auc_score(y_test,y_pred))"
   ]
  },
  {
   "cell_type": "markdown",
   "metadata": {
    "id": "4jAfxrJS6MaH"
   },
   "source": [
    "## Random forest"
   ]
  },
  {
   "cell_type": "code",
   "execution_count": 35,
   "metadata": {
    "colab": {
     "base_uri": "https://localhost:8080/"
    },
    "executionInfo": {
     "elapsed": 733469,
     "status": "ok",
     "timestamp": 1606907227530,
     "user": {
      "displayName": "KEERTHIVASINI R 1928036",
      "photoUrl": "https://lh3.googleusercontent.com/a-/AOh14GjE-mLKrJl0IuVyXmWK6gul8q-AjohuZGI_E5Ur=s64",
      "userId": "17476792325048702527"
     },
     "user_tz": -330
    },
    "id": "Mon35pb96DJx",
    "outputId": "f76834c2-0f5c-44c7-9970-616da896fd25"
   },
   "outputs": [
    {
     "name": "stderr",
     "output_type": "stream",
     "text": [
      "[Parallel(n_jobs=-1)]: Using backend ThreadingBackend with 4 concurrent workers.\n",
      "[Parallel(n_jobs=-1)]: Done  42 tasks      | elapsed:   57.3s\n",
      "[Parallel(n_jobs=-1)]: Done 100 out of 100 | elapsed:  2.1min finished\n"
     ]
    },
    {
     "data": {
      "text/plain": [
       "RandomForestClassifier(n_jobs=-1,\n",
       "                       random_state=RandomState(MT19937) at 0x2211291CD08,\n",
       "                       verbose=1)"
      ]
     },
     "execution_count": 35,
     "metadata": {},
     "output_type": "execute_result"
    }
   ],
   "source": [
    "random_forest.fit(X_res,y_res)"
   ]
  },
  {
   "cell_type": "code",
   "execution_count": 36,
   "metadata": {
    "colab": {
     "base_uri": "https://localhost:8080/"
    },
    "executionInfo": {
     "elapsed": 734129,
     "status": "ok",
     "timestamp": 1606907228200,
     "user": {
      "displayName": "KEERTHIVASINI R 1928036",
      "photoUrl": "https://lh3.googleusercontent.com/a-/AOh14GjE-mLKrJl0IuVyXmWK6gul8q-AjohuZGI_E5Ur=s64",
      "userId": "17476792325048702527"
     },
     "user_tz": -330
    },
    "id": "UWAXQ2U_57qN",
    "outputId": "1e3118bf-6525-4203-818d-471773cd0151"
   },
   "outputs": [
    {
     "name": "stderr",
     "output_type": "stream",
     "text": [
      "[Parallel(n_jobs=4)]: Using backend ThreadingBackend with 4 concurrent workers.\n",
      "[Parallel(n_jobs=4)]: Done  42 tasks      | elapsed:    0.4s\n",
      "[Parallel(n_jobs=4)]: Done 100 out of 100 | elapsed:    1.1s finished\n"
     ]
    }
   ],
   "source": [
    "y_pred = random_forest.predict(X_test)"
   ]
  },
  {
   "cell_type": "code",
   "execution_count": 37,
   "metadata": {
    "colab": {
     "base_uri": "https://localhost:8080/"
    },
    "executionInfo": {
     "elapsed": 734121,
     "status": "ok",
     "timestamp": 1606907228203,
     "user": {
      "displayName": "KEERTHIVASINI R 1928036",
      "photoUrl": "https://lh3.googleusercontent.com/a-/AOh14GjE-mLKrJl0IuVyXmWK6gul8q-AjohuZGI_E5Ur=s64",
      "userId": "17476792325048702527"
     },
     "user_tz": -330
    },
    "id": "hiiXOZD96bMA",
    "outputId": "badb77bb-76b0-41bd-ff0a-b115989517e7"
   },
   "outputs": [
    {
     "name": "stdout",
     "output_type": "stream",
     "text": [
      "Random Forest errors: 5226\n",
      "Accuracy Score :\n",
      "0.9150285351934052\n",
      "Confusion matrix :\n",
      "[[56165   395]\n",
      " [ 4831   112]]\n",
      "Classification Report :\n",
      "              precision    recall  f1-score   support\n",
      "\n",
      "           0       0.92      0.99      0.96     56560\n",
      "           1       0.22      0.02      0.04      4943\n",
      "\n",
      "    accuracy                           0.92     61503\n",
      "   macro avg       0.57      0.51      0.50     61503\n",
      "weighted avg       0.86      0.92      0.88     61503\n",
      "\n",
      "ROC AUC score is:  0.5078372852927905\n"
     ]
    }
   ],
   "source": [
    "n_errors = (y_pred != y_test).sum()\n",
    "# Run Classification Metrics\n",
    "print(\"{}: {}\".format(\"Random Forest errors\",n_errors))\n",
    "print(\"Accuracy Score :\")\n",
    "print(accuracy_score(y_test,y_pred))\n",
    "print(\"Confusion matrix :\")\n",
    "print(confusion_matrix(y_test, y_pred))\n",
    "print(\"Classification Report :\")\n",
    "print(classification_report(y_test,y_pred))\n",
    "print(\"ROC AUC score is: \",roc_auc_score(y_test,y_pred))"
   ]
  },
  {
   "cell_type": "markdown",
   "metadata": {
    "id": "fJh0M6Yj-hQ0"
   },
   "source": [
    "## XGBoost"
   ]
  },
  {
   "cell_type": "code",
   "execution_count": 38,
   "metadata": {
    "executionInfo": {
     "elapsed": 734113,
     "status": "ok",
     "timestamp": 1606907228205,
     "user": {
      "displayName": "KEERTHIVASINI R 1928036",
      "photoUrl": "https://lh3.googleusercontent.com/a-/AOh14GjE-mLKrJl0IuVyXmWK6gul8q-AjohuZGI_E5Ur=s64",
      "userId": "17476792325048702527"
     },
     "user_tz": -330
    },
    "id": "WDP3HA1nBUH9"
   },
   "outputs": [],
   "source": [
    "X_res = pd.DataFrame(data=X_res, columns=selected_feat)"
   ]
  },
  {
   "cell_type": "code",
   "execution_count": 39,
   "metadata": {
    "colab": {
     "base_uri": "https://localhost:8080/"
    },
    "executionInfo": {
     "elapsed": 935350,
     "status": "ok",
     "timestamp": 1606907429451,
     "user": {
      "displayName": "KEERTHIVASINI R 1928036",
      "photoUrl": "https://lh3.googleusercontent.com/a-/AOh14GjE-mLKrJl0IuVyXmWK6gul8q-AjohuZGI_E5Ur=s64",
      "userId": "17476792325048702527"
     },
     "user_tz": -330
    },
    "id": "3mwSrqqt-Ud8",
    "outputId": "b7d75bcf-e440-4f82-fd4b-1079bba012db"
   },
   "outputs": [
    {
     "data": {
      "text/plain": [
       "XGBClassifier(max_depth=5)"
      ]
     },
     "execution_count": 39,
     "metadata": {},
     "output_type": "execute_result"
    }
   ],
   "source": [
    "xgb_classifier.fit(X_res,y_res)"
   ]
  },
  {
   "cell_type": "code",
   "execution_count": 40,
   "metadata": {
    "executionInfo": {
     "elapsed": 935346,
     "status": "ok",
     "timestamp": 1606907429459,
     "user": {
      "displayName": "KEERTHIVASINI R 1928036",
      "photoUrl": "https://lh3.googleusercontent.com/a-/AOh14GjE-mLKrJl0IuVyXmWK6gul8q-AjohuZGI_E5Ur=s64",
      "userId": "17476792325048702527"
     },
     "user_tz": -330
    },
    "id": "SYmIVEfo-b55"
   },
   "outputs": [],
   "source": [
    "y_pred = xgb_classifier.predict(X_test)"
   ]
  },
  {
   "cell_type": "code",
   "execution_count": 41,
   "metadata": {
    "colab": {
     "base_uri": "https://localhost:8080/"
    },
    "executionInfo": {
     "elapsed": 936309,
     "status": "ok",
     "timestamp": 1606907430433,
     "user": {
      "displayName": "KEERTHIVASINI R 1928036",
      "photoUrl": "https://lh3.googleusercontent.com/a-/AOh14GjE-mLKrJl0IuVyXmWK6gul8q-AjohuZGI_E5Ur=s64",
      "userId": "17476792325048702527"
     },
     "user_tz": -330
    },
    "id": "24Aeu3rZ-fOU",
    "outputId": "fb231f59-cff9-4518-c3bb-0de8ce770778"
   },
   "outputs": [
    {
     "name": "stdout",
     "output_type": "stream",
     "text": [
      "Extreme Gradient Boost errors: 5088\n",
      "Accuracy Score :\n",
      "0.9172723281791132\n",
      "Confusion matrix :\n",
      "[[56303   257]\n",
      " [ 4831   112]]\n",
      "Classification Report :\n",
      "              precision    recall  f1-score   support\n",
      "\n",
      "           0       0.92      1.00      0.96     56560\n",
      "           1       0.30      0.02      0.04      4943\n",
      "\n",
      "    accuracy                           0.92     61503\n",
      "   macro avg       0.61      0.51      0.50     61503\n",
      "weighted avg       0.87      0.92      0.88     61503\n",
      "\n",
      "ROC AUC score is:  0.5090572287157041\n"
     ]
    }
   ],
   "source": [
    "n_errors = (y_pred != y_test).sum()\n",
    "# Run Classification Metrics\n",
    "print(\"{}: {}\".format(\"Extreme Gradient Boost errors\",n_errors))\n",
    "print(\"Accuracy Score :\")\n",
    "print(accuracy_score(y_test,y_pred))\n",
    "print(\"Confusion matrix :\")\n",
    "print(confusion_matrix(y_test, y_pred))\n",
    "print(\"Classification Report :\")\n",
    "print(classification_report(y_test,y_pred))\n",
    "print(\"ROC AUC score is: \",roc_auc_score(y_test,y_pred))"
   ]
  },
  {
   "cell_type": "markdown",
   "metadata": {
    "id": "KF5Zv2VwzpPB"
   },
   "source": [
    "# Balancing class - RandomOverSampler "
   ]
  },
  {
   "cell_type": "code",
   "execution_count": 42,
   "metadata": {
    "executionInfo": {
     "elapsed": 936270,
     "status": "ok",
     "timestamp": 1606907430441,
     "user": {
      "displayName": "KEERTHIVASINI R 1928036",
      "photoUrl": "https://lh3.googleusercontent.com/a-/AOh14GjE-mLKrJl0IuVyXmWK6gul8q-AjohuZGI_E5Ur=s64",
      "userId": "17476792325048702527"
     },
     "user_tz": -330
    },
    "id": "HFzM5pwAzouN"
   },
   "outputs": [],
   "source": [
    "from imblearn.over_sampling import RandomOverSampler"
   ]
  },
  {
   "cell_type": "code",
   "execution_count": 44,
   "metadata": {
    "executionInfo": {
     "elapsed": 936261,
     "status": "ok",
     "timestamp": 1606907430442,
     "user": {
      "displayName": "KEERTHIVASINI R 1928036",
      "photoUrl": "https://lh3.googleusercontent.com/a-/AOh14GjE-mLKrJl0IuVyXmWK6gul8q-AjohuZGI_E5Ur=s64",
      "userId": "17476792325048702527"
     },
     "user_tz": -330
    },
    "id": "IU3oxu7nzvxU"
   },
   "outputs": [],
   "source": [
    "os =  RandomOverSampler(sampling_strategy=1)"
   ]
  },
  {
   "cell_type": "code",
   "execution_count": 45,
   "metadata": {
    "executionInfo": {
     "elapsed": 936252,
     "status": "ok",
     "timestamp": 1606907430444,
     "user": {
      "displayName": "KEERTHIVASINI R 1928036",
      "photoUrl": "https://lh3.googleusercontent.com/a-/AOh14GjE-mLKrJl0IuVyXmWK6gul8q-AjohuZGI_E5Ur=s64",
      "userId": "17476792325048702527"
     },
     "user_tz": -330
    },
    "id": "5WlVMrhmz0E0"
   },
   "outputs": [],
   "source": [
    "X_train_res, y_train_res = os.fit_sample(X_train, y_train)"
   ]
  },
  {
   "cell_type": "code",
   "execution_count": 46,
   "metadata": {
    "colab": {
     "base_uri": "https://localhost:8080/"
    },
    "executionInfo": {
     "elapsed": 936244,
     "status": "ok",
     "timestamp": 1606907430447,
     "user": {
      "displayName": "KEERTHIVASINI R 1928036",
      "photoUrl": "https://lh3.googleusercontent.com/a-/AOh14GjE-mLKrJl0IuVyXmWK6gul8q-AjohuZGI_E5Ur=s64",
      "userId": "17476792325048702527"
     },
     "user_tz": -330
    },
    "id": "uly3oboE0i1P",
    "outputId": "b6735f6a-7c65-4fc7-c79e-6c2cb90bb653"
   },
   "outputs": [
    {
     "data": {
      "text/plain": [
       "((452252, 42), (452252,))"
      ]
     },
     "execution_count": 46,
     "metadata": {},
     "output_type": "execute_result"
    }
   ],
   "source": [
    "X_train_res.shape,y_train_res.shape"
   ]
  },
  {
   "cell_type": "code",
   "execution_count": 47,
   "metadata": {
    "colab": {
     "base_uri": "https://localhost:8080/"
    },
    "executionInfo": {
     "elapsed": 936234,
     "status": "ok",
     "timestamp": 1606907430448,
     "user": {
      "displayName": "KEERTHIVASINI R 1928036",
      "photoUrl": "https://lh3.googleusercontent.com/a-/AOh14GjE-mLKrJl0IuVyXmWK6gul8q-AjohuZGI_E5Ur=s64",
      "userId": "17476792325048702527"
     },
     "user_tz": -330
    },
    "id": "s-9hT3nH0l0n",
    "outputId": "f528440f-3fd6-490e-8360-3f19036951a2"
   },
   "outputs": [
    {
     "name": "stdout",
     "output_type": "stream",
     "text": [
      "Original dataset shape Counter({0: 226126, 1: 19882})\n",
      "Resampled dataset shape Counter({0: 226126, 1: 226126})\n"
     ]
    }
   ],
   "source": [
    "print('Original dataset shape {}'.format(Counter(y_train)))\n",
    "print('Resampled dataset shape {}'.format(Counter(y_train_res)))"
   ]
  },
  {
   "cell_type": "markdown",
   "metadata": {
    "id": "Oye-QC4SDX17"
   },
   "source": [
    "## Logistic regression"
   ]
  },
  {
   "cell_type": "code",
   "execution_count": 48,
   "metadata": {
    "colab": {
     "base_uri": "https://localhost:8080/"
    },
    "executionInfo": {
     "elapsed": 949945,
     "status": "ok",
     "timestamp": 1606907444169,
     "user": {
      "displayName": "KEERTHIVASINI R 1928036",
      "photoUrl": "https://lh3.googleusercontent.com/a-/AOh14GjE-mLKrJl0IuVyXmWK6gul8q-AjohuZGI_E5Ur=s64",
      "userId": "17476792325048702527"
     },
     "user_tz": -330
    },
    "id": "nldX-I0IDhQJ",
    "outputId": "bb366e75-4600-4664-801e-8a5221501094"
   },
   "outputs": [
    {
     "data": {
      "text/plain": [
       "LogisticRegression(C=2)"
      ]
     },
     "execution_count": 48,
     "metadata": {},
     "output_type": "execute_result"
    }
   ],
   "source": [
    "logistic_regressor.fit(X_train_res,y_train_res)"
   ]
  },
  {
   "cell_type": "code",
   "execution_count": 49,
   "metadata": {
    "executionInfo": {
     "elapsed": 949937,
     "status": "ok",
     "timestamp": 1606907444172,
     "user": {
      "displayName": "KEERTHIVASINI R 1928036",
      "photoUrl": "https://lh3.googleusercontent.com/a-/AOh14GjE-mLKrJl0IuVyXmWK6gul8q-AjohuZGI_E5Ur=s64",
      "userId": "17476792325048702527"
     },
     "user_tz": -330
    },
    "id": "rEnKLPG7DhQa"
   },
   "outputs": [],
   "source": [
    "y_pred = logistic_regressor.predict(X_test)"
   ]
  },
  {
   "cell_type": "code",
   "execution_count": 50,
   "metadata": {
    "colab": {
     "base_uri": "https://localhost:8080/"
    },
    "executionInfo": {
     "elapsed": 949929,
     "status": "ok",
     "timestamp": 1606907444175,
     "user": {
      "displayName": "KEERTHIVASINI R 1928036",
      "photoUrl": "https://lh3.googleusercontent.com/a-/AOh14GjE-mLKrJl0IuVyXmWK6gul8q-AjohuZGI_E5Ur=s64",
      "userId": "17476792325048702527"
     },
     "user_tz": -330
    },
    "id": "SkCgEWT4DhQj",
    "outputId": "50ced537-0a87-4c65-e511-e1c9bda5ec4e"
   },
   "outputs": [
    {
     "name": "stdout",
     "output_type": "stream",
     "text": [
      "Logistic Regression errors: 23102\n",
      "Accuracy Score :\n",
      "0.624376046696909\n",
      "Confusion matrix :\n",
      "[[35825 20735]\n",
      " [ 2367  2576]]\n",
      "Classification Report :\n",
      "              precision    recall  f1-score   support\n",
      "\n",
      "           0       0.94      0.63      0.76     56560\n",
      "           1       0.11      0.52      0.18      4943\n",
      "\n",
      "    accuracy                           0.62     61503\n",
      "   macro avg       0.52      0.58      0.47     61503\n",
      "weighted avg       0.87      0.62      0.71     61503\n",
      "\n",
      "ROC AUC score is:  0.5772695843650144\n"
     ]
    }
   ],
   "source": [
    "n_errors = (y_pred != y_test).sum()\n",
    "# Run Classification Metrics\n",
    "print(\"{}: {}\".format(\"Logistic Regression errors\",n_errors))\n",
    "print(\"Accuracy Score :\")\n",
    "print(accuracy_score(y_test,y_pred))\n",
    "print(\"Confusion matrix :\")\n",
    "print(confusion_matrix(y_test, y_pred))\n",
    "print(\"Classification Report :\")\n",
    "print(classification_report(y_test,y_pred))\n",
    "print(\"ROC AUC score is: \",roc_auc_score(y_test,y_pred))"
   ]
  },
  {
   "cell_type": "markdown",
   "metadata": {
    "id": "ZyOP5lmwDwW2"
   },
   "source": [
    "## Random forest"
   ]
  },
  {
   "cell_type": "code",
   "execution_count": 51,
   "metadata": {
    "colab": {
     "base_uri": "https://localhost:8080/"
    },
    "executionInfo": {
     "elapsed": 1149615,
     "status": "ok",
     "timestamp": 1606907643874,
     "user": {
      "displayName": "KEERTHIVASINI R 1928036",
      "photoUrl": "https://lh3.googleusercontent.com/a-/AOh14GjE-mLKrJl0IuVyXmWK6gul8q-AjohuZGI_E5Ur=s64",
      "userId": "17476792325048702527"
     },
     "user_tz": -330
    },
    "id": "8KfT10SmDwW5",
    "outputId": "6c8fb2bb-4148-4e35-c9ce-376ea9c77ad7"
   },
   "outputs": [
    {
     "name": "stderr",
     "output_type": "stream",
     "text": [
      "[Parallel(n_jobs=-1)]: Using backend ThreadingBackend with 4 concurrent workers.\n",
      "[Parallel(n_jobs=-1)]: Done  42 tasks      | elapsed:   56.5s\n",
      "[Parallel(n_jobs=-1)]: Done 100 out of 100 | elapsed:  2.0min finished\n"
     ]
    },
    {
     "data": {
      "text/plain": [
       "RandomForestClassifier(n_jobs=-1,\n",
       "                       random_state=RandomState(MT19937) at 0x2211291CD08,\n",
       "                       verbose=1)"
      ]
     },
     "execution_count": 51,
     "metadata": {},
     "output_type": "execute_result"
    }
   ],
   "source": [
    "random_forest.fit(X_train_res,y_train_res)"
   ]
  },
  {
   "cell_type": "code",
   "execution_count": 52,
   "metadata": {
    "colab": {
     "base_uri": "https://localhost:8080/"
    },
    "executionInfo": {
     "elapsed": 1151214,
     "status": "ok",
     "timestamp": 1606907645484,
     "user": {
      "displayName": "KEERTHIVASINI R 1928036",
      "photoUrl": "https://lh3.googleusercontent.com/a-/AOh14GjE-mLKrJl0IuVyXmWK6gul8q-AjohuZGI_E5Ur=s64",
      "userId": "17476792325048702527"
     },
     "user_tz": -330
    },
    "id": "oZ2tkI0mDwXA",
    "outputId": "3aff8cd2-60c2-42a7-d210-61080b68e31e"
   },
   "outputs": [
    {
     "name": "stderr",
     "output_type": "stream",
     "text": [
      "[Parallel(n_jobs=4)]: Using backend ThreadingBackend with 4 concurrent workers.\n",
      "[Parallel(n_jobs=4)]: Done  42 tasks      | elapsed:    0.3s\n",
      "[Parallel(n_jobs=4)]: Done 100 out of 100 | elapsed:    1.0s finished\n"
     ]
    }
   ],
   "source": [
    "y_pred = random_forest.predict(X_test)"
   ]
  },
  {
   "cell_type": "code",
   "execution_count": 53,
   "metadata": {
    "colab": {
     "base_uri": "https://localhost:8080/"
    },
    "executionInfo": {
     "elapsed": 1152076,
     "status": "ok",
     "timestamp": 1606907646357,
     "user": {
      "displayName": "KEERTHIVASINI R 1928036",
      "photoUrl": "https://lh3.googleusercontent.com/a-/AOh14GjE-mLKrJl0IuVyXmWK6gul8q-AjohuZGI_E5Ur=s64",
      "userId": "17476792325048702527"
     },
     "user_tz": -330
    },
    "id": "6iQYky60DwXH",
    "outputId": "ef9987e4-97db-4c7e-cceb-34ea1cdd166e"
   },
   "outputs": [
    {
     "name": "stdout",
     "output_type": "stream",
     "text": [
      "Random Forest errors: 4967\n",
      "Accuracy Score :\n",
      "0.9192397118839731\n",
      "Confusion matrix :\n",
      "[[56375   185]\n",
      " [ 4782   161]]\n",
      "Classification Report :\n",
      "              precision    recall  f1-score   support\n",
      "\n",
      "           0       0.92      1.00      0.96     56560\n",
      "           1       0.47      0.03      0.06      4943\n",
      "\n",
      "    accuracy                           0.92     61503\n",
      "   macro avg       0.69      0.51      0.51     61503\n",
      "weighted avg       0.89      0.92      0.89     61503\n",
      "\n",
      "ROC AUC score is:  0.5146502250836338\n"
     ]
    }
   ],
   "source": [
    "n_errors = (y_pred != y_test).sum()\n",
    "# Run Classification Metrics\n",
    "print(\"{}: {}\".format(\"Random Forest errors\",n_errors))\n",
    "print(\"Accuracy Score :\")\n",
    "print(accuracy_score(y_test,y_pred))\n",
    "print(\"Confusion matrix :\")\n",
    "print(confusion_matrix(y_test, y_pred))\n",
    "print(\"Classification Report :\")\n",
    "print(classification_report(y_test,y_pred))\n",
    "print(\"ROC AUC score is: \",roc_auc_score(y_test,y_pred))"
   ]
  },
  {
   "cell_type": "markdown",
   "metadata": {
    "id": "03gV-9GcDwXR"
   },
   "source": [
    "## XGBoost"
   ]
  },
  {
   "cell_type": "code",
   "execution_count": 54,
   "metadata": {
    "executionInfo": {
     "elapsed": 1152069,
     "status": "ok",
     "timestamp": 1606907646360,
     "user": {
      "displayName": "KEERTHIVASINI R 1928036",
      "photoUrl": "https://lh3.googleusercontent.com/a-/AOh14GjE-mLKrJl0IuVyXmWK6gul8q-AjohuZGI_E5Ur=s64",
      "userId": "17476792325048702527"
     },
     "user_tz": -330
    },
    "id": "QzQN_OtaDwXT"
   },
   "outputs": [],
   "source": [
    "X_train_res = pd.DataFrame(data=X_train_res, columns=selected_feat)"
   ]
  },
  {
   "cell_type": "code",
   "execution_count": 55,
   "metadata": {
    "colab": {
     "base_uri": "https://localhost:8080/"
    },
    "executionInfo": {
     "elapsed": 1152059,
     "status": "ok",
     "timestamp": 1606907646361,
     "user": {
      "displayName": "KEERTHIVASINI R 1928036",
      "photoUrl": "https://lh3.googleusercontent.com/a-/AOh14GjE-mLKrJl0IuVyXmWK6gul8q-AjohuZGI_E5Ur=s64",
      "userId": "17476792325048702527"
     },
     "user_tz": -330
    },
    "id": "JdVC5qhgFUMH",
    "outputId": "888aaab1-b777-4908-d459-c648c4fbd713"
   },
   "outputs": [
    {
     "data": {
      "text/plain": [
       "(452252, 42)"
      ]
     },
     "execution_count": 55,
     "metadata": {},
     "output_type": "execute_result"
    }
   ],
   "source": [
    "X_train_res.shape"
   ]
  },
  {
   "cell_type": "code",
   "execution_count": 56,
   "metadata": {
    "colab": {
     "base_uri": "https://localhost:8080/"
    },
    "executionInfo": {
     "elapsed": 141783,
     "status": "ok",
     "timestamp": 1606908577955,
     "user": {
      "displayName": "KEERTHIVASINI R 1928036",
      "photoUrl": "https://lh3.googleusercontent.com/a-/AOh14GjE-mLKrJl0IuVyXmWK6gul8q-AjohuZGI_E5Ur=s64",
      "userId": "17476792325048702527"
     },
     "user_tz": -330
    },
    "id": "1ctZ69AFDwXZ",
    "outputId": "5a23f7c9-41a5-4da1-e180-4c8f0804f643"
   },
   "outputs": [
    {
     "data": {
      "text/plain": [
       "XGBClassifier(max_depth=5)"
      ]
     },
     "execution_count": 56,
     "metadata": {},
     "output_type": "execute_result"
    }
   ],
   "source": [
    "xgb_classifier.fit(X_train_res,y_train_res)"
   ]
  },
  {
   "cell_type": "code",
   "execution_count": 57,
   "metadata": {
    "executionInfo": {
     "elapsed": 1531,
     "status": "ok",
     "timestamp": 1606908583366,
     "user": {
      "displayName": "KEERTHIVASINI R 1928036",
      "photoUrl": "https://lh3.googleusercontent.com/a-/AOh14GjE-mLKrJl0IuVyXmWK6gul8q-AjohuZGI_E5Ur=s64",
      "userId": "17476792325048702527"
     },
     "user_tz": -330
    },
    "id": "3cxijpaODwXf"
   },
   "outputs": [],
   "source": [
    "y_pred = xgb_classifier.predict(X_test)"
   ]
  },
  {
   "cell_type": "code",
   "execution_count": 58,
   "metadata": {
    "colab": {
     "base_uri": "https://localhost:8080/"
    },
    "executionInfo": {
     "elapsed": 2125,
     "status": "ok",
     "timestamp": 1606908583991,
     "user": {
      "displayName": "KEERTHIVASINI R 1928036",
      "photoUrl": "https://lh3.googleusercontent.com/a-/AOh14GjE-mLKrJl0IuVyXmWK6gul8q-AjohuZGI_E5Ur=s64",
      "userId": "17476792325048702527"
     },
     "user_tz": -330
    },
    "id": "dLVjSCoVDwXl",
    "outputId": "ff1235a8-9ec8-4a3f-ab99-d574c406137e"
   },
   "outputs": [
    {
     "name": "stdout",
     "output_type": "stream",
     "text": [
      "Extreme Gradient Boost errors: 18046\n",
      "Accuracy Score :\n",
      "0.7065834186950231\n",
      "Confusion matrix :\n",
      "[[40144 16416]\n",
      " [ 1630  3313]]\n",
      "Classification Report :\n",
      "              precision    recall  f1-score   support\n",
      "\n",
      "           0       0.96      0.71      0.82     56560\n",
      "           1       0.17      0.67      0.27      4943\n",
      "\n",
      "    accuracy                           0.71     61503\n",
      "   macro avg       0.56      0.69      0.54     61503\n",
      "weighted avg       0.90      0.71      0.77     61503\n",
      "\n",
      "ROC AUC score is:  0.6900001459352316\n"
     ]
    }
   ],
   "source": [
    "n_errors = (y_pred != y_test).sum()\n",
    "# Run Classification Metrics\n",
    "print(\"{}: {}\".format(\"Extreme Gradient Boost errors\",n_errors))\n",
    "print(\"Accuracy Score :\")\n",
    "print(accuracy_score(y_test,y_pred))\n",
    "print(\"Confusion matrix :\")\n",
    "print(confusion_matrix(y_test, y_pred))\n",
    "print(\"Classification Report :\")\n",
    "print(classification_report(y_test,y_pred))\n",
    "print(\"ROC AUC score is: \",roc_auc_score(y_test,y_pred))"
   ]
  }
 ],
 "metadata": {
  "colab": {
   "collapsed_sections": [
    "2Or-6Pc1V8YZ",
    "kEX78jgsV8Ya",
    "f0grrOTyV8Yn",
    "DJN5pseXV8Yw",
    "2P6IbUlKV8Y1",
    "xuNb-q3JV8Y6",
    "dhoEwJXKV8Y-",
    "HAm57N3gV8ZC",
    "WwTwHdUFV8ZG",
    "xR6VXwaEV8ZK",
    "IEh75SD_V8ZN",
    "u1Z_kP9NV8ZQ",
    "QqQWAjnVV8ZU",
    "4QQ104eSV8Za",
    "yvhmm7AAV8Zp",
    "m_O9d2EfV8Zs",
    "dALem1rWV8Zw",
    "DZRhaa99V8Z0",
    "smrF9a8RV8aL",
    "sZy2pt4ZV8aP",
    "poF3guaaV8aU",
    "SIupz7FjV8aY",
    "bj6PimmXV8ab",
    "51w4zQoOV8ag",
    "Shac1JYdV8ap",
    "wbzCQKvOV8a9",
    "l7fXmho-V8bC",
    "EIUOQbUfV8bV",
    "sbylW44lV8cX",
    "cGeupWBGV8ce"
   ],
   "name": "Capstone -Scikit classification.ipynb",
   "provenance": []
  },
  "kernelspec": {
   "display_name": "Python 3",
   "language": "python",
   "name": "python3"
  },
  "language_info": {
   "codemirror_mode": {
    "name": "ipython",
    "version": 3
   },
   "file_extension": ".py",
   "mimetype": "text/x-python",
   "name": "python",
   "nbconvert_exporter": "python",
   "pygments_lexer": "ipython3",
   "version": "3.7.6"
  }
 },
 "nbformat": 4,
 "nbformat_minor": 1
}
