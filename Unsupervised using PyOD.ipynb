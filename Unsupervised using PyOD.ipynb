{
 "cells": [
  {
   "cell_type": "markdown",
   "metadata": {},
   "source": [
    "# Unsupervised Learning Technique (Anomaly detection)"
   ]
  },
  {
   "cell_type": "markdown",
   "metadata": {},
   "source": [
    "This notebook show how Unsupervised Machine Learning techniques can be used to predict the Loan defaulters\n",
    "\n",
    "Algorithms used:<br>\n",
    "\n",
    "k-nearest neighbors <br>\n",
    "Isolation Forest<br>\n",
    "Local Outlier Factor<br>\n",
    "Clustering-Based Local Outlier Factor<br>\n",
    "Principal Component Analysis <br>\n",
    "Histogram-based Outlier Score<br>"
   ]
  },
  {
   "cell_type": "markdown",
   "metadata": {
    "_uuid": "013aadf35263381f72adc6ac9453a6ddab95b14e",
    "id": "FkmsKFLPV8V4"
   },
   "source": [
    "### Load the data"
   ]
  },
  {
   "cell_type": "code",
   "execution_count": 1,
   "metadata": {
    "_uuid": "778d7eb0679cac970a01cbaa64033c78d20d19cc",
    "executionInfo": {
     "elapsed": 3605,
     "status": "ok",
     "timestamp": 1602446092322,
     "user": {
      "displayName": "KEERTHIVASINI R 1928036",
      "photoUrl": "https://lh3.googleusercontent.com/a-/AOh14GjE-mLKrJl0IuVyXmWK6gul8q-AjohuZGI_E5Ur=s64",
      "userId": "17476792325048702527"
     },
     "user_tz": -330
    },
    "id": "ctqL8DkjV8V8"
   },
   "outputs": [],
   "source": [
    "import pandas as pd \n",
    "import numpy as np\n",
    "import matplotlib\n",
    "import matplotlib.pyplot as plt\n",
    "import seaborn as sns\n",
    "%matplotlib inline \n",
    "\n",
    "import sys\n",
    "import warnings\n",
    "warnings.filterwarnings(\"ignore\")\n",
    "\n",
    "# to visualise al the columns in the dataframe\n",
    "pd.pandas.set_option('display.max_columns', None)"
   ]
  },
  {
   "cell_type": "code",
   "execution_count": 2,
   "metadata": {},
   "outputs": [],
   "source": [
    "application_train = pd.read_csv('cleandata.csv')"
   ]
  },
  {
   "cell_type": "markdown",
   "metadata": {
    "id": "475dHARvV8cf"
   },
   "source": [
    "## Modeling"
   ]
  },
  {
   "cell_type": "markdown",
   "metadata": {
    "id": "FOc82gymGXOE"
   },
   "source": [
    "### Partitioning"
   ]
  },
  {
   "cell_type": "code",
   "execution_count": 3,
   "metadata": {
    "colab": {
     "base_uri": "https://localhost:8080/",
     "height": 88
    },
    "executionInfo": {
     "elapsed": 153895,
     "status": "ok",
     "timestamp": 1602446243392,
     "user": {
      "displayName": "KEERTHIVASINI R 1928036",
      "photoUrl": "https://lh3.googleusercontent.com/a-/AOh14GjE-mLKrJl0IuVyXmWK6gul8q-AjohuZGI_E5Ur=s64",
      "userId": "17476792325048702527"
     },
     "user_tz": -330
    },
    "id": "k-0NefryV8cg",
    "outputId": "d85b64ab-8ead-4bfc-93f4-a6585d4b008f"
   },
   "outputs": [
    {
     "name": "stdout",
     "output_type": "stream",
     "text": [
      "outlier_fraction for the whole dataset:\n",
      "0.08781828601345662\n",
      "Fraud Cases : 24825\n",
      "Valid Cases : 282686\n"
     ]
    }
   ],
   "source": [
    "#Determine the number of fraud and valid transactions in the dataset\n",
    "\n",
    "Fraud = application_train[application_train['TARGET']==1]\n",
    "\n",
    "Valid = application_train[application_train['TARGET']==0]\n",
    "\n",
    "outlier_fraction = len(Fraud)/float(len(Valid))\n",
    "\n",
    "print('outlier_fraction for the whole dataset:')\n",
    "print(outlier_fraction)\n",
    "\n",
    "print(\"Fraud Cases : {}\".format(len(Fraud)))\n",
    "\n",
    "print(\"Valid Cases : {}\".format(len(Valid)))"
   ]
  },
  {
   "cell_type": "code",
   "execution_count": 4,
   "metadata": {
    "colab": {
     "base_uri": "https://localhost:8080/",
     "height": 52
    },
    "executionInfo": {
     "elapsed": 154912,
     "status": "ok",
     "timestamp": 1602446244428,
     "user": {
      "displayName": "KEERTHIVASINI R 1928036",
      "photoUrl": "https://lh3.googleusercontent.com/a-/AOh14GjE-mLKrJl0IuVyXmWK6gul8q-AjohuZGI_E5Ur=s64",
      "userId": "17476792325048702527"
     },
     "user_tz": -330
    },
    "id": "CHStSM9tV8ci",
    "outputId": "2261e332-efc3-4483-feef-b85feeb0058b"
   },
   "outputs": [
    {
     "name": "stdout",
     "output_type": "stream",
     "text": [
      "(246008, 210) (246008,)\n",
      "(61503, 210) (61503,)\n"
     ]
    }
   ],
   "source": [
    "from sklearn.model_selection import train_test_split\n",
    "\n",
    "#Create independent and Dependent Features\n",
    "columns = application_train.columns.tolist()\n",
    "# Filter the columns to remove data we do not want \n",
    "columns = [c for c in columns if c not in [\"TARGET\"]]\n",
    "# Store the variable we are predicting \n",
    "target = \"TARGET\"\n",
    "# Define a random state \n",
    "state = np.random.RandomState(42)\n",
    "X = application_train[columns]\n",
    "y = application_train[target]\n",
    "X_train, X_test, y_train, y_test = train_test_split(X, y, test_size=0.2)\n",
    "print(X_train.shape, y_train.shape)\n",
    "print(X_test.shape, y_test.shape)"
   ]
  },
  {
   "cell_type": "code",
   "execution_count": 5,
   "metadata": {
    "colab": {
     "base_uri": "https://localhost:8080/",
     "height": 35
    },
    "executionInfo": {
     "elapsed": 154900,
     "status": "ok",
     "timestamp": 1602446244430,
     "user": {
      "displayName": "KEERTHIVASINI R 1928036",
      "photoUrl": "https://lh3.googleusercontent.com/a-/AOh14GjE-mLKrJl0IuVyXmWK6gul8q-AjohuZGI_E5Ur=s64",
      "userId": "17476792325048702527"
     },
     "user_tz": -330
    },
    "id": "l6lNNpGLV8cm",
    "outputId": "dca03ab8-dd29-47c2-d40b-35407539b1ab"
   },
   "outputs": [
    {
     "data": {
      "text/plain": [
       "(246008, 210)"
      ]
     },
     "execution_count": 5,
     "metadata": {},
     "output_type": "execute_result"
    }
   ],
   "source": [
    "X_train.shape"
   ]
  },
  {
   "cell_type": "markdown",
   "metadata": {
    "id": "AVdWjUQX4Tnq"
   },
   "source": [
    "### More Feature Selection"
   ]
  },
  {
   "cell_type": "code",
   "execution_count": 6,
   "metadata": {
    "executionInfo": {
     "elapsed": 154897,
     "status": "ok",
     "timestamp": 1602446244432,
     "user": {
      "displayName": "KEERTHIVASINI R 1928036",
      "photoUrl": "https://lh3.googleusercontent.com/a-/AOh14GjE-mLKrJl0IuVyXmWK6gul8q-AjohuZGI_E5Ur=s64",
      "userId": "17476792325048702527"
     },
     "user_tz": -330
    },
    "id": "vJI33XMn4ajM"
   },
   "outputs": [],
   "source": [
    "from sklearn.ensemble import RandomForestClassifier\n",
    "from sklearn.feature_selection import SelectFromModel"
   ]
  },
  {
   "cell_type": "code",
   "execution_count": 7,
   "metadata": {
    "colab": {
     "base_uri": "https://localhost:8080/",
     "height": 319
    },
    "executionInfo": {
     "elapsed": 281757,
     "status": "ok",
     "timestamp": 1602446371304,
     "user": {
      "displayName": "KEERTHIVASINI R 1928036",
      "photoUrl": "https://lh3.googleusercontent.com/a-/AOh14GjE-mLKrJl0IuVyXmWK6gul8q-AjohuZGI_E5Ur=s64",
      "userId": "17476792325048702527"
     },
     "user_tz": -330
    },
    "id": "zmEFeqeg45pC",
    "outputId": "31bba6a7-8c09-4c88-b7b4-23fca30708dc"
   },
   "outputs": [
    {
     "data": {
      "text/plain": [
       "SelectFromModel(estimator=RandomForestClassifier(random_state=RandomState(MT19937) at 0x23108B30D08))"
      ]
     },
     "execution_count": 7,
     "metadata": {},
     "output_type": "execute_result"
    }
   ],
   "source": [
    "sel = SelectFromModel(RandomForestClassifier(n_estimators = 100, random_state=state))\n",
    "sel.fit(X_train, y_train)"
   ]
  },
  {
   "cell_type": "code",
   "execution_count": 8,
   "metadata": {
    "colab": {
     "base_uri": "https://localhost:8080/",
     "height": 444
    },
    "executionInfo": {
     "elapsed": 281748,
     "status": "ok",
     "timestamp": 1602446371310,
     "user": {
      "displayName": "KEERTHIVASINI R 1928036",
      "photoUrl": "https://lh3.googleusercontent.com/a-/AOh14GjE-mLKrJl0IuVyXmWK6gul8q-AjohuZGI_E5Ur=s64",
      "userId": "17476792325048702527"
     },
     "user_tz": -330
    },
    "id": "AHUzK0YK4-nz",
    "outputId": "8a243311-acc3-49c7-d9c7-bedac57fae3c"
   },
   "outputs": [
    {
     "data": {
      "text/plain": [
       "array([False, False,  True,  True,  True,  True,  True,  True,  True,\n",
       "        True,  True,  True,  True, False, False, False, False,  True,\n",
       "        True, False, False, False, False, False,  True,  True,  True,\n",
       "        True,  True,  True,  True,  True, False,  True,  True,  True,\n",
       "        True,  True,  True, False,  True,  True, False,  True,  True,\n",
       "        True, False,  True, False, False, False, False, False, False,\n",
       "       False, False, False, False, False, False, False, False, False,\n",
       "       False, False, False, False, False, False, False, False,  True,\n",
       "        True,  True, False, False, False, False, False, False, False,\n",
       "       False, False, False, False, False, False, False, False, False,\n",
       "       False, False, False, False, False, False, False, False,  True,\n",
       "       False, False, False, False, False, False, False, False, False,\n",
       "       False, False, False, False, False, False, False, False, False,\n",
       "       False, False, False, False, False, False, False, False, False,\n",
       "       False, False, False, False, False, False, False, False, False,\n",
       "       False, False, False, False, False, False, False, False, False,\n",
       "       False, False, False, False, False, False, False, False, False,\n",
       "       False, False, False, False, False, False, False, False, False,\n",
       "       False, False, False, False, False, False, False, False, False,\n",
       "       False, False, False, False, False, False, False, False, False,\n",
       "       False, False, False, False, False, False, False, False, False,\n",
       "       False, False, False, False, False, False, False, False, False,\n",
       "       False, False, False, False, False, False, False, False,  True,\n",
       "        True,  True,  True])"
      ]
     },
     "execution_count": 8,
     "metadata": {},
     "output_type": "execute_result"
    }
   ],
   "source": [
    "sel.get_support()"
   ]
  },
  {
   "cell_type": "code",
   "execution_count": 9,
   "metadata": {
    "colab": {
     "base_uri": "https://localhost:8080/",
     "height": 35
    },
    "executionInfo": {
     "elapsed": 281736,
     "status": "ok",
     "timestamp": 1602446371311,
     "user": {
      "displayName": "KEERTHIVASINI R 1928036",
      "photoUrl": "https://lh3.googleusercontent.com/a-/AOh14GjE-mLKrJl0IuVyXmWK6gul8q-AjohuZGI_E5Ur=s64",
      "userId": "17476792325048702527"
     },
     "user_tz": -330
    },
    "id": "j9SLwQ8c5AaZ",
    "outputId": "f12e17a5-bd39-4f37-a4e8-fcd6ec2ef064"
   },
   "outputs": [
    {
     "data": {
      "text/plain": [
       "41"
      ]
     },
     "execution_count": 9,
     "metadata": {},
     "output_type": "execute_result"
    }
   ],
   "source": [
    "selected_feat= X_train.columns[(sel.get_support())].tolist()\n",
    "len(selected_feat)"
   ]
  },
  {
   "cell_type": "code",
   "execution_count": 10,
   "metadata": {
    "colab": {
     "base_uri": "https://localhost:8080/",
     "height": 55
    },
    "executionInfo": {
     "elapsed": 281724,
     "status": "ok",
     "timestamp": 1602446371312,
     "user": {
      "displayName": "KEERTHIVASINI R 1928036",
      "photoUrl": "https://lh3.googleusercontent.com/a-/AOh14GjE-mLKrJl0IuVyXmWK6gul8q-AjohuZGI_E5Ur=s64",
      "userId": "17476792325048702527"
     },
     "user_tz": -330
    },
    "id": "z9tukYgm5Ch2",
    "outputId": "e4a23d0a-0a0b-40bd-b385-3fc00e22bdaf"
   },
   "outputs": [
    {
     "name": "stdout",
     "output_type": "stream",
     "text": [
      "['FLAG_OWN_REALTY', 'CNT_CHILDREN', 'AMT_INCOME_TOTAL', 'AMT_CREDIT', 'AMT_ANNUITY', 'AMT_GOODS_PRICE', 'DAYS_BIRTH', 'DAYS_EMPLOYED', 'DAYS_REGISTRATION', 'DAYS_ID_PUBLISH', 'OWN_CAR_AGE', 'CNT_FAM_MEMBERS', 'REGION_RATING_CLIENT', 'EXT_SOURCE_1', 'EXT_SOURCE_2', 'EXT_SOURCE_3', 'APARTMENTS_AVG', 'BASEMENTAREA_AVG', 'YEARS_BEGINEXPLUATATION_AVG', 'YEARS_BUILD_AVG', 'COMMONAREA_AVG', 'ENTRANCES_AVG', 'FLOORSMAX_AVG', 'FLOORSMIN_AVG', 'LANDAREA_AVG', 'LIVINGAPARTMENTS_AVG', 'LIVINGAREA_AVG', 'NONLIVINGAREA_AVG', 'TOTALAREA_MODE', 'OBS_30_CNT_SOCIAL_CIRCLE', 'DEF_30_CNT_SOCIAL_CIRCLE', 'OBS_60_CNT_SOCIAL_CIRCLE', 'DAYS_LAST_PHONE_CHANGE', 'AMT_REQ_CREDIT_BUREAU_MON', 'AMT_REQ_CREDIT_BUREAU_QRT', 'AMT_REQ_CREDIT_BUREAU_YEAR', 'NAME_FAMILY_STATUS_Married', 'CREDIT_INCOME_PERCENT', 'ANNUITY_INCOME_PERCENT', 'CREDIT_TERM', 'DAYS_EMPLOYED_PERCENT']\n"
     ]
    }
   ],
   "source": [
    "print(selected_feat)"
   ]
  },
  {
   "cell_type": "code",
   "execution_count": 11,
   "metadata": {
    "executionInfo": {
     "elapsed": 281722,
     "status": "ok",
     "timestamp": 1602446371313,
     "user": {
      "displayName": "KEERTHIVASINI R 1928036",
      "photoUrl": "https://lh3.googleusercontent.com/a-/AOh14GjE-mLKrJl0IuVyXmWK6gul8q-AjohuZGI_E5Ur=s64",
      "userId": "17476792325048702527"
     },
     "user_tz": -330
    },
    "id": "v7DETK2cs1BQ"
   },
   "outputs": [],
   "source": [
    "selected_feat = ['FLAG_OWN_REALTY', 'CNT_CHILDREN', 'AMT_INCOME_TOTAL', 'AMT_CREDIT', 'AMT_ANNUITY', 'AMT_GOODS_PRICE', 'DAYS_BIRTH', 'DAYS_EMPLOYED', 'DAYS_REGISTRATION', 'DAYS_ID_PUBLISH', 'OWN_CAR_AGE', 'CNT_FAM_MEMBERS', 'REGION_RATING_CLIENT', 'EXT_SOURCE_1', 'EXT_SOURCE_2', 'EXT_SOURCE_3', 'APARTMENTS_AVG', 'BASEMENTAREA_AVG', 'YEARS_BEGINEXPLUATATION_AVG', 'YEARS_BUILD_AVG', 'COMMONAREA_AVG', 'ENTRANCES_AVG', 'FLOORSMAX_AVG', 'FLOORSMIN_AVG', 'LANDAREA_AVG', 'LIVINGAPARTMENTS_AVG', 'LIVINGAREA_AVG', 'NONLIVINGAREA_AVG', 'TOTALAREA_MODE', 'OBS_30_CNT_SOCIAL_CIRCLE', 'DEF_30_CNT_SOCIAL_CIRCLE', 'OBS_60_CNT_SOCIAL_CIRCLE', 'DAYS_LAST_PHONE_CHANGE', 'AMT_REQ_CREDIT_BUREAU_MON', 'AMT_REQ_CREDIT_BUREAU_QRT', 'AMT_REQ_CREDIT_BUREAU_YEAR', 'NAME_FAMILY_STATUS_Married', 'OCCUPATION_TYPE_Laborers', 'CREDIT_INCOME_PERCENT', 'ANNUITY_INCOME_PERCENT', 'CREDIT_TERM', 'DAYS_EMPLOYED_PERCENT']"
   ]
  },
  {
   "cell_type": "code",
   "execution_count": 12,
   "metadata": {
    "executionInfo": {
     "elapsed": 281718,
     "status": "ok",
     "timestamp": 1602446371313,
     "user": {
      "displayName": "KEERTHIVASINI R 1928036",
      "photoUrl": "https://lh3.googleusercontent.com/a-/AOh14GjE-mLKrJl0IuVyXmWK6gul8q-AjohuZGI_E5Ur=s64",
      "userId": "17476792325048702527"
     },
     "user_tz": -330
    },
    "id": "6y2s0zxcmNVW"
   },
   "outputs": [],
   "source": [
    "app_X_train = X_train.copy() #Taking a copy before dropping \n",
    "app_X_test = X_test.copy()"
   ]
  },
  {
   "cell_type": "code",
   "execution_count": 13,
   "metadata": {
    "executionInfo": {
     "elapsed": 281717,
     "status": "ok",
     "timestamp": 1602446371314,
     "user": {
      "displayName": "KEERTHIVASINI R 1928036",
      "photoUrl": "https://lh3.googleusercontent.com/a-/AOh14GjE-mLKrJl0IuVyXmWK6gul8q-AjohuZGI_E5Ur=s64",
      "userId": "17476792325048702527"
     },
     "user_tz": -330
    },
    "id": "XRO64vlLmWx2"
   },
   "outputs": [],
   "source": [
    "X_train = X_train[selected_feat]\n",
    "X_test = X_test[selected_feat]"
   ]
  },
  {
   "cell_type": "code",
   "execution_count": 14,
   "metadata": {
    "colab": {
     "base_uri": "https://localhost:8080/",
     "height": 35
    },
    "executionInfo": {
     "elapsed": 281704,
     "status": "ok",
     "timestamp": 1602446371314,
     "user": {
      "displayName": "KEERTHIVASINI R 1928036",
      "photoUrl": "https://lh3.googleusercontent.com/a-/AOh14GjE-mLKrJl0IuVyXmWK6gul8q-AjohuZGI_E5Ur=s64",
      "userId": "17476792325048702527"
     },
     "user_tz": -330
    },
    "id": "c6Bo85pgnTDG",
    "outputId": "bcac644c-689e-493f-fa6c-136ba3a8cb0d"
   },
   "outputs": [
    {
     "name": "stdout",
     "output_type": "stream",
     "text": [
      "(246008, 42) (61503, 42)\n"
     ]
    }
   ],
   "source": [
    "print (X_train.shape, X_test.shape)"
   ]
  },
  {
   "cell_type": "markdown",
   "metadata": {
    "id": "Nx4p9AR8lVdW"
   },
   "source": [
    "------------------------------"
   ]
  },
  {
   "cell_type": "markdown",
   "metadata": {
    "id": "Xu381j-e8PTw"
   },
   "source": [
    "## PyOD"
   ]
  },
  {
   "cell_type": "code",
   "execution_count": 15,
   "metadata": {
    "colab": {
     "base_uri": "https://localhost:8080/",
     "height": 692
    },
    "executionInfo": {
     "elapsed": 290159,
     "status": "ok",
     "timestamp": 1602446379783,
     "user": {
      "displayName": "KEERTHIVASINI R 1928036",
      "photoUrl": "https://lh3.googleusercontent.com/a-/AOh14GjE-mLKrJl0IuVyXmWK6gul8q-AjohuZGI_E5Ur=s64",
      "userId": "17476792325048702527"
     },
     "user_tz": -330
    },
    "id": "tY25O5m18TKv",
    "outputId": "b9c285d5-4cc9-46b4-f4dc-f47b6dcfe407"
   },
   "outputs": [],
   "source": [
    "#!pip install --upgrade pyod"
   ]
  },
  {
   "cell_type": "markdown",
   "metadata": {
    "id": "sK_8F-TOUKkz"
   },
   "source": [
    "### KNN"
   ]
  },
  {
   "cell_type": "code",
   "execution_count": 16,
   "metadata": {
    "executionInfo": {
     "elapsed": 291450,
     "status": "ok",
     "timestamp": 1602446381077,
     "user": {
      "displayName": "KEERTHIVASINI R 1928036",
      "photoUrl": "https://lh3.googleusercontent.com/a-/AOh14GjE-mLKrJl0IuVyXmWK6gul8q-AjohuZGI_E5Ur=s64",
      "userId": "17476792325048702527"
     },
     "user_tz": -330
    },
    "id": "oW6DwIfM--YJ"
   },
   "outputs": [],
   "source": [
    "from pyod.models.knn import KNN  "
   ]
  },
  {
   "cell_type": "code",
   "execution_count": 17,
   "metadata": {
    "executionInfo": {
     "elapsed": 291451,
     "status": "ok",
     "timestamp": 1602446381081,
     "user": {
      "displayName": "KEERTHIVASINI R 1928036",
      "photoUrl": "https://lh3.googleusercontent.com/a-/AOh14GjE-mLKrJl0IuVyXmWK6gul8q-AjohuZGI_E5Ur=s64",
      "userId": "17476792325048702527"
     },
     "user_tz": -330
    },
    "id": "pGOTrjsn_uQg"
   },
   "outputs": [],
   "source": [
    "from pyod.utils.data import evaluate_print\n",
    "from pyod.utils.example import visualize"
   ]
  },
  {
   "cell_type": "code",
   "execution_count": 18,
   "metadata": {
    "executionInfo": {
     "elapsed": 344967,
     "status": "ok",
     "timestamp": 1602446434600,
     "user": {
      "displayName": "KEERTHIVASINI R 1928036",
      "photoUrl": "https://lh3.googleusercontent.com/a-/AOh14GjE-mLKrJl0IuVyXmWK6gul8q-AjohuZGI_E5Ur=s64",
      "userId": "17476792325048702527"
     },
     "user_tz": -330
    },
    "id": "fmOPWDfZ_-jH"
   },
   "outputs": [],
   "source": [
    "# train kNN detector\n",
    "clf_name = 'KNN'\n",
    "clf = KNN()\n",
    "clf.fit(X_train)\n",
    "\n",
    "# get the prediction labels and outlier scores of the training data\n",
    "y_train_pred = clf.labels_  # binary labels (0: inliers, 1: outliers)\n",
    "y_train_scores = clf.decision_scores_  # raw outlier scores\n",
    "\n",
    "# get the prediction on the test data\n",
    "y_test_pred = clf.predict(X_test)  # outlier labels (0 or 1)\n",
    "y_test_scores = clf.decision_function(X_test)  # outlier scores"
   ]
  },
  {
   "cell_type": "code",
   "execution_count": 19,
   "metadata": {
    "colab": {
     "base_uri": "https://localhost:8080/",
     "height": 124
    },
    "executionInfo": {
     "elapsed": 344958,
     "status": "ok",
     "timestamp": 1602446434604,
     "user": {
      "displayName": "KEERTHIVASINI R 1928036",
      "photoUrl": "https://lh3.googleusercontent.com/a-/AOh14GjE-mLKrJl0IuVyXmWK6gul8q-AjohuZGI_E5Ur=s64",
      "userId": "17476792325048702527"
     },
     "user_tz": -330
    },
    "id": "mNOZPwJvAFrY",
    "outputId": "4c0bc1cc-0754-447e-c267-326cc2617f12"
   },
   "outputs": [
    {
     "name": "stdout",
     "output_type": "stream",
     "text": [
      "\n",
      "On Training Data:\n",
      "KNN ROC:0.4786, precision @ rank n:0.0651\n",
      "\n",
      "On Test Data:\n",
      "KNN ROC:0.4879, precision @ rank n:0.0602\n"
     ]
    }
   ],
   "source": [
    "# evaluate and print the results\n",
    "print(\"\\nOn Training Data:\")\n",
    "evaluate_print(clf_name, y_train, y_train_scores)\n",
    "print(\"\\nOn Test Data:\")\n",
    "evaluate_print(clf_name, y_test, y_test_scores)\n"
   ]
  },
  {
   "cell_type": "code",
   "execution_count": 20,
   "metadata": {
    "colab": {
     "base_uri": "https://localhost:8080/",
     "height": 530
    },
    "executionInfo": {
     "elapsed": 345546,
     "status": "ok",
     "timestamp": 1602446435205,
     "user": {
      "displayName": "KEERTHIVASINI R 1928036",
      "photoUrl": "https://lh3.googleusercontent.com/a-/AOh14GjE-mLKrJl0IuVyXmWK6gul8q-AjohuZGI_E5Ur=s64",
      "userId": "17476792325048702527"
     },
     "user_tz": -330
    },
    "id": "NgSO-24nXYGE",
    "outputId": "707e780a-a9d7-449b-ef0a-d37544d3f667"
   },
   "outputs": [
    {
     "data": {
      "text/plain": [
       "Text(0.5, 1.0, 'Histogram of Avg Anomaly Scores: Higher => More Anomalous')"
      ]
     },
     "execution_count": 20,
     "metadata": {},
     "output_type": "execute_result"
    },
    {
     "data": {
      "image/png": "[encoded data removed]",
      "text/plain": [
       "<Figure size 864x576 with 1 Axes>"
      ]
     },
     "metadata": {
      "needs_background": "light"
     },
     "output_type": "display_data"
    }
   ],
   "source": [
    "plt.figure(figsize=(12,8))\n",
    "\n",
    "#bins = np.linspace(0.0, 0.05)\n",
    "plt.hist(y_test_scores)\n",
    "\n",
    "plt.title('Histogram of Avg Anomaly Scores: Higher => More Anomalous')"
   ]
  },
  {
   "cell_type": "code",
   "execution_count": 21,
   "metadata": {
    "colab": {
     "base_uri": "https://localhost:8080/",
     "height": 319
    },
    "executionInfo": {
     "elapsed": 346083,
     "status": "ok",
     "timestamp": 1602446435755,
     "user": {
      "displayName": "KEERTHIVASINI R 1928036",
      "photoUrl": "https://lh3.googleusercontent.com/a-/AOh14GjE-mLKrJl0IuVyXmWK6gul8q-AjohuZGI_E5Ur=s64",
      "userId": "17476792325048702527"
     },
     "user_tz": -330
    },
    "id": "JmVp_o3-CPHf",
    "outputId": "3b885fc1-1a32-4168-c541-9a698469fa44"
   },
   "outputs": [
    {
     "name": "stdout",
     "output_type": "stream",
     "text": [
      "KNN errors: 10317\n",
      "Accuracy Score :\n",
      "0.8322520852641334\n",
      "Confusion matrix :\n",
      "[[50795  5757]\n",
      " [ 4560   391]]\n",
      "Classification Report :\n",
      "              precision    recall  f1-score   support\n",
      "\n",
      "           0       0.92      0.90      0.91     56552\n",
      "           1       0.06      0.08      0.07      4951\n",
      "\n",
      "    accuracy                           0.83     61503\n",
      "   macro avg       0.49      0.49      0.49     61503\n",
      "weighted avg       0.85      0.83      0.84     61503\n",
      "\n",
      "ROC AUC score is:  0.48858691574373264\n"
     ]
    }
   ],
   "source": [
    "from sklearn.metrics import classification_report,accuracy_score, f1_score, roc_auc_score\n",
    "from sklearn.metrics import confusion_matrix\n",
    "\n",
    "n_errors = (y_test_pred != y_test).sum()\n",
    "# Run Classification Metrics\n",
    "print(\"{}: {}\".format(\"KNN errors\",n_errors))\n",
    "print(\"Accuracy Score :\")\n",
    "print(accuracy_score(y_test,y_test_pred))\n",
    "print(\"Confusion matrix :\")\n",
    "print(confusion_matrix(y_test, y_test_pred))\n",
    "print(\"Classification Report :\")\n",
    "print(classification_report(y_test,y_test_pred))\n",
    "print(\"ROC AUC score is: \",roc_auc_score(y_test,y_test_pred))"
   ]
  },
  {
   "cell_type": "markdown",
   "metadata": {
    "id": "iT3X_qpECrYP"
   },
   "source": [
    "### iForest"
   ]
  },
  {
   "cell_type": "code",
   "execution_count": 22,
   "metadata": {
    "executionInfo": {
     "elapsed": 346077,
     "status": "ok",
     "timestamp": 1602446435760,
     "user": {
      "displayName": "KEERTHIVASINI R 1928036",
      "photoUrl": "https://lh3.googleusercontent.com/a-/AOh14GjE-mLKrJl0IuVyXmWK6gul8q-AjohuZGI_E5Ur=s64",
      "userId": "17476792325048702527"
     },
     "user_tz": -330
    },
    "id": "WivdLWntCrCZ"
   },
   "outputs": [],
   "source": [
    "from __future__ import division\n",
    "from __future__ import print_function"
   ]
  },
  {
   "cell_type": "code",
   "execution_count": 23,
   "metadata": {
    "executionInfo": {
     "elapsed": 346075,
     "status": "ok",
     "timestamp": 1602446435760,
     "user": {
      "displayName": "KEERTHIVASINI R 1928036",
      "photoUrl": "https://lh3.googleusercontent.com/a-/AOh14GjE-mLKrJl0IuVyXmWK6gul8q-AjohuZGI_E5Ur=s64",
      "userId": "17476792325048702527"
     },
     "user_tz": -330
    },
    "id": "1bvrLA2CDtHJ"
   },
   "outputs": [],
   "source": [
    "from pyod.models.iforest import IForest"
   ]
  },
  {
   "cell_type": "code",
   "execution_count": 24,
   "metadata": {
    "colab": {
     "base_uri": "https://localhost:8080/",
     "height": 124
    },
    "executionInfo": {
     "elapsed": 381357,
     "status": "ok",
     "timestamp": 1602446471056,
     "user": {
      "displayName": "KEERTHIVASINI R 1928036",
      "photoUrl": "https://lh3.googleusercontent.com/a-/AOh14GjE-mLKrJl0IuVyXmWK6gul8q-AjohuZGI_E5Ur=s64",
      "userId": "17476792325048702527"
     },
     "user_tz": -330
    },
    "id": "dCl35hr7ECWr",
    "outputId": "32632b2d-0166-469a-c097-da819d571d7a"
   },
   "outputs": [
    {
     "name": "stdout",
     "output_type": "stream",
     "text": [
      "\n",
      "On Training Data:\n",
      "IForest ROC:0.4717, precision @ rank n:0.0564\n",
      "\n",
      "On Test Data:\n",
      "IForest ROC:0.4742, precision @ rank n:0.0616\n"
     ]
    }
   ],
   "source": [
    "clf_name = 'IForest'\n",
    "clf = IForest(random_state=state)\n",
    "clf.fit(X_train)\n",
    "\n",
    "# get the prediction labels and outlier scores of the training data\n",
    "y_train_pred = clf.labels_  # binary labels (0: inliers, 1: outliers)\n",
    "y_train_scores = clf.decision_scores_  # raw outlier scores\n",
    "\n",
    "# get the prediction on the test data\n",
    "y_test_pred = clf.predict(X_test)  # outlier labels (0 or 1)\n",
    "y_test_scores = clf.decision_function(X_test)  # outlier scores\n",
    "\n",
    "# evaluate and print the results\n",
    "print(\"\\nOn Training Data:\")\n",
    "evaluate_print(clf_name, y_train, y_train_scores)\n",
    "print(\"\\nOn Test Data:\")\n",
    "evaluate_print(clf_name, y_test, y_test_scores)\n"
   ]
  },
  {
   "cell_type": "code",
   "execution_count": 25,
   "metadata": {
    "colab": {
     "base_uri": "https://localhost:8080/",
     "height": 516
    },
    "executionInfo": {
     "elapsed": 381347,
     "status": "ok",
     "timestamp": 1602446471058,
     "user": {
      "displayName": "KEERTHIVASINI R 1928036",
      "photoUrl": "https://lh3.googleusercontent.com/a-/AOh14GjE-mLKrJl0IuVyXmWK6gul8q-AjohuZGI_E5Ur=s64",
      "userId": "17476792325048702527"
     },
     "user_tz": -330
    },
    "id": "G-BjqLHjXJk1",
    "outputId": "55679587-cf6c-4e6c-e62f-d958c545eca5"
   },
   "outputs": [
    {
     "data": {
      "text/plain": [
       "Text(0.5, 1.0, 'Histogram')"
      ]
     },
     "execution_count": 25,
     "metadata": {},
     "output_type": "execute_result"
    },
    {
     "data": {
      "image/png": "[encoded data removed]",
      "text/plain": [
       "<Figure size 864x576 with 1 Axes>"
      ]
     },
     "metadata": {
      "needs_background": "light"
     },
     "output_type": "display_data"
    }
   ],
   "source": [
    "plt.figure(figsize=(12,8))\n",
    "\n",
    "bins = np.linspace(0.0, 0.05)\n",
    "plt.hist(y_test_scores, bins)\n",
    "\n",
    "plt.title('Histogram')"
   ]
  },
  {
   "cell_type": "code",
   "execution_count": 26,
   "metadata": {
    "colab": {
     "base_uri": "https://localhost:8080/",
     "height": 319
    },
    "executionInfo": {
     "elapsed": 381670,
     "status": "ok",
     "timestamp": 1602446471395,
     "user": {
      "displayName": "KEERTHIVASINI R 1928036",
      "photoUrl": "https://lh3.googleusercontent.com/a-/AOh14GjE-mLKrJl0IuVyXmWK6gul8q-AjohuZGI_E5Ur=s64",
      "userId": "17476792325048702527"
     },
     "user_tz": -330
    },
    "id": "-4bkvcSCEPU6",
    "outputId": "dbd2c724-0c76-4e59-8aa4-c267635f0691"
   },
   "outputs": [
    {
     "name": "stdout",
     "output_type": "stream",
     "text": [
      "Isolation Forest errors: 10330\n",
      "Accuracy Score :\n",
      "0.832040713461132\n",
      "Confusion matrix :\n",
      "[[50774  5778]\n",
      " [ 4552   399]]\n",
      "Classification Report :\n",
      "              precision    recall  f1-score   support\n",
      "\n",
      "           0       0.92      0.90      0.91     56552\n",
      "           1       0.06      0.08      0.07      4951\n",
      "\n",
      "    accuracy                           0.83     61503\n",
      "   macro avg       0.49      0.49      0.49     61503\n",
      "weighted avg       0.85      0.83      0.84     61503\n",
      "\n",
      "ROC AUC score is:  0.4892091635101373\n"
     ]
    }
   ],
   "source": [
    "n_errors = (y_test_pred != y_test).sum()\n",
    "# Run Classification Metrics\n",
    "print(\"{}: {}\".format(\"Isolation Forest errors\",n_errors))\n",
    "print(\"Accuracy Score :\")\n",
    "print(accuracy_score(y_test,y_test_pred))\n",
    "print(\"Confusion matrix :\")\n",
    "print(confusion_matrix(y_test, y_test_pred))\n",
    "print(\"Classification Report :\")\n",
    "print(classification_report(y_test,y_test_pred))\n",
    "print(\"ROC AUC score is: \",roc_auc_score(y_test,y_test_pred))"
   ]
  },
  {
   "cell_type": "markdown",
   "metadata": {
    "id": "0mdfu2MBUSdz"
   },
   "source": [
    "### Local Outlier Factor"
   ]
  },
  {
   "cell_type": "code",
   "execution_count": 27,
   "metadata": {
    "executionInfo": {
     "elapsed": 381668,
     "status": "ok",
     "timestamp": 1602446471396,
     "user": {
      "displayName": "KEERTHIVASINI R 1928036",
      "photoUrl": "https://lh3.googleusercontent.com/a-/AOh14GjE-mLKrJl0IuVyXmWK6gul8q-AjohuZGI_E5Ur=s64",
      "userId": "17476792325048702527"
     },
     "user_tz": -330
    },
    "id": "0vpNKlolH6de"
   },
   "outputs": [],
   "source": [
    "from pyod.models.lof import LOF"
   ]
  },
  {
   "cell_type": "code",
   "execution_count": 28,
   "metadata": {
    "colab": {
     "base_uri": "https://localhost:8080/",
     "height": 124
    },
    "executionInfo": {
     "elapsed": 444303,
     "status": "ok",
     "timestamp": 1602446534043,
     "user": {
      "displayName": "KEERTHIVASINI R 1928036",
      "photoUrl": "https://lh3.googleusercontent.com/a-/AOh14GjE-mLKrJl0IuVyXmWK6gul8q-AjohuZGI_E5Ur=s64",
      "userId": "17476792325048702527"
     },
     "user_tz": -330
    },
    "id": "F5G3ADwvIlLr",
    "outputId": "d680625f-7269-4d1c-dbba-cf29bed7eac4"
   },
   "outputs": [
    {
     "name": "stdout",
     "output_type": "stream",
     "text": [
      "\n",
      "On Training Data:\n",
      "LOF ROC:0.4895, precision @ rank n:0.075\n",
      "\n",
      "On Test Data:\n",
      "LOF ROC:0.4866, precision @ rank n:0.0735\n"
     ]
    }
   ],
   "source": [
    "clf_name = 'LOF'\n",
    "clf = LOF()\n",
    "clf.fit(X_train)\n",
    "\n",
    "# get the prediction labels and outlier scores of the training data\n",
    "y_train_pred = clf.labels_  # binary labels (0: inliers, 1: outliers)\n",
    "y_train_scores = clf.decision_scores_  # raw outlier scores\n",
    "\n",
    "# get the prediction on the test data\n",
    "y_test_pred = clf.predict(X_test)  # outlier labels (0 or 1)\n",
    "y_test_scores = clf.decision_function(X_test)  # outlier scores\n",
    "\n",
    "# evaluate and print the results\n",
    "print(\"\\nOn Training Data:\")\n",
    "evaluate_print(clf_name, y_train, y_train_scores)\n",
    "print(\"\\nOn Test Data:\")\n",
    "evaluate_print(clf_name, y_test, y_test_scores)"
   ]
  },
  {
   "cell_type": "code",
   "execution_count": 29,
   "metadata": {
    "colab": {
     "base_uri": "https://localhost:8080/",
     "height": 516
    },
    "executionInfo": {
     "elapsed": 444788,
     "status": "ok",
     "timestamp": 1602446534542,
     "user": {
      "displayName": "KEERTHIVASINI R 1928036",
      "photoUrl": "https://lh3.googleusercontent.com/a-/AOh14GjE-mLKrJl0IuVyXmWK6gul8q-AjohuZGI_E5Ur=s64",
      "userId": "17476792325048702527"
     },
     "user_tz": -330
    },
    "id": "SHkh4tWVTH_D",
    "outputId": "d9ed76e0-25fe-435d-99d3-3e99f81a969e"
   },
   "outputs": [
    {
     "data": {
      "text/plain": [
       "Text(0.5, 1.0, 'Histogram of Avg Anomaly Scores: Higher => More Anomalous')"
      ]
     },
     "execution_count": 29,
     "metadata": {},
     "output_type": "execute_result"
    },
    {
     "data": {
      "image/png": "[encoded data removed]",
      "text/plain": [
       "<Figure size 864x576 with 1 Axes>"
      ]
     },
     "metadata": {
      "needs_background": "light"
     },
     "output_type": "display_data"
    }
   ],
   "source": [
    "plt.figure(figsize=(12,8))\n",
    "\n",
    "bins = np.linspace(0.9, 2.25)\n",
    "plt.hist(y_test_scores, bins)\n",
    "\n",
    "plt.title('Histogram of Avg Anomaly Scores: Higher => More Anomalous')"
   ]
  },
  {
   "cell_type": "code",
   "execution_count": 30,
   "metadata": {
    "colab": {
     "base_uri": "https://localhost:8080/",
     "height": 319
    },
    "executionInfo": {
     "elapsed": 444777,
     "status": "ok",
     "timestamp": 1602446534543,
     "user": {
      "displayName": "KEERTHIVASINI R 1928036",
      "photoUrl": "https://lh3.googleusercontent.com/a-/AOh14GjE-mLKrJl0IuVyXmWK6gul8q-AjohuZGI_E5Ur=s64",
      "userId": "17476792325048702527"
     },
     "user_tz": -330
    },
    "id": "8NQqdfWFJQ_2",
    "outputId": "bf8dae99-3b2c-4ca8-b0b5-88e84b656830"
   },
   "outputs": [
    {
     "name": "stdout",
     "output_type": "stream",
     "text": [
      "Local Outlier Factor errors: 10433\n",
      "Accuracy Score :\n",
      "0.8303659984065818\n",
      "Confusion matrix :\n",
      "[[50600  5952]\n",
      " [ 4481   470]]\n",
      "Classification Report :\n",
      "              precision    recall  f1-score   support\n",
      "\n",
      "           0       0.92      0.89      0.91     56552\n",
      "           1       0.07      0.09      0.08      4951\n",
      "\n",
      "    accuracy                           0.83     61503\n",
      "   macro avg       0.50      0.49      0.49     61503\n",
      "weighted avg       0.85      0.83      0.84     61503\n",
      "\n",
      "ROC AUC score is:  0.4948410250130155\n"
     ]
    }
   ],
   "source": [
    "n_errors = (y_test_pred != y_test).sum()\n",
    "# Run Classification Metrics\n",
    "print(\"{}: {}\".format(\"Local Outlier Factor errors\",n_errors))\n",
    "print(\"Accuracy Score :\")\n",
    "print(accuracy_score(y_test,y_test_pred))\n",
    "print(\"Confusion matrix :\")\n",
    "print(confusion_matrix(y_test, y_test_pred))\n",
    "print(\"Classification Report :\")\n",
    "print(classification_report(y_test,y_test_pred))\n",
    "print(\"ROC AUC score is: \",roc_auc_score(y_test,y_test_pred))"
   ]
  },
  {
   "cell_type": "markdown",
   "metadata": {
    "id": "F8RWFVteZBvS"
   },
   "source": [
    "### Clustering-Based Local Outlier Factor"
   ]
  },
  {
   "cell_type": "code",
   "execution_count": 31,
   "metadata": {
    "executionInfo": {
     "elapsed": 444773,
     "status": "ok",
     "timestamp": 1602446534543,
     "user": {
      "displayName": "KEERTHIVASINI R 1928036",
      "photoUrl": "https://lh3.googleusercontent.com/a-/AOh14GjE-mLKrJl0IuVyXmWK6gul8q-AjohuZGI_E5Ur=s64",
      "userId": "17476792325048702527"
     },
     "user_tz": -330
    },
    "id": "wS2l9X4zYocA"
   },
   "outputs": [],
   "source": [
    "from pyod.models.cblof import CBLOF"
   ]
  },
  {
   "cell_type": "code",
   "execution_count": 32,
   "metadata": {
    "colab": {
     "base_uri": "https://localhost:8080/",
     "height": 124
    },
    "executionInfo": {
     "elapsed": 458671,
     "status": "ok",
     "timestamp": 1602446548452,
     "user": {
      "displayName": "KEERTHIVASINI R 1928036",
      "photoUrl": "https://lh3.googleusercontent.com/a-/AOh14GjE-mLKrJl0IuVyXmWK6gul8q-AjohuZGI_E5Ur=s64",
      "userId": "17476792325048702527"
     },
     "user_tz": -330
    },
    "id": "jaScozS0Yudb",
    "outputId": "d6fbf2e0-1645-43f9-afdb-c4e8b2a6b1be"
   },
   "outputs": [
    {
     "name": "stdout",
     "output_type": "stream",
     "text": [
      "\n",
      "On Training Data:\n",
      "CBLOF ROC:0.4739, precision @ rank n:0.0544\n",
      "\n",
      "On Test Data:\n",
      "CBLOF ROC:0.4845, precision @ rank n:0.0602\n"
     ]
    }
   ],
   "source": [
    "# train CBLOF detector\n",
    "clf_name = 'CBLOF'\n",
    "clf = CBLOF(random_state=state)\n",
    "clf.fit(X_train)\n",
    "\n",
    "# get the prediction labels and outlier scores of the training data\n",
    "y_train_pred = clf.labels_  # binary labels (0: inliers, 1: outliers)\n",
    "y_train_scores = clf.decision_scores_  # raw outlier scores\n",
    "\n",
    "# get the prediction on the test data\n",
    "y_test_pred = clf.predict(X_test)  # outlier labels (0 or 1)\n",
    "y_test_scores = clf.decision_function(X_test)  # outlier scores\n",
    "\n",
    "# evaluate and print the results\n",
    "print(\"\\nOn Training Data:\")\n",
    "evaluate_print(clf_name, y_train, y_train_scores)\n",
    "print(\"\\nOn Test Data:\")\n",
    "evaluate_print(clf_name, y_test, y_test_scores)"
   ]
  },
  {
   "cell_type": "code",
   "execution_count": 33,
   "metadata": {
    "colab": {
     "base_uri": "https://localhost:8080/",
     "height": 530
    },
    "executionInfo": {
     "elapsed": 458660,
     "status": "ok",
     "timestamp": 1602446548454,
     "user": {
      "displayName": "KEERTHIVASINI R 1928036",
      "photoUrl": "https://lh3.googleusercontent.com/a-/AOh14GjE-mLKrJl0IuVyXmWK6gul8q-AjohuZGI_E5Ur=s64",
      "userId": "17476792325048702527"
     },
     "user_tz": -330
    },
    "id": "lXfRChRxZao9",
    "outputId": "ca29ab39-5e43-427b-b3d0-8b54e14909b6"
   },
   "outputs": [
    {
     "data": {
      "text/plain": [
       "Text(0.5, 1.0, 'Histogram of Avg Anomaly Scores: Higher => More Anomalous')"
      ]
     },
     "execution_count": 33,
     "metadata": {},
     "output_type": "execute_result"
    },
    {
     "data": {
      "image/png": "[encoded data removed]",
      "text/plain": [
       "<Figure size 864x576 with 1 Axes>"
      ]
     },
     "metadata": {
      "needs_background": "light"
     },
     "output_type": "display_data"
    }
   ],
   "source": [
    "plt.figure(figsize=(12,8))\n",
    "\n",
    "#bins = np.linspace(0.0, 1.25)\n",
    "plt.hist(y_test_scores)\n",
    "\n",
    "plt.title('Histogram of Avg Anomaly Scores: Higher => More Anomalous')"
   ]
  },
  {
   "cell_type": "code",
   "execution_count": 34,
   "metadata": {
    "colab": {
     "base_uri": "https://localhost:8080/",
     "height": 319
    },
    "executionInfo": {
     "elapsed": 459281,
     "status": "ok",
     "timestamp": 1602446549088,
     "user": {
      "displayName": "KEERTHIVASINI R 1928036",
      "photoUrl": "https://lh3.googleusercontent.com/a-/AOh14GjE-mLKrJl0IuVyXmWK6gul8q-AjohuZGI_E5Ur=s64",
      "userId": "17476792325048702527"
     },
     "user_tz": -330
    },
    "id": "73nhL8zOY6pU",
    "outputId": "0414604e-23f1-43d1-b668-6c02cfbc1d86"
   },
   "outputs": [
    {
     "name": "stdout",
     "output_type": "stream",
     "text": [
      "Clustering-Based Local Outlier Factor errors: 10428\n",
      "Accuracy Score :\n",
      "0.83044729525389\n",
      "Confusion matrix :\n",
      "[[50700  5852]\n",
      " [ 4576   375]]\n",
      "Classification Report :\n",
      "              precision    recall  f1-score   support\n",
      "\n",
      "           0       0.92      0.90      0.91     56552\n",
      "           1       0.06      0.08      0.07      4951\n",
      "\n",
      "    accuracy                           0.83     61503\n",
      "   macro avg       0.49      0.49      0.49     61503\n",
      "weighted avg       0.85      0.83      0.84     61503\n",
      "\n",
      "ROC AUC score is:  0.48613114563177484\n"
     ]
    }
   ],
   "source": [
    "n_errors = (y_test_pred != y_test).sum()\n",
    "# Run Classification Metrics\n",
    "print(\"{}: {}\".format(\"Clustering-Based Local Outlier Factor errors\",n_errors))\n",
    "print(\"Accuracy Score :\")\n",
    "print(accuracy_score(y_test,y_test_pred))\n",
    "print(\"Confusion matrix :\")\n",
    "print(confusion_matrix(y_test, y_test_pred))\n",
    "print(\"Classification Report :\")\n",
    "print(classification_report(y_test,y_test_pred))\n",
    "print(\"ROC AUC score is: \",roc_auc_score(y_test,y_test_pred))"
   ]
  },
  {
   "cell_type": "markdown",
   "metadata": {
    "id": "qH_xuTwsN3aK"
   },
   "source": [
    "### Principal component analysis"
   ]
  },
  {
   "cell_type": "code",
   "execution_count": 35,
   "metadata": {
    "executionInfo": {
     "elapsed": 459281,
     "status": "ok",
     "timestamp": 1602446549091,
     "user": {
      "displayName": "KEERTHIVASINI R 1928036",
      "photoUrl": "https://lh3.googleusercontent.com/a-/AOh14GjE-mLKrJl0IuVyXmWK6gul8q-AjohuZGI_E5Ur=s64",
      "userId": "17476792325048702527"
     },
     "user_tz": -330
    },
    "id": "1-jhpDtSNvem"
   },
   "outputs": [],
   "source": [
    "from pyod.models.pca import PCA"
   ]
  },
  {
   "cell_type": "code",
   "execution_count": 36,
   "metadata": {
    "colab": {
     "base_uri": "https://localhost:8080/",
     "height": 124
    },
    "executionInfo": {
     "elapsed": 460551,
     "status": "ok",
     "timestamp": 1602446550372,
     "user": {
      "displayName": "KEERTHIVASINI R 1928036",
      "photoUrl": "https://lh3.googleusercontent.com/a-/AOh14GjE-mLKrJl0IuVyXmWK6gul8q-AjohuZGI_E5Ur=s64",
      "userId": "17476792325048702527"
     },
     "user_tz": -330
    },
    "id": "iJUrHu9fNzh-",
    "outputId": "92a5dd60-45e1-4791-f845-22dc1c80f4bd"
   },
   "outputs": [
    {
     "name": "stdout",
     "output_type": "stream",
     "text": [
      "\n",
      "On Training Data:\n",
      "PCA ROC:0.4953, precision @ rank n:0.0632\n",
      "\n",
      "On Test Data:\n",
      "PCA ROC:0.4949, precision @ rank n:0.0669\n"
     ]
    }
   ],
   "source": [
    "clf_name = 'PCA'\n",
    "clf = PCA(n_components=2,random_state=state)\n",
    "clf.fit(X_train)\n",
    "\n",
    "# get the prediction labels and outlier scores of the training data\n",
    "y_train_pred = clf.labels_  # binary labels (0: inliers, 1: outliers)\n",
    "y_train_scores = clf.decision_scores_  # raw outlier scores\n",
    "\n",
    "# get the prediction on the test data\n",
    "y_test_pred = clf.predict(X_test)  # outlier labels (0 or 1)\n",
    "y_test_scores = clf.decision_function(X_test)  # outlier scores\n",
    "\n",
    "# evaluate and print the results\n",
    "print(\"\\nOn Training Data:\")\n",
    "evaluate_print(clf_name, y_train, y_train_scores)\n",
    "print(\"\\nOn Test Data:\")\n",
    "evaluate_print(clf_name, y_test, y_test_scores)"
   ]
  },
  {
   "cell_type": "code",
   "execution_count": 37,
   "metadata": {
    "colab": {
     "base_uri": "https://localhost:8080/",
     "height": 516
    },
    "executionInfo": {
     "elapsed": 461490,
     "status": "ok",
     "timestamp": 1602446551321,
     "user": {
      "displayName": "KEERTHIVASINI R 1928036",
      "photoUrl": "https://lh3.googleusercontent.com/a-/AOh14GjE-mLKrJl0IuVyXmWK6gul8q-AjohuZGI_E5Ur=s64",
      "userId": "17476792325048702527"
     },
     "user_tz": -330
    },
    "id": "28uP1jQ7XTQ-",
    "outputId": "8f2060be-5ac7-4ee0-b2bb-3a2aebc77d21"
   },
   "outputs": [
    {
     "data": {
      "text/plain": [
       "Text(0.5, 1.0, 'Histogram of Avg Anomaly Scores: Higher => More Anomalous')"
      ]
     },
     "execution_count": 37,
     "metadata": {},
     "output_type": "execute_result"
    },
    {
     "data": {
      "image/png": "[encoded data removed]",
      "text/plain": [
       "<Figure size 864x576 with 1 Axes>"
      ]
     },
     "metadata": {
      "needs_background": "light"
     },
     "output_type": "display_data"
    }
   ],
   "source": [
    "plt.figure(figsize=(12,8))\n",
    "\n",
    "bins = np.linspace(0,500)\n",
    "plt.hist(y_test_scores,bins)\n",
    "\n",
    "plt.title('Histogram of Avg Anomaly Scores: Higher => More Anomalous')"
   ]
  },
  {
   "cell_type": "code",
   "execution_count": 38,
   "metadata": {
    "colab": {
     "base_uri": "https://localhost:8080/",
     "height": 319
    },
    "executionInfo": {
     "elapsed": 461482,
     "status": "ok",
     "timestamp": 1602446551324,
     "user": {
      "displayName": "KEERTHIVASINI R 1928036",
      "photoUrl": "https://lh3.googleusercontent.com/a-/AOh14GjE-mLKrJl0IuVyXmWK6gul8q-AjohuZGI_E5Ur=s64",
      "userId": "17476792325048702527"
     },
     "user_tz": -330
    },
    "id": "EDD7oxwtOGZW",
    "outputId": "c347363c-3b65-4e05-b50d-ec0685bfc5e5"
   },
   "outputs": [
    {
     "name": "stdout",
     "output_type": "stream",
     "text": [
      "Principal component analysis errors: 10306\n",
      "Accuracy Score :\n",
      "0.8324309383282116\n",
      "Confusion matrix :\n",
      "[[50787  5765]\n",
      " [ 4541   410]]\n",
      "Classification Report :\n",
      "              precision    recall  f1-score   support\n",
      "\n",
      "           0       0.92      0.90      0.91     56552\n",
      "           1       0.07      0.08      0.07      4951\n",
      "\n",
      "    accuracy                           0.83     61503\n",
      "   macro avg       0.49      0.49      0.49     61503\n",
      "weighted avg       0.85      0.83      0.84     61503\n",
      "\n",
      "ROC AUC score is:  0.49043498866340984\n"
     ]
    }
   ],
   "source": [
    "n_errors = (y_test_pred != y_test).sum()\n",
    "# Run Classification Metrics\n",
    "print(\"{}: {}\".format(\"Principal component analysis errors\",n_errors))\n",
    "print(\"Accuracy Score :\")\n",
    "print(accuracy_score(y_test,y_test_pred))\n",
    "print(\"Confusion matrix :\")\n",
    "print(confusion_matrix(y_test, y_test_pred))\n",
    "print(\"Classification Report :\")\n",
    "print(classification_report(y_test,y_test_pred))\n",
    "print(\"ROC AUC score is: \",roc_auc_score(y_test,y_test_pred))"
   ]
  },
  {
   "cell_type": "markdown",
   "metadata": {
    "id": "SpmyCwfZYRH2"
   },
   "source": [
    "### Histogram-based Outlier Score"
   ]
  },
  {
   "cell_type": "code",
   "execution_count": 39,
   "metadata": {
    "executionInfo": {
     "elapsed": 461481,
     "status": "ok",
     "timestamp": 1602446551326,
     "user": {
      "displayName": "KEERTHIVASINI R 1928036",
      "photoUrl": "https://lh3.googleusercontent.com/a-/AOh14GjE-mLKrJl0IuVyXmWK6gul8q-AjohuZGI_E5Ur=s64",
      "userId": "17476792325048702527"
     },
     "user_tz": -330
    },
    "id": "VQCx4AzMX3tt"
   },
   "outputs": [],
   "source": [
    "from pyod.models.hbos import HBOS"
   ]
  },
  {
   "cell_type": "code",
   "execution_count": 40,
   "metadata": {
    "colab": {
     "base_uri": "https://localhost:8080/",
     "height": 124
    },
    "executionInfo": {
     "elapsed": 464018,
     "status": "ok",
     "timestamp": 1602446553874,
     "user": {
      "displayName": "KEERTHIVASINI R 1928036",
      "photoUrl": "https://lh3.googleusercontent.com/a-/AOh14GjE-mLKrJl0IuVyXmWK6gul8q-AjohuZGI_E5Ur=s64",
      "userId": "17476792325048702527"
     },
     "user_tz": -330
    },
    "id": "R13KZ5UZX7nA",
    "outputId": "90d5c656-3341-4274-c812-b861c417c254"
   },
   "outputs": [
    {
     "name": "stdout",
     "output_type": "stream",
     "text": [
      "\n",
      "On Training Data:\n",
      "HBOS ROC:0.4804, precision @ rank n:0.0567\n",
      "\n",
      "On Test Data:\n",
      "HBOS ROC:0.4813, precision @ rank n:0.0669\n"
     ]
    }
   ],
   "source": [
    "clf_name = 'HBOS'\n",
    "clf = HBOS()\n",
    "clf.fit(X_train)\n",
    "\n",
    "# get the prediction labels and outlier scores of the training data\n",
    "y_train_pred = clf.labels_  # binary labels (0: inliers, 1: outliers)\n",
    "y_train_scores = clf.decision_scores_  # raw outlier scores\n",
    "\n",
    "# get the prediction on the test data\n",
    "y_test_pred = clf.predict(X_test)  # outlier labels (0 or 1)\n",
    "y_test_scores = clf.decision_function(X_test)  # outlier scores\n",
    "\n",
    "# evaluate and print the results\n",
    "print(\"\\nOn Training Data:\")\n",
    "evaluate_print(clf_name, y_train, y_train_scores)\n",
    "print(\"\\nOn Test Data:\")\n",
    "evaluate_print(clf_name, y_test, y_test_scores)"
   ]
  },
  {
   "cell_type": "code",
   "execution_count": 41,
   "metadata": {
    "colab": {
     "base_uri": "https://localhost:8080/",
     "height": 516
    },
    "executionInfo": {
     "elapsed": 464753,
     "status": "ok",
     "timestamp": 1602446554623,
     "user": {
      "displayName": "KEERTHIVASINI R 1928036",
      "photoUrl": "https://lh3.googleusercontent.com/a-/AOh14GjE-mLKrJl0IuVyXmWK6gul8q-AjohuZGI_E5Ur=s64",
      "userId": "17476792325048702527"
     },
     "user_tz": -330
    },
    "id": "JGkKyXSgYbjS",
    "outputId": "bcce828f-3269-4370-bd0a-43b86a48404b"
   },
   "outputs": [
    {
     "data": {
      "text/plain": [
       "Text(0.5, 1.0, 'Histogram')"
      ]
     },
     "execution_count": 41,
     "metadata": {},
     "output_type": "execute_result"
    },
    {
     "data": {
      "image/png": "[encoded data removed]",
      "text/plain": [
       "<Figure size 864x576 with 1 Axes>"
      ]
     },
     "metadata": {
      "needs_background": "light"
     },
     "output_type": "display_data"
    }
   ],
   "source": [
    "plt.figure(figsize=(12,8))\n",
    "\n",
    "bins = np.linspace(0, 6)\n",
    "plt.hist(y_test_scores, bins)\n",
    "\n",
    "plt.title('Histogram')"
   ]
  },
  {
   "cell_type": "code",
   "execution_count": 42,
   "metadata": {
    "colab": {
     "base_uri": "https://localhost:8080/",
     "height": 319
    },
    "executionInfo": {
     "elapsed": 464745,
     "status": "ok",
     "timestamp": 1602446554625,
     "user": {
      "displayName": "KEERTHIVASINI R 1928036",
      "photoUrl": "https://lh3.googleusercontent.com/a-/AOh14GjE-mLKrJl0IuVyXmWK6gul8q-AjohuZGI_E5Ur=s64",
      "userId": "17476792325048702527"
     },
     "user_tz": -330
    },
    "id": "O-7Jyy7cYJLO",
    "outputId": "c3b0137d-fe60-4ff8-cf85-7dade0611c59"
   },
   "outputs": [
    {
     "name": "stdout",
     "output_type": "stream",
     "text": [
      "Histogram-based Outlier Score errors: 10301\n",
      "Accuracy Score :\n",
      "0.8325122351755199\n",
      "Confusion matrix :\n",
      "[[50801  5751]\n",
      " [ 4550   401]]\n",
      "Classification Report :\n",
      "              precision    recall  f1-score   support\n",
      "\n",
      "           0       0.92      0.90      0.91     56552\n",
      "           1       0.07      0.08      0.07      4951\n",
      "\n",
      "    accuracy                           0.83     61503\n",
      "   macro avg       0.49      0.49      0.49     61503\n",
      "weighted avg       0.85      0.83      0.84     61503\n",
      "\n",
      "ROC AUC score is:  0.4896498612559541\n"
     ]
    }
   ],
   "source": [
    "n_errors = (y_test_pred != y_test).sum()\n",
    "# Run Classification Metrics\n",
    "print(\"{}: {}\".format(\"Histogram-based Outlier Score errors\",n_errors))\n",
    "print(\"Accuracy Score :\")\n",
    "print(accuracy_score(y_test,y_test_pred))\n",
    "print(\"Confusion matrix :\")\n",
    "print(confusion_matrix(y_test, y_test_pred))\n",
    "print(\"Classification Report :\")\n",
    "print(classification_report(y_test,y_test_pred))\n",
    "print(\"ROC AUC score is: \",roc_auc_score(y_test,y_test_pred))"
   ]
  }
 ],
 "metadata": {
  "colab": {
   "collapsed_sections": [
    "2Or-6Pc1V8YZ",
    "kEX78jgsV8Ya",
    "f0grrOTyV8Yn",
    "DJN5pseXV8Yw",
    "2P6IbUlKV8Y1",
    "xuNb-q3JV8Y6",
    "dhoEwJXKV8Y-",
    "HAm57N3gV8ZC",
    "WwTwHdUFV8ZG",
    "xR6VXwaEV8ZK",
    "IEh75SD_V8ZN",
    "u1Z_kP9NV8ZQ",
    "QqQWAjnVV8ZU",
    "4QQ104eSV8Za",
    "yvhmm7AAV8Zp",
    "m_O9d2EfV8Zs",
    "dALem1rWV8Zw",
    "DZRhaa99V8Z0",
    "smrF9a8RV8aL",
    "sZy2pt4ZV8aP",
    "poF3guaaV8aU",
    "SIupz7FjV8aY",
    "bj6PimmXV8ab",
    "51w4zQoOV8ag",
    "Shac1JYdV8ap",
    "wbzCQKvOV8a9",
    "l7fXmho-V8bC",
    "EIUOQbUfV8bV",
    "sbylW44lV8cX",
    "cGeupWBGV8ce"
   ],
   "name": "Capstone using PyOD.ipynb",
   "provenance": []
  },
  "kernelspec": {
   "display_name": "Python 3",
   "language": "python",
   "name": "python3"
  },
  "language_info": {
   "codemirror_mode": {
    "name": "ipython",
    "version": 3
   },
   "file_extension": ".py",
   "mimetype": "text/x-python",
   "name": "python",
   "nbconvert_exporter": "python",
   "pygments_lexer": "ipython3",
   "version": "3.7.6"
  }
 },
 "nbformat": 4,
 "nbformat_minor": 1
}
